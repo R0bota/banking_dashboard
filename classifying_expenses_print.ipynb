{
 "cells": [
  {
   "cell_type": "code",
   "execution_count": 93,
   "metadata": {
    "scrolled": false
   },
   "outputs": [
    {
     "name": "stdout",
     "output_type": "stream",
     "text": [
      "Index(['22.08.2019', 'ERSTLASTSCHRIFT', 'DE67 7005 0000 0003 0240 50',\n",
      "       '-51,92'],\n",
      "      dtype='object')\n",
      "(202, 4)\n"
     ]
    }
   ],
   "source": [
    "import tabula\n",
    "import numpy as np\n",
    "import pandas as pd\n",
    "import plotly.graph_objects as go\n",
    "import plotly.express as px\n",
    "\n",
    "# read in pdf\n",
    "df = tabula.read_pdf('data/giro_2019.pdf', pages = 'all')\n",
    "\n",
    "# inspect table\n",
    "print(df.columns)\n",
    "print(df.shape)\n",
    "\n",
    "# move header to first row\n",
    "df.loc[-1] = df.columns # adding a row\n",
    "df.index = df.index + 1  # shifting index\n",
    "df.sort_index(inplace=True) \n",
    "\n",
    "# rename columns\n",
    "df.columns = [\"date\", \"subject\", \"account\", \"amount\"]\n",
    "\n",
    "# get NA columns\n",
    "na_index  = (df[\"amount\"].isna().index[df[\"amount\"].isna() == False].tolist())\n",
    "\n",
    "# concatenate subjects which actually belong together\n",
    "s = \" \"\n",
    "for i in range(0, len(na_index) - 1):\n",
    "    df.iloc[na_index[i], 1] = s.join(df.iloc[range(na_index[i], na_index[i+1]), 1])\n",
    "\n",
    "# remove rows with NA\n",
    "df = df[pd.notnull(df['amount'])]\n",
    "\n",
    "# replace NULL with 0\n",
    "df = df.fillna('0,0')\n",
    "\n",
    "# convert to numerics\n",
    "for i in range(0, df.shape[0]):\n",
    "    df.iloc[i, 3] = df.iloc[i, 3].replace('.', '')\n",
    "    df.iloc[i, 3] = float(df.iloc[i, 3].replace(',', '.'))\n",
    "    \n",
    "# drop incomes\n",
    "df = df[df['amount'] < 0]\n",
    "\n",
    "# drop credit card settlements\n",
    "df = df[df['account'] != '9003290294']"
   ]
  },
  {
   "cell_type": "code",
   "execution_count": 115,
   "metadata": {
    "scrolled": true
   },
   "outputs": [
    {
     "name": "stdout",
     "output_type": "stream",
     "text": [
      "31                                           Lastschrift\n",
      "110    Lastschrift Stadt Simbach a. Inn 3758 .FAD 375...\n",
      "119                            Kartenzahlung/-abrechnung\n",
      "159                                          Überweisung\n",
      "202                                          Lastschrift\n",
      "Name: subject, dtype: object\n"
     ]
    }
   ],
   "source": [
    "# cluster dictionary\n",
    "cluster = {\n",
    "    'grocery': ['NAHKAUF', 'EDEKA'],\n",
    "    'travel':     ['ARAL', 'DB', 'BP', 'HMS HUETTEN-MIET', 'ZVKDZ', 'PP.9048.PP'],\n",
    "    'cash':    ['hypo'],\n",
    "    'debt': ['Bundeskasse'],\n",
    "    'run_costs': ['E-Plus', 'ALLIANZ AG', 'M-net', 'HE-1008-2831', 'ALLIANZ DEUTSCHLAND'],\n",
    "    'shopping': ['AMAZON', 'STRATIC', 'MINIT'],\n",
    "    'property': ['Abfallwirtschaftsverband', 'KAMINKEHRERMEISTER', 'Schmutzwassergeb.'],\n",
    "    'actions': ['Kochkurs']\n",
    "}\n",
    "\n",
    "df['cluster'] = ''\n",
    "\n",
    "# assign bookings to cluster\n",
    "for x in df['subject']:\n",
    "    for y in cluster:\n",
    "        for z in cluster[y]:\n",
    "            if (z in x):\n",
    "                df.loc[df['subject'] == x, 'cluster'] = y\n",
    "                \n",
    "# show items not assigned\n",
    "if len(df.loc[df['cluster'] == '', 'subject']) == 0:\n",
    "    print('all items assigned')\n",
    "else:\n",
    "    print(df.loc[df['cluster'] == '', 'subject'])\n",
    "    \n",
    "df.loc[df['cluster'] == '', 'cluster'] = 'other'"
   ]
  },
  {
   "cell_type": "code",
   "execution_count": 116,
   "metadata": {
    "scrolled": false
   },
   "outputs": [
    {
     "data": {
      "application/vnd.plotly.v1+json": {
       "config": {
        "plotlyServerURL": "https://plot.ly"
       },
       "data": [
        {
         "hoverinfo": "text",
         "hovertext": [
          "ERSTLASTSCHRIFT Versicherungskammer Bayern HAFT UNF HE-1008-2831 14.08.2019",
          "ONLINE-UEBERWEISUNG ZVKDZ OBERLAND Aktenzeichen 271953833 - M-WU:3688 - 18.08.2019 DATUM 21.08.2019, 18.10 UHR1.TAN 076186",
          "Kartenzahlung/-abrechnung BP TANKSTELLE//STEINACH AM B/AT/1 2019-08-18T08:23 Debitk.0 2099-12",
          "Lastschrift M-net Telekommunikations GmbH D-Nr M501432264, /INV/201907323841 vom 13.08.2019, TELEFONIE Juli 2019, ZahlB 1302948913 ABWA+M-net Telek. GmbH",
          "Kartenzahlung/-abrechnung 858 EDEKA M LINDWURMSTR//MUENCH EN/DE 2019-08-19T17:31 Debitk.0 2022-12",
          "Lastschrift",
          "Überweisung ANDREAS HUBER KAMINKEHRERMEISTERB ETRIEB vom: 05.06.2019 / 5-4-19 DATUM 21.06.2019, 10.04 UHR1.TAN 069409",
          "Lastschrift Stadt Simbach a. Inn 3758 .FAD 3758-2 Schmutzwassergeb. Moosecker Str.19/ 35,00/17.06.19FAD 3758-2 Niederschlagswassergeb..",
          "Lastschrift E-Plus Service GmbH Aufladung bei geringem Guthaben fuer Ihr Prepaid- Konto 4915730733922-8429. Aldi Talk sagt DANKE",
          "Kartenzahlung/-abrechnung DB AUTOMAT//MUENCHEN HBF/DE 2019-06-07T20:34 Debitk.0 2022-12",
          "Überweisung HMS HUETTEN-MIET- SERVICE GMBH 139185 DATUM 17.05.2019, 16.54 UHR1.TAN 895929",
          "Kartenzahlung/-abrechnung 858 EDEKA M LINDWURMSTR//MUENCH EN/DE 2019-05-16T15:33 Debitk.0 2022-12",
          "Lastschrift PayPal (Europe) S.a.r.l. et Cie., S.C.A. PP.9048.PP . , Ihr Einkauf bei",
          "Kartenzahlung/-abrechnung NAHKAUF FRISCHEMARKT//Muenche n/DE 2019-05-14T17:40 Debitk.0 2022-12",
          "Lastschrift E-Plus Service GmbH Aufladung bei geringem Guthaben fuer Ihr Prepaid- Konto 4915730733922-8429. Aldi Talk sagt DANKE",
          "Lastschrift Abfallwirtschaftsverband Isar-Inn 72625/72625-1 Abfallgebuehr 2019 Moosecker Str. 19 ABWA+AWV Isar-Inn",
          "Lastschrift Stadt Simbach a. Inn 3758 .FAD 3758-1 GrSt Moosecker Str.19, Einfamilien/ 10,59/15.05.19",
          "Kartenzahlung/-abrechnung DB AUTOMAT//ECHING/DE 2019-05-13T15:23 Debitk.0 2022-12",
          "Kartenzahlung/-abrechnung",
          "Kartenzahlung/-abrechnung MINIT SERVICE GMBH//MUENCHEN- NEUPERLAC/DE 2019-01-24T17:26 Debitk.0 2022-12",
          "Lastschrift E-Plus Service GmbH Aufladung bei geringem Guthaben fuer Ihr Prepaid- Konto 4915730733922-8429. Aldi Talk sagt DANKE",
          "Kartenzahlung/-abrechnung ALLIANZ DEUTSCHLAND AG//MUENCHEN/DE 2019-01-17T18:17 Debitk.0 2022-12",
          "Lastschrift M-net Telekommunikations GmbH D-Nr M501432264, /INV/201812341912 vom 14.01.2019, TELEFONIE Dezember 2018, ZahlB 1300233023 ABWA+M-net Telek. GmbH",
          "Kartenzahlung/-abrechnung 858 EDEKA M LINDWURMSTR//MUENCH EN/DE 2019-01-19T11:27 Debitk.0 2022-12",
          "Überweisung",
          "Lastschrift AMAZON MEDIA EU S.A R.L. D01-6605248-6379808 Kindle Svcs 8IAEMHQGSN682B02",
          "Kartenzahlung/-abrechnung 858 EDEKA M LINDWURMSTR//MUENCH EN/DE 2019-01-07T18:53 Debitk.0 2022-12",
          "Überweisung JANA BETZOLD Kochkurs ORIENTAL SOULFOOD - 12.04.2019 - Robert Hager DATUM 04.01.2019, 14.17 UHR1.TAN 798628",
          "Lastschrift AMAZON PAYMENTS EUROPE S.C.A. 302-7877438-6053127 AMZN Mktp DE 1699987346914266",
          "Kartenzahlung/-abrechnung 858 EDEKA M LINDWURMSTR//MUENCH EN/DE 2019-01-03T17:55 Debitk.0 2022-12",
          "Lastschrift"
         ],
         "marker": {
          "color": "rgb(158, 202, 225)",
          "line": {
           "color": "rgb(8, 48, 107)",
           "width": 1.5
          }
         },
         "opacity": 0.6,
         "type": "bar",
         "x": [
          "run_costs",
          "travel",
          "travel",
          "run_costs",
          "grocery",
          "other",
          "property",
          "property",
          "run_costs",
          "travel",
          "travel",
          "grocery",
          "travel",
          "grocery",
          "run_costs",
          "property",
          "other",
          "travel",
          "other",
          "shopping",
          "run_costs",
          "run_costs",
          "run_costs",
          "grocery",
          "other",
          "shopping",
          "grocery",
          "actions",
          "shopping",
          "grocery",
          "other"
         ],
         "y": [
          -51.92,
          -15,
          -32.9,
          -29.89,
          -8.2,
          -10.59,
          -28.58,
          -81,
          -15,
          -31,
          -473,
          -6.64,
          -78.39,
          -18.04,
          -15,
          -17.43,
          -10.59,
          -3,
          -13.45,
          -3.95,
          -15,
          -50,
          -29.89,
          -12.91,
          -89.7,
          -8.99,
          -8.76,
          -198,
          -45.98,
          -5.19,
          -315
         ]
        }
       ],
       "layout": {
        "template": {
         "data": {
          "bar": [
           {
            "error_x": {
             "color": "#2a3f5f"
            },
            "error_y": {
             "color": "#2a3f5f"
            },
            "marker": {
             "line": {
              "color": "#E5ECF6",
              "width": 0.5
             }
            },
            "type": "bar"
           }
          ],
          "barpolar": [
           {
            "marker": {
             "line": {
              "color": "#E5ECF6",
              "width": 0.5
             }
            },
            "type": "barpolar"
           }
          ],
          "carpet": [
           {
            "aaxis": {
             "endlinecolor": "#2a3f5f",
             "gridcolor": "white",
             "linecolor": "white",
             "minorgridcolor": "white",
             "startlinecolor": "#2a3f5f"
            },
            "baxis": {
             "endlinecolor": "#2a3f5f",
             "gridcolor": "white",
             "linecolor": "white",
             "minorgridcolor": "white",
             "startlinecolor": "#2a3f5f"
            },
            "type": "carpet"
           }
          ],
          "choropleth": [
           {
            "colorbar": {
             "outlinewidth": 0,
             "ticks": ""
            },
            "type": "choropleth"
           }
          ],
          "contour": [
           {
            "colorbar": {
             "outlinewidth": 0,
             "ticks": ""
            },
            "colorscale": [
             [
              0,
              "#0d0887"
             ],
             [
              0.1111111111111111,
              "#46039f"
             ],
             [
              0.2222222222222222,
              "#7201a8"
             ],
             [
              0.3333333333333333,
              "#9c179e"
             ],
             [
              0.4444444444444444,
              "#bd3786"
             ],
             [
              0.5555555555555556,
              "#d8576b"
             ],
             [
              0.6666666666666666,
              "#ed7953"
             ],
             [
              0.7777777777777778,
              "#fb9f3a"
             ],
             [
              0.8888888888888888,
              "#fdca26"
             ],
             [
              1,
              "#f0f921"
             ]
            ],
            "type": "contour"
           }
          ],
          "contourcarpet": [
           {
            "colorbar": {
             "outlinewidth": 0,
             "ticks": ""
            },
            "type": "contourcarpet"
           }
          ],
          "heatmap": [
           {
            "colorbar": {
             "outlinewidth": 0,
             "ticks": ""
            },
            "colorscale": [
             [
              0,
              "#0d0887"
             ],
             [
              0.1111111111111111,
              "#46039f"
             ],
             [
              0.2222222222222222,
              "#7201a8"
             ],
             [
              0.3333333333333333,
              "#9c179e"
             ],
             [
              0.4444444444444444,
              "#bd3786"
             ],
             [
              0.5555555555555556,
              "#d8576b"
             ],
             [
              0.6666666666666666,
              "#ed7953"
             ],
             [
              0.7777777777777778,
              "#fb9f3a"
             ],
             [
              0.8888888888888888,
              "#fdca26"
             ],
             [
              1,
              "#f0f921"
             ]
            ],
            "type": "heatmap"
           }
          ],
          "heatmapgl": [
           {
            "colorbar": {
             "outlinewidth": 0,
             "ticks": ""
            },
            "colorscale": [
             [
              0,
              "#0d0887"
             ],
             [
              0.1111111111111111,
              "#46039f"
             ],
             [
              0.2222222222222222,
              "#7201a8"
             ],
             [
              0.3333333333333333,
              "#9c179e"
             ],
             [
              0.4444444444444444,
              "#bd3786"
             ],
             [
              0.5555555555555556,
              "#d8576b"
             ],
             [
              0.6666666666666666,
              "#ed7953"
             ],
             [
              0.7777777777777778,
              "#fb9f3a"
             ],
             [
              0.8888888888888888,
              "#fdca26"
             ],
             [
              1,
              "#f0f921"
             ]
            ],
            "type": "heatmapgl"
           }
          ],
          "histogram": [
           {
            "marker": {
             "colorbar": {
              "outlinewidth": 0,
              "ticks": ""
             }
            },
            "type": "histogram"
           }
          ],
          "histogram2d": [
           {
            "colorbar": {
             "outlinewidth": 0,
             "ticks": ""
            },
            "colorscale": [
             [
              0,
              "#0d0887"
             ],
             [
              0.1111111111111111,
              "#46039f"
             ],
             [
              0.2222222222222222,
              "#7201a8"
             ],
             [
              0.3333333333333333,
              "#9c179e"
             ],
             [
              0.4444444444444444,
              "#bd3786"
             ],
             [
              0.5555555555555556,
              "#d8576b"
             ],
             [
              0.6666666666666666,
              "#ed7953"
             ],
             [
              0.7777777777777778,
              "#fb9f3a"
             ],
             [
              0.8888888888888888,
              "#fdca26"
             ],
             [
              1,
              "#f0f921"
             ]
            ],
            "type": "histogram2d"
           }
          ],
          "histogram2dcontour": [
           {
            "colorbar": {
             "outlinewidth": 0,
             "ticks": ""
            },
            "colorscale": [
             [
              0,
              "#0d0887"
             ],
             [
              0.1111111111111111,
              "#46039f"
             ],
             [
              0.2222222222222222,
              "#7201a8"
             ],
             [
              0.3333333333333333,
              "#9c179e"
             ],
             [
              0.4444444444444444,
              "#bd3786"
             ],
             [
              0.5555555555555556,
              "#d8576b"
             ],
             [
              0.6666666666666666,
              "#ed7953"
             ],
             [
              0.7777777777777778,
              "#fb9f3a"
             ],
             [
              0.8888888888888888,
              "#fdca26"
             ],
             [
              1,
              "#f0f921"
             ]
            ],
            "type": "histogram2dcontour"
           }
          ],
          "mesh3d": [
           {
            "colorbar": {
             "outlinewidth": 0,
             "ticks": ""
            },
            "type": "mesh3d"
           }
          ],
          "parcoords": [
           {
            "line": {
             "colorbar": {
              "outlinewidth": 0,
              "ticks": ""
             }
            },
            "type": "parcoords"
           }
          ],
          "scatter": [
           {
            "marker": {
             "colorbar": {
              "outlinewidth": 0,
              "ticks": ""
             }
            },
            "type": "scatter"
           }
          ],
          "scatter3d": [
           {
            "line": {
             "colorbar": {
              "outlinewidth": 0,
              "ticks": ""
             }
            },
            "marker": {
             "colorbar": {
              "outlinewidth": 0,
              "ticks": ""
             }
            },
            "type": "scatter3d"
           }
          ],
          "scattercarpet": [
           {
            "marker": {
             "colorbar": {
              "outlinewidth": 0,
              "ticks": ""
             }
            },
            "type": "scattercarpet"
           }
          ],
          "scattergeo": [
           {
            "marker": {
             "colorbar": {
              "outlinewidth": 0,
              "ticks": ""
             }
            },
            "type": "scattergeo"
           }
          ],
          "scattergl": [
           {
            "marker": {
             "colorbar": {
              "outlinewidth": 0,
              "ticks": ""
             }
            },
            "type": "scattergl"
           }
          ],
          "scattermapbox": [
           {
            "marker": {
             "colorbar": {
              "outlinewidth": 0,
              "ticks": ""
             }
            },
            "type": "scattermapbox"
           }
          ],
          "scatterpolar": [
           {
            "marker": {
             "colorbar": {
              "outlinewidth": 0,
              "ticks": ""
             }
            },
            "type": "scatterpolar"
           }
          ],
          "scatterpolargl": [
           {
            "marker": {
             "colorbar": {
              "outlinewidth": 0,
              "ticks": ""
             }
            },
            "type": "scatterpolargl"
           }
          ],
          "scatterternary": [
           {
            "marker": {
             "colorbar": {
              "outlinewidth": 0,
              "ticks": ""
             }
            },
            "type": "scatterternary"
           }
          ],
          "surface": [
           {
            "colorbar": {
             "outlinewidth": 0,
             "ticks": ""
            },
            "colorscale": [
             [
              0,
              "#0d0887"
             ],
             [
              0.1111111111111111,
              "#46039f"
             ],
             [
              0.2222222222222222,
              "#7201a8"
             ],
             [
              0.3333333333333333,
              "#9c179e"
             ],
             [
              0.4444444444444444,
              "#bd3786"
             ],
             [
              0.5555555555555556,
              "#d8576b"
             ],
             [
              0.6666666666666666,
              "#ed7953"
             ],
             [
              0.7777777777777778,
              "#fb9f3a"
             ],
             [
              0.8888888888888888,
              "#fdca26"
             ],
             [
              1,
              "#f0f921"
             ]
            ],
            "type": "surface"
           }
          ],
          "table": [
           {
            "cells": {
             "fill": {
              "color": "#EBF0F8"
             },
             "line": {
              "color": "white"
             }
            },
            "header": {
             "fill": {
              "color": "#C8D4E3"
             },
             "line": {
              "color": "white"
             }
            },
            "type": "table"
           }
          ]
         },
         "layout": {
          "annotationdefaults": {
           "arrowcolor": "#2a3f5f",
           "arrowhead": 0,
           "arrowwidth": 1
          },
          "colorscale": {
           "diverging": [
            [
             0,
             "#8e0152"
            ],
            [
             0.1,
             "#c51b7d"
            ],
            [
             0.2,
             "#de77ae"
            ],
            [
             0.3,
             "#f1b6da"
            ],
            [
             0.4,
             "#fde0ef"
            ],
            [
             0.5,
             "#f7f7f7"
            ],
            [
             0.6,
             "#e6f5d0"
            ],
            [
             0.7,
             "#b8e186"
            ],
            [
             0.8,
             "#7fbc41"
            ],
            [
             0.9,
             "#4d9221"
            ],
            [
             1,
             "#276419"
            ]
           ],
           "sequential": [
            [
             0,
             "#0d0887"
            ],
            [
             0.1111111111111111,
             "#46039f"
            ],
            [
             0.2222222222222222,
             "#7201a8"
            ],
            [
             0.3333333333333333,
             "#9c179e"
            ],
            [
             0.4444444444444444,
             "#bd3786"
            ],
            [
             0.5555555555555556,
             "#d8576b"
            ],
            [
             0.6666666666666666,
             "#ed7953"
            ],
            [
             0.7777777777777778,
             "#fb9f3a"
            ],
            [
             0.8888888888888888,
             "#fdca26"
            ],
            [
             1,
             "#f0f921"
            ]
           ],
           "sequentialminus": [
            [
             0,
             "#0d0887"
            ],
            [
             0.1111111111111111,
             "#46039f"
            ],
            [
             0.2222222222222222,
             "#7201a8"
            ],
            [
             0.3333333333333333,
             "#9c179e"
            ],
            [
             0.4444444444444444,
             "#bd3786"
            ],
            [
             0.5555555555555556,
             "#d8576b"
            ],
            [
             0.6666666666666666,
             "#ed7953"
            ],
            [
             0.7777777777777778,
             "#fb9f3a"
            ],
            [
             0.8888888888888888,
             "#fdca26"
            ],
            [
             1,
             "#f0f921"
            ]
           ]
          },
          "colorway": [
           "#636efa",
           "#EF553B",
           "#00cc96",
           "#ab63fa",
           "#FFA15A",
           "#19d3f3",
           "#FF6692",
           "#B6E880",
           "#FF97FF",
           "#FECB52"
          ],
          "font": {
           "color": "#2a3f5f"
          },
          "geo": {
           "bgcolor": "white",
           "lakecolor": "white",
           "landcolor": "#E5ECF6",
           "showlakes": true,
           "showland": true,
           "subunitcolor": "white"
          },
          "hoverlabel": {
           "align": "left"
          },
          "hovermode": "closest",
          "mapbox": {
           "style": "light"
          },
          "paper_bgcolor": "white",
          "plot_bgcolor": "#E5ECF6",
          "polar": {
           "angularaxis": {
            "gridcolor": "white",
            "linecolor": "white",
            "ticks": ""
           },
           "bgcolor": "#E5ECF6",
           "radialaxis": {
            "gridcolor": "white",
            "linecolor": "white",
            "ticks": ""
           }
          },
          "scene": {
           "xaxis": {
            "backgroundcolor": "#E5ECF6",
            "gridcolor": "white",
            "gridwidth": 2,
            "linecolor": "white",
            "showbackground": true,
            "ticks": "",
            "zerolinecolor": "white"
           },
           "yaxis": {
            "backgroundcolor": "#E5ECF6",
            "gridcolor": "white",
            "gridwidth": 2,
            "linecolor": "white",
            "showbackground": true,
            "ticks": "",
            "zerolinecolor": "white"
           },
           "zaxis": {
            "backgroundcolor": "#E5ECF6",
            "gridcolor": "white",
            "gridwidth": 2,
            "linecolor": "white",
            "showbackground": true,
            "ticks": "",
            "zerolinecolor": "white"
           }
          },
          "shapedefaults": {
           "line": {
            "color": "#2a3f5f"
           }
          },
          "ternary": {
           "aaxis": {
            "gridcolor": "white",
            "linecolor": "white",
            "ticks": ""
           },
           "baxis": {
            "gridcolor": "white",
            "linecolor": "white",
            "ticks": ""
           },
           "bgcolor": "#E5ECF6",
           "caxis": {
            "gridcolor": "white",
            "linecolor": "white",
            "ticks": ""
           }
          },
          "title": {
           "x": 0.05
          },
          "xaxis": {
           "automargin": true,
           "gridcolor": "white",
           "linecolor": "white",
           "ticks": "",
           "zerolinecolor": "white",
           "zerolinewidth": 2
          },
          "yaxis": {
           "automargin": true,
           "gridcolor": "white",
           "linecolor": "white",
           "ticks": "",
           "zerolinecolor": "white",
           "zerolinewidth": 2
          }
         }
        },
        "title": {
         "text": "Expenses"
        }
       }
      },
      "text/html": [
       "<div>\n",
       "        \n",
       "        \n",
       "            <div id=\"7f03aaf3-08f2-4be1-9c12-e5d7fe0c5170\" class=\"plotly-graph-div\" style=\"height:525px; width:100%;\"></div>\n",
       "            <script type=\"text/javascript\">\n",
       "                require([\"plotly\"], function(Plotly) {\n",
       "                    window.PLOTLYENV=window.PLOTLYENV || {};\n",
       "                    \n",
       "                if (document.getElementById(\"7f03aaf3-08f2-4be1-9c12-e5d7fe0c5170\")) {\n",
       "                    Plotly.newPlot(\n",
       "                        '7f03aaf3-08f2-4be1-9c12-e5d7fe0c5170',\n",
       "                        [{\"hoverinfo\": \"text\", \"hovertext\": [\"ERSTLASTSCHRIFT Versicherungskammer Bayern HAFT UNF HE-1008-2831 14.08.2019\", \"ONLINE-UEBERWEISUNG ZVKDZ OBERLAND Aktenzeichen 271953833 - M-WU:3688 - 18.08.2019 DATUM 21.08.2019, 18.10 UHR1.TAN 076186\", \"Kartenzahlung/-abrechnung BP TANKSTELLE//STEINACH AM B/AT/1 2019-08-18T08:23 Debitk.0 2099-12\", \"Lastschrift M-net Telekommunikations GmbH D-Nr M501432264, /INV/201907323841 vom 13.08.2019, TELEFONIE Juli 2019, ZahlB 1302948913 ABWA+M-net Telek. GmbH\", \"Kartenzahlung/-abrechnung 858 EDEKA M LINDWURMSTR//MUENCH EN/DE 2019-08-19T17:31 Debitk.0 2022-12\", \"Lastschrift\", \"\\u00dcberweisung ANDREAS HUBER KAMINKEHRERMEISTERB ETRIEB vom: 05.06.2019 / 5-4-19 DATUM 21.06.2019, 10.04 UHR1.TAN 069409\", \"Lastschrift Stadt Simbach a. Inn 3758 .FAD 3758-2 Schmutzwassergeb. Moosecker Str.19/ 35,00/17.06.19FAD 3758-2 Niederschlagswassergeb..\", \"Lastschrift E-Plus Service GmbH Aufladung bei geringem Guthaben fuer Ihr Prepaid- Konto 4915730733922-8429. Aldi Talk sagt DANKE\", \"Kartenzahlung/-abrechnung DB AUTOMAT//MUENCHEN HBF/DE 2019-06-07T20:34 Debitk.0 2022-12\", \"\\u00dcberweisung HMS HUETTEN-MIET- SERVICE GMBH 139185 DATUM 17.05.2019, 16.54 UHR1.TAN 895929\", \"Kartenzahlung/-abrechnung 858 EDEKA M LINDWURMSTR//MUENCH EN/DE 2019-05-16T15:33 Debitk.0 2022-12\", \"Lastschrift PayPal (Europe) S.a.r.l. et Cie., S.C.A. PP.9048.PP . , Ihr Einkauf bei\", \"Kartenzahlung/-abrechnung NAHKAUF FRISCHEMARKT//Muenche n/DE 2019-05-14T17:40 Debitk.0 2022-12\", \"Lastschrift E-Plus Service GmbH Aufladung bei geringem Guthaben fuer Ihr Prepaid- Konto 4915730733922-8429. Aldi Talk sagt DANKE\", \"Lastschrift Abfallwirtschaftsverband Isar-Inn 72625/72625-1 Abfallgebuehr 2019 Moosecker Str. 19 ABWA+AWV Isar-Inn\", \"Lastschrift Stadt Simbach a. Inn 3758 .FAD 3758-1 GrSt Moosecker Str.19, Einfamilien/ 10,59/15.05.19\", \"Kartenzahlung/-abrechnung DB AUTOMAT//ECHING/DE 2019-05-13T15:23 Debitk.0 2022-12\", \"Kartenzahlung/-abrechnung\", \"Kartenzahlung/-abrechnung MINIT SERVICE GMBH//MUENCHEN- NEUPERLAC/DE 2019-01-24T17:26 Debitk.0 2022-12\", \"Lastschrift E-Plus Service GmbH Aufladung bei geringem Guthaben fuer Ihr Prepaid- Konto 4915730733922-8429. Aldi Talk sagt DANKE\", \"Kartenzahlung/-abrechnung ALLIANZ DEUTSCHLAND AG//MUENCHEN/DE 2019-01-17T18:17 Debitk.0 2022-12\", \"Lastschrift M-net Telekommunikations GmbH D-Nr M501432264, /INV/201812341912 vom 14.01.2019, TELEFONIE Dezember 2018, ZahlB 1300233023 ABWA+M-net Telek. GmbH\", \"Kartenzahlung/-abrechnung 858 EDEKA M LINDWURMSTR//MUENCH EN/DE 2019-01-19T11:27 Debitk.0 2022-12\", \"\\u00dcberweisung\", \"Lastschrift AMAZON MEDIA EU S.A R.L. D01-6605248-6379808 Kindle Svcs 8IAEMHQGSN682B02\", \"Kartenzahlung/-abrechnung 858 EDEKA M LINDWURMSTR//MUENCH EN/DE 2019-01-07T18:53 Debitk.0 2022-12\", \"\\u00dcberweisung JANA BETZOLD Kochkurs ORIENTAL SOULFOOD - 12.04.2019 - Robert Hager DATUM 04.01.2019, 14.17 UHR1.TAN 798628\", \"Lastschrift AMAZON PAYMENTS EUROPE S.C.A. 302-7877438-6053127 AMZN Mktp DE 1699987346914266\", \"Kartenzahlung/-abrechnung 858 EDEKA M LINDWURMSTR//MUENCH EN/DE 2019-01-03T17:55 Debitk.0 2022-12\", \"Lastschrift\"], \"marker\": {\"color\": \"rgb(158, 202, 225)\", \"line\": {\"color\": \"rgb(8, 48, 107)\", \"width\": 1.5}}, \"opacity\": 0.6, \"type\": \"bar\", \"x\": [\"run_costs\", \"travel\", \"travel\", \"run_costs\", \"grocery\", \"other\", \"property\", \"property\", \"run_costs\", \"travel\", \"travel\", \"grocery\", \"travel\", \"grocery\", \"run_costs\", \"property\", \"other\", \"travel\", \"other\", \"shopping\", \"run_costs\", \"run_costs\", \"run_costs\", \"grocery\", \"other\", \"shopping\", \"grocery\", \"actions\", \"shopping\", \"grocery\", \"other\"], \"y\": [-51.92, -15.0, -32.9, -29.89, -8.2, -10.59, -28.58, -81.0, -15.0, -31.0, -473.0, -6.64, -78.39, -18.04, -15.0, -17.43, -10.59, -3.0, -13.45, -3.95, -15.0, -50.0, -29.89, -12.91, -89.7, -8.99, -8.76, -198.0, -45.98, -5.19, -315.0]}],\n",
       "                        {\"template\": {\"data\": {\"bar\": [{\"error_x\": {\"color\": \"#2a3f5f\"}, \"error_y\": {\"color\": \"#2a3f5f\"}, \"marker\": {\"line\": {\"color\": \"#E5ECF6\", \"width\": 0.5}}, \"type\": \"bar\"}], \"barpolar\": [{\"marker\": {\"line\": {\"color\": \"#E5ECF6\", \"width\": 0.5}}, \"type\": \"barpolar\"}], \"carpet\": [{\"aaxis\": {\"endlinecolor\": \"#2a3f5f\", \"gridcolor\": \"white\", \"linecolor\": \"white\", \"minorgridcolor\": \"white\", \"startlinecolor\": \"#2a3f5f\"}, \"baxis\": {\"endlinecolor\": \"#2a3f5f\", \"gridcolor\": \"white\", \"linecolor\": \"white\", \"minorgridcolor\": \"white\", \"startlinecolor\": \"#2a3f5f\"}, \"type\": \"carpet\"}], \"choropleth\": [{\"colorbar\": {\"outlinewidth\": 0, \"ticks\": \"\"}, \"type\": \"choropleth\"}], \"contour\": [{\"colorbar\": {\"outlinewidth\": 0, \"ticks\": \"\"}, \"colorscale\": [[0.0, \"#0d0887\"], [0.1111111111111111, \"#46039f\"], [0.2222222222222222, \"#7201a8\"], [0.3333333333333333, \"#9c179e\"], [0.4444444444444444, \"#bd3786\"], [0.5555555555555556, \"#d8576b\"], [0.6666666666666666, \"#ed7953\"], [0.7777777777777778, \"#fb9f3a\"], [0.8888888888888888, \"#fdca26\"], [1.0, \"#f0f921\"]], \"type\": \"contour\"}], \"contourcarpet\": [{\"colorbar\": {\"outlinewidth\": 0, \"ticks\": \"\"}, \"type\": \"contourcarpet\"}], \"heatmap\": [{\"colorbar\": {\"outlinewidth\": 0, \"ticks\": \"\"}, \"colorscale\": [[0.0, \"#0d0887\"], [0.1111111111111111, \"#46039f\"], [0.2222222222222222, \"#7201a8\"], [0.3333333333333333, \"#9c179e\"], [0.4444444444444444, \"#bd3786\"], [0.5555555555555556, \"#d8576b\"], [0.6666666666666666, \"#ed7953\"], [0.7777777777777778, \"#fb9f3a\"], [0.8888888888888888, \"#fdca26\"], [1.0, \"#f0f921\"]], \"type\": \"heatmap\"}], \"heatmapgl\": [{\"colorbar\": {\"outlinewidth\": 0, \"ticks\": \"\"}, \"colorscale\": [[0.0, \"#0d0887\"], [0.1111111111111111, \"#46039f\"], [0.2222222222222222, \"#7201a8\"], [0.3333333333333333, \"#9c179e\"], [0.4444444444444444, \"#bd3786\"], [0.5555555555555556, \"#d8576b\"], [0.6666666666666666, \"#ed7953\"], [0.7777777777777778, \"#fb9f3a\"], [0.8888888888888888, \"#fdca26\"], [1.0, \"#f0f921\"]], \"type\": \"heatmapgl\"}], \"histogram\": [{\"marker\": {\"colorbar\": {\"outlinewidth\": 0, \"ticks\": \"\"}}, \"type\": \"histogram\"}], \"histogram2d\": [{\"colorbar\": {\"outlinewidth\": 0, \"ticks\": \"\"}, \"colorscale\": [[0.0, \"#0d0887\"], [0.1111111111111111, \"#46039f\"], [0.2222222222222222, \"#7201a8\"], [0.3333333333333333, \"#9c179e\"], [0.4444444444444444, \"#bd3786\"], [0.5555555555555556, \"#d8576b\"], [0.6666666666666666, \"#ed7953\"], [0.7777777777777778, \"#fb9f3a\"], [0.8888888888888888, \"#fdca26\"], [1.0, \"#f0f921\"]], \"type\": \"histogram2d\"}], \"histogram2dcontour\": [{\"colorbar\": {\"outlinewidth\": 0, \"ticks\": \"\"}, \"colorscale\": [[0.0, \"#0d0887\"], [0.1111111111111111, \"#46039f\"], [0.2222222222222222, \"#7201a8\"], [0.3333333333333333, \"#9c179e\"], [0.4444444444444444, \"#bd3786\"], [0.5555555555555556, \"#d8576b\"], [0.6666666666666666, \"#ed7953\"], [0.7777777777777778, \"#fb9f3a\"], [0.8888888888888888, \"#fdca26\"], [1.0, \"#f0f921\"]], \"type\": \"histogram2dcontour\"}], \"mesh3d\": [{\"colorbar\": {\"outlinewidth\": 0, \"ticks\": \"\"}, \"type\": \"mesh3d\"}], \"parcoords\": [{\"line\": {\"colorbar\": {\"outlinewidth\": 0, \"ticks\": \"\"}}, \"type\": \"parcoords\"}], \"scatter\": [{\"marker\": {\"colorbar\": {\"outlinewidth\": 0, \"ticks\": \"\"}}, \"type\": \"scatter\"}], \"scatter3d\": [{\"line\": {\"colorbar\": {\"outlinewidth\": 0, \"ticks\": \"\"}}, \"marker\": {\"colorbar\": {\"outlinewidth\": 0, \"ticks\": \"\"}}, \"type\": \"scatter3d\"}], \"scattercarpet\": [{\"marker\": {\"colorbar\": {\"outlinewidth\": 0, \"ticks\": \"\"}}, \"type\": \"scattercarpet\"}], \"scattergeo\": [{\"marker\": {\"colorbar\": {\"outlinewidth\": 0, \"ticks\": \"\"}}, \"type\": \"scattergeo\"}], \"scattergl\": [{\"marker\": {\"colorbar\": {\"outlinewidth\": 0, \"ticks\": \"\"}}, \"type\": \"scattergl\"}], \"scattermapbox\": [{\"marker\": {\"colorbar\": {\"outlinewidth\": 0, \"ticks\": \"\"}}, \"type\": \"scattermapbox\"}], \"scatterpolar\": [{\"marker\": {\"colorbar\": {\"outlinewidth\": 0, \"ticks\": \"\"}}, \"type\": \"scatterpolar\"}], \"scatterpolargl\": [{\"marker\": {\"colorbar\": {\"outlinewidth\": 0, \"ticks\": \"\"}}, \"type\": \"scatterpolargl\"}], \"scatterternary\": [{\"marker\": {\"colorbar\": {\"outlinewidth\": 0, \"ticks\": \"\"}}, \"type\": \"scatterternary\"}], \"surface\": [{\"colorbar\": {\"outlinewidth\": 0, \"ticks\": \"\"}, \"colorscale\": [[0.0, \"#0d0887\"], [0.1111111111111111, \"#46039f\"], [0.2222222222222222, \"#7201a8\"], [0.3333333333333333, \"#9c179e\"], [0.4444444444444444, \"#bd3786\"], [0.5555555555555556, \"#d8576b\"], [0.6666666666666666, \"#ed7953\"], [0.7777777777777778, \"#fb9f3a\"], [0.8888888888888888, \"#fdca26\"], [1.0, \"#f0f921\"]], \"type\": \"surface\"}], \"table\": [{\"cells\": {\"fill\": {\"color\": \"#EBF0F8\"}, \"line\": {\"color\": \"white\"}}, \"header\": {\"fill\": {\"color\": \"#C8D4E3\"}, \"line\": {\"color\": \"white\"}}, \"type\": \"table\"}]}, \"layout\": {\"annotationdefaults\": {\"arrowcolor\": \"#2a3f5f\", \"arrowhead\": 0, \"arrowwidth\": 1}, \"colorscale\": {\"diverging\": [[0, \"#8e0152\"], [0.1, \"#c51b7d\"], [0.2, \"#de77ae\"], [0.3, \"#f1b6da\"], [0.4, \"#fde0ef\"], [0.5, \"#f7f7f7\"], [0.6, \"#e6f5d0\"], [0.7, \"#b8e186\"], [0.8, \"#7fbc41\"], [0.9, \"#4d9221\"], [1, \"#276419\"]], \"sequential\": [[0.0, \"#0d0887\"], [0.1111111111111111, \"#46039f\"], [0.2222222222222222, \"#7201a8\"], [0.3333333333333333, \"#9c179e\"], [0.4444444444444444, \"#bd3786\"], [0.5555555555555556, \"#d8576b\"], [0.6666666666666666, \"#ed7953\"], [0.7777777777777778, \"#fb9f3a\"], [0.8888888888888888, \"#fdca26\"], [1.0, \"#f0f921\"]], \"sequentialminus\": [[0.0, \"#0d0887\"], [0.1111111111111111, \"#46039f\"], [0.2222222222222222, \"#7201a8\"], [0.3333333333333333, \"#9c179e\"], [0.4444444444444444, \"#bd3786\"], [0.5555555555555556, \"#d8576b\"], [0.6666666666666666, \"#ed7953\"], [0.7777777777777778, \"#fb9f3a\"], [0.8888888888888888, \"#fdca26\"], [1.0, \"#f0f921\"]]}, \"colorway\": [\"#636efa\", \"#EF553B\", \"#00cc96\", \"#ab63fa\", \"#FFA15A\", \"#19d3f3\", \"#FF6692\", \"#B6E880\", \"#FF97FF\", \"#FECB52\"], \"font\": {\"color\": \"#2a3f5f\"}, \"geo\": {\"bgcolor\": \"white\", \"lakecolor\": \"white\", \"landcolor\": \"#E5ECF6\", \"showlakes\": true, \"showland\": true, \"subunitcolor\": \"white\"}, \"hoverlabel\": {\"align\": \"left\"}, \"hovermode\": \"closest\", \"mapbox\": {\"style\": \"light\"}, \"paper_bgcolor\": \"white\", \"plot_bgcolor\": \"#E5ECF6\", \"polar\": {\"angularaxis\": {\"gridcolor\": \"white\", \"linecolor\": \"white\", \"ticks\": \"\"}, \"bgcolor\": \"#E5ECF6\", \"radialaxis\": {\"gridcolor\": \"white\", \"linecolor\": \"white\", \"ticks\": \"\"}}, \"scene\": {\"xaxis\": {\"backgroundcolor\": \"#E5ECF6\", \"gridcolor\": \"white\", \"gridwidth\": 2, \"linecolor\": \"white\", \"showbackground\": true, \"ticks\": \"\", \"zerolinecolor\": \"white\"}, \"yaxis\": {\"backgroundcolor\": \"#E5ECF6\", \"gridcolor\": \"white\", \"gridwidth\": 2, \"linecolor\": \"white\", \"showbackground\": true, \"ticks\": \"\", \"zerolinecolor\": \"white\"}, \"zaxis\": {\"backgroundcolor\": \"#E5ECF6\", \"gridcolor\": \"white\", \"gridwidth\": 2, \"linecolor\": \"white\", \"showbackground\": true, \"ticks\": \"\", \"zerolinecolor\": \"white\"}}, \"shapedefaults\": {\"line\": {\"color\": \"#2a3f5f\"}}, \"ternary\": {\"aaxis\": {\"gridcolor\": \"white\", \"linecolor\": \"white\", \"ticks\": \"\"}, \"baxis\": {\"gridcolor\": \"white\", \"linecolor\": \"white\", \"ticks\": \"\"}, \"bgcolor\": \"#E5ECF6\", \"caxis\": {\"gridcolor\": \"white\", \"linecolor\": \"white\", \"ticks\": \"\"}}, \"title\": {\"x\": 0.05}, \"xaxis\": {\"automargin\": true, \"gridcolor\": \"white\", \"linecolor\": \"white\", \"ticks\": \"\", \"zerolinecolor\": \"white\", \"zerolinewidth\": 2}, \"yaxis\": {\"automargin\": true, \"gridcolor\": \"white\", \"linecolor\": \"white\", \"ticks\": \"\", \"zerolinecolor\": \"white\", \"zerolinewidth\": 2}}}, \"title\": {\"text\": \"Expenses\"}},\n",
       "                        {\"responsive\": true}\n",
       "                    ).then(function(){\n",
       "                            \n",
       "var gd = document.getElementById('7f03aaf3-08f2-4be1-9c12-e5d7fe0c5170');\n",
       "var x = new MutationObserver(function (mutations, observer) {{\n",
       "        var display = window.getComputedStyle(gd).display;\n",
       "        if (!display || display === 'none') {{\n",
       "            console.log([gd, 'removed!']);\n",
       "            Plotly.purge(gd);\n",
       "            observer.disconnect();\n",
       "        }}\n",
       "}});\n",
       "\n",
       "// Listen for the removal of the full notebook cells\n",
       "var notebookContainer = gd.closest('#notebook-container');\n",
       "if (notebookContainer) {{\n",
       "    x.observe(notebookContainer, {childList: true});\n",
       "}}\n",
       "\n",
       "// Listen for the clearing of the current output cell\n",
       "var outputEl = gd.closest('.output');\n",
       "if (outputEl) {{\n",
       "    x.observe(outputEl, {childList: true});\n",
       "}}\n",
       "\n",
       "                        })\n",
       "                };\n",
       "                });\n",
       "            </script>\n",
       "        </div>"
      ]
     },
     "metadata": {},
     "output_type": "display_data"
    }
   ],
   "source": [
    "fig = go.Figure()\n",
    "\n",
    "fig.add_trace(go.Bar(\n",
    "    x = df['cluster'], \n",
    "    y = df['amount'], \n",
    "    hovertext = df['subject'], \n",
    "    hoverinfo = \"text\", \n",
    "    marker_color = 'rgb(158, 202, 225)', \n",
    "    marker_line_color = 'rgb(8, 48, 107)',\n",
    "    marker_line_width = 1.5, \n",
    "    opacity = 0.6\n",
    "))\n",
    "\n",
    "fig.update_layout(title_text = 'Expenses')\n",
    "\n",
    "\n",
    "fig.show()"
   ]
  },
  {
   "cell_type": "code",
   "execution_count": 120,
   "metadata": {},
   "outputs": [
    {
     "data": {
      "text/html": [
       "<div>\n",
       "<style scoped>\n",
       "    .dataframe tbody tr th:only-of-type {\n",
       "        vertical-align: middle;\n",
       "    }\n",
       "\n",
       "    .dataframe tbody tr th {\n",
       "        vertical-align: top;\n",
       "    }\n",
       "\n",
       "    .dataframe thead th {\n",
       "        text-align: right;\n",
       "    }\n",
       "</style>\n",
       "<table border=\"1\" class=\"dataframe\">\n",
       "  <thead>\n",
       "    <tr style=\"text-align: right;\">\n",
       "      <th></th>\n",
       "      <th>22.08.2019</th>\n",
       "      <th>Lastschrift</th>\n",
       "      <th>DE67 7005 0000 0003 0240 50</th>\n",
       "      <th>-51,92</th>\n",
       "    </tr>\n",
       "  </thead>\n",
       "  <tbody>\n",
       "    <tr>\n",
       "      <th>0</th>\n",
       "      <td>22.08.2019</td>\n",
       "      <td>VERSICHERUNGSKAMME</td>\n",
       "      <td>BYLADEMMXXX</td>\n",
       "      <td>NaN</td>\n",
       "    </tr>\n",
       "    <tr>\n",
       "      <th>1</th>\n",
       "      <td>NaN</td>\n",
       "      <td>R BAYERN</td>\n",
       "      <td>NaN</td>\n",
       "      <td>NaN</td>\n",
       "    </tr>\n",
       "    <tr>\n",
       "      <th>2</th>\n",
       "      <td>NaN</td>\n",
       "      <td>VERSICHERUNGSANSTAL</td>\n",
       "      <td>NaN</td>\n",
       "      <td>NaN</td>\n",
       "    </tr>\n",
       "    <tr>\n",
       "      <th>3</th>\n",
       "      <td>NaN</td>\n",
       "      <td>T D.Ö.R.</td>\n",
       "      <td>NaN</td>\n",
       "      <td>NaN</td>\n",
       "    </tr>\n",
       "    <tr>\n",
       "      <th>4</th>\n",
       "      <td>NaN</td>\n",
       "      <td>HAFT UNF HE-1008-2831</td>\n",
       "      <td>NaN</td>\n",
       "      <td>NaN</td>\n",
       "    </tr>\n",
       "    <tr>\n",
       "      <th>5</th>\n",
       "      <td>NaN</td>\n",
       "      <td>14.08.2019</td>\n",
       "      <td>NaN</td>\n",
       "      <td>NaN</td>\n",
       "    </tr>\n",
       "    <tr>\n",
       "      <th>6</th>\n",
       "      <td>NaN</td>\n",
       "      <td>ABWA+Versicherungskamm</td>\n",
       "      <td>NaN</td>\n",
       "      <td>NaN</td>\n",
       "    </tr>\n",
       "    <tr>\n",
       "      <th>7</th>\n",
       "      <td>NaN</td>\n",
       "      <td>er Bayern</td>\n",
       "      <td>NaN</td>\n",
       "      <td>NaN</td>\n",
       "    </tr>\n",
       "    <tr>\n",
       "      <th>8</th>\n",
       "      <td>22.08.2019</td>\n",
       "      <td>Überweisung</td>\n",
       "      <td>DE90 7005 4306 0000 1271 00</td>\n",
       "      <td>-15,00</td>\n",
       "    </tr>\n",
       "    <tr>\n",
       "      <th>9</th>\n",
       "      <td>22.08.2019</td>\n",
       "      <td>ZVKDZ OBERLAND</td>\n",
       "      <td>BYLADEM1WOR</td>\n",
       "      <td>NaN</td>\n",
       "    </tr>\n",
       "    <tr>\n",
       "      <th>10</th>\n",
       "      <td>NaN</td>\n",
       "      <td>Aktenzeichen 271953833 -</td>\n",
       "      <td>NaN</td>\n",
       "      <td>NaN</td>\n",
       "    </tr>\n",
       "    <tr>\n",
       "      <th>11</th>\n",
       "      <td>NaN</td>\n",
       "      <td>M-WU:3688 - 18.08.2019</td>\n",
       "      <td>NaN</td>\n",
       "      <td>NaN</td>\n",
       "    </tr>\n",
       "    <tr>\n",
       "      <th>12</th>\n",
       "      <td>NaN</td>\n",
       "      <td>DATUM 21.08.2019, 18.10</td>\n",
       "      <td>NaN</td>\n",
       "      <td>NaN</td>\n",
       "    </tr>\n",
       "    <tr>\n",
       "      <th>13</th>\n",
       "      <td>NaN</td>\n",
       "      <td>UHR1.TAN 076186</td>\n",
       "      <td>NaN</td>\n",
       "      <td>NaN</td>\n",
       "    </tr>\n",
       "    <tr>\n",
       "      <th>14</th>\n",
       "      <td>20.08.2019</td>\n",
       "      <td>Kartenzahlung/-abrechnung</td>\n",
       "      <td>DE72 2009 0700 3142 2480 71</td>\n",
       "      <td>-8,20</td>\n",
       "    </tr>\n",
       "    <tr>\n",
       "      <th>15</th>\n",
       "      <td>20.08.2019</td>\n",
       "      <td>858 EDEKA M</td>\n",
       "      <td>EDEKDEHHXXX</td>\n",
       "      <td>NaN</td>\n",
       "    </tr>\n",
       "    <tr>\n",
       "      <th>16</th>\n",
       "      <td>NaN</td>\n",
       "      <td>LINDWURMSTR//MUENCH</td>\n",
       "      <td>NaN</td>\n",
       "      <td>NaN</td>\n",
       "    </tr>\n",
       "    <tr>\n",
       "      <th>17</th>\n",
       "      <td>NaN</td>\n",
       "      <td>EN/DE</td>\n",
       "      <td>NaN</td>\n",
       "      <td>NaN</td>\n",
       "    </tr>\n",
       "    <tr>\n",
       "      <th>18</th>\n",
       "      <td>NaN</td>\n",
       "      <td>2019-08-19T17:31 Debitk.0</td>\n",
       "      <td>NaN</td>\n",
       "      <td>NaN</td>\n",
       "    </tr>\n",
       "    <tr>\n",
       "      <th>19</th>\n",
       "      <td>NaN</td>\n",
       "      <td>2022-12</td>\n",
       "      <td>NaN</td>\n",
       "      <td>NaN</td>\n",
       "    </tr>\n",
       "    <tr>\n",
       "      <th>20</th>\n",
       "      <td>20.08.2019</td>\n",
       "      <td>Kartenzahlung/-abrechnung</td>\n",
       "      <td>DE67 5005 0000 0959 5670 25</td>\n",
       "      <td>-32,90</td>\n",
       "    </tr>\n",
       "    <tr>\n",
       "      <th>21</th>\n",
       "      <td>20.08.2019</td>\n",
       "      <td>BP</td>\n",
       "      <td>HELADEFF</td>\n",
       "      <td>NaN</td>\n",
       "    </tr>\n",
       "    <tr>\n",
       "      <th>22</th>\n",
       "      <td>NaN</td>\n",
       "      <td>TANKSTELLE//STEINACH</td>\n",
       "      <td>NaN</td>\n",
       "      <td>NaN</td>\n",
       "    </tr>\n",
       "    <tr>\n",
       "      <th>23</th>\n",
       "      <td>NaN</td>\n",
       "      <td>AM B/AT/1</td>\n",
       "      <td>NaN</td>\n",
       "      <td>NaN</td>\n",
       "    </tr>\n",
       "    <tr>\n",
       "      <th>24</th>\n",
       "      <td>NaN</td>\n",
       "      <td>2019-08-18T08:23 Debitk.0</td>\n",
       "      <td>NaN</td>\n",
       "      <td>NaN</td>\n",
       "    </tr>\n",
       "    <tr>\n",
       "      <th>25</th>\n",
       "      <td>NaN</td>\n",
       "      <td>2099-12</td>\n",
       "      <td>NaN</td>\n",
       "      <td>NaN</td>\n",
       "    </tr>\n",
       "    <tr>\n",
       "      <th>26</th>\n",
       "      <td>20.08.2019</td>\n",
       "      <td>Lastschrift</td>\n",
       "      <td>DE74 7005 0000 0000 0282 73</td>\n",
       "      <td>-29,89</td>\n",
       "    </tr>\n",
       "    <tr>\n",
       "      <th>27</th>\n",
       "      <td>17.05.2019</td>\n",
       "      <td>Kartenzahlung/-abrechnung</td>\n",
       "      <td>DE72 2009 0700 3142 2480 71</td>\n",
       "      <td>-6,64</td>\n",
       "    </tr>\n",
       "    <tr>\n",
       "      <th>28</th>\n",
       "      <td>17.05.2019</td>\n",
       "      <td>858 EDEKA M</td>\n",
       "      <td>EDEKDEHHXXX</td>\n",
       "      <td>NaN</td>\n",
       "    </tr>\n",
       "    <tr>\n",
       "      <th>29</th>\n",
       "      <td>NaN</td>\n",
       "      <td>LINDWURMSTR//MUENCH</td>\n",
       "      <td>NaN</td>\n",
       "      <td>NaN</td>\n",
       "    </tr>\n",
       "    <tr>\n",
       "      <th>...</th>\n",
       "      <td>...</td>\n",
       "      <td>...</td>\n",
       "      <td>...</td>\n",
       "      <td>...</td>\n",
       "    </tr>\n",
       "    <tr>\n",
       "      <th>127</th>\n",
       "      <td>NaN</td>\n",
       "      <td>JGA Max</td>\n",
       "      <td>NaN</td>\n",
       "      <td>NaN</td>\n",
       "    </tr>\n",
       "    <tr>\n",
       "      <th>128</th>\n",
       "      <td>08.01.2019</td>\n",
       "      <td>Kartenzahlung/-abrechnung</td>\n",
       "      <td>DE72 2009 0700 3142 2480 71</td>\n",
       "      <td>-8,76</td>\n",
       "    </tr>\n",
       "    <tr>\n",
       "      <th>129</th>\n",
       "      <td>08.01.2019</td>\n",
       "      <td>858 EDEKA M</td>\n",
       "      <td>EDEKDEHHXXX</td>\n",
       "      <td>NaN</td>\n",
       "    </tr>\n",
       "    <tr>\n",
       "      <th>130</th>\n",
       "      <td>NaN</td>\n",
       "      <td>LINDWURMSTR//MUENCH</td>\n",
       "      <td>NaN</td>\n",
       "      <td>NaN</td>\n",
       "    </tr>\n",
       "    <tr>\n",
       "      <th>131</th>\n",
       "      <td>NaN</td>\n",
       "      <td>EN/DE</td>\n",
       "      <td>NaN</td>\n",
       "      <td>NaN</td>\n",
       "    </tr>\n",
       "    <tr>\n",
       "      <th>132</th>\n",
       "      <td>NaN</td>\n",
       "      <td>2019-01-07T18:53 Debitk.0</td>\n",
       "      <td>NaN</td>\n",
       "      <td>NaN</td>\n",
       "    </tr>\n",
       "    <tr>\n",
       "      <th>133</th>\n",
       "      <td>NaN</td>\n",
       "      <td>2022-12</td>\n",
       "      <td>NaN</td>\n",
       "      <td>NaN</td>\n",
       "    </tr>\n",
       "    <tr>\n",
       "      <th>134</th>\n",
       "      <td>04.01.2019</td>\n",
       "      <td>Überweisung</td>\n",
       "      <td>DE10 7001 0080 0314 0928 02</td>\n",
       "      <td>-198,00</td>\n",
       "    </tr>\n",
       "    <tr>\n",
       "      <th>135</th>\n",
       "      <td>04.01.2019</td>\n",
       "      <td>JANA BETZOLD</td>\n",
       "      <td>PBNKDEFFXXX</td>\n",
       "      <td>NaN</td>\n",
       "    </tr>\n",
       "    <tr>\n",
       "      <th>136</th>\n",
       "      <td>NaN</td>\n",
       "      <td>Kochkurs ORIENTAL</td>\n",
       "      <td>NaN</td>\n",
       "      <td>NaN</td>\n",
       "    </tr>\n",
       "    <tr>\n",
       "      <th>137</th>\n",
       "      <td>NaN</td>\n",
       "      <td>SOULFOOD - 12.04.2019 -</td>\n",
       "      <td>NaN</td>\n",
       "      <td>NaN</td>\n",
       "    </tr>\n",
       "    <tr>\n",
       "      <th>138</th>\n",
       "      <td>NaN</td>\n",
       "      <td>Robert Hager DATUM</td>\n",
       "      <td>NaN</td>\n",
       "      <td>NaN</td>\n",
       "    </tr>\n",
       "    <tr>\n",
       "      <th>139</th>\n",
       "      <td>NaN</td>\n",
       "      <td>04.01.2019, 14.17</td>\n",
       "      <td>NaN</td>\n",
       "      <td>NaN</td>\n",
       "    </tr>\n",
       "    <tr>\n",
       "      <th>140</th>\n",
       "      <td>NaN</td>\n",
       "      <td>UHR1.TAN 798628</td>\n",
       "      <td>NaN</td>\n",
       "      <td>NaN</td>\n",
       "    </tr>\n",
       "    <tr>\n",
       "      <th>141</th>\n",
       "      <td>04.01.2019</td>\n",
       "      <td>Kartenzahlung/-abrechnung</td>\n",
       "      <td>DE72 2009 0700 3142 2480 71</td>\n",
       "      <td>-5,19</td>\n",
       "    </tr>\n",
       "    <tr>\n",
       "      <th>142</th>\n",
       "      <td>04.01.2019</td>\n",
       "      <td>858 EDEKA M</td>\n",
       "      <td>EDEKDEHHXXX</td>\n",
       "      <td>NaN</td>\n",
       "    </tr>\n",
       "    <tr>\n",
       "      <th>143</th>\n",
       "      <td>NaN</td>\n",
       "      <td>LINDWURMSTR//MUENCH</td>\n",
       "      <td>NaN</td>\n",
       "      <td>NaN</td>\n",
       "    </tr>\n",
       "    <tr>\n",
       "      <th>144</th>\n",
       "      <td>NaN</td>\n",
       "      <td>EN/DE</td>\n",
       "      <td>NaN</td>\n",
       "      <td>NaN</td>\n",
       "    </tr>\n",
       "    <tr>\n",
       "      <th>145</th>\n",
       "      <td>NaN</td>\n",
       "      <td>2019-01-03T17:55 Debitk.0</td>\n",
       "      <td>NaN</td>\n",
       "      <td>NaN</td>\n",
       "    </tr>\n",
       "    <tr>\n",
       "      <th>146</th>\n",
       "      <td>NaN</td>\n",
       "      <td>2022-12</td>\n",
       "      <td>NaN</td>\n",
       "      <td>NaN</td>\n",
       "    </tr>\n",
       "    <tr>\n",
       "      <th>147</th>\n",
       "      <td>04.01.2019</td>\n",
       "      <td>Lastschrift</td>\n",
       "      <td>DE87 3003 0880 1908 2620 06</td>\n",
       "      <td>-45,98</td>\n",
       "    </tr>\n",
       "    <tr>\n",
       "      <th>148</th>\n",
       "      <td>04.01.2019</td>\n",
       "      <td>AMAZON PAYMENTS</td>\n",
       "      <td>TUBDDEDD</td>\n",
       "      <td>NaN</td>\n",
       "    </tr>\n",
       "    <tr>\n",
       "      <th>149</th>\n",
       "      <td>NaN</td>\n",
       "      <td>EUROPE S.C.A.</td>\n",
       "      <td>NaN</td>\n",
       "      <td>NaN</td>\n",
       "    </tr>\n",
       "    <tr>\n",
       "      <th>150</th>\n",
       "      <td>NaN</td>\n",
       "      <td>302-7877438-6053127</td>\n",
       "      <td>NaN</td>\n",
       "      <td>NaN</td>\n",
       "    </tr>\n",
       "    <tr>\n",
       "      <th>151</th>\n",
       "      <td>NaN</td>\n",
       "      <td>AMZN Mktp DE</td>\n",
       "      <td>NaN</td>\n",
       "      <td>NaN</td>\n",
       "    </tr>\n",
       "    <tr>\n",
       "      <th>152</th>\n",
       "      <td>NaN</td>\n",
       "      <td>1699987346914266</td>\n",
       "      <td>NaN</td>\n",
       "      <td>NaN</td>\n",
       "    </tr>\n",
       "    <tr>\n",
       "      <th>153</th>\n",
       "      <td>03.01.2019</td>\n",
       "      <td>Gutschrift</td>\n",
       "      <td>DE23 1001 0010 0837 7771 10</td>\n",
       "      <td>15,00</td>\n",
       "    </tr>\n",
       "    <tr>\n",
       "      <th>154</th>\n",
       "      <td>03.01.2019</td>\n",
       "      <td>ANDREAS OBERMEIER</td>\n",
       "      <td>PBNKDEFFXXX</td>\n",
       "      <td>NaN</td>\n",
       "    </tr>\n",
       "    <tr>\n",
       "      <th>155</th>\n",
       "      <td>NaN</td>\n",
       "      <td>iPod</td>\n",
       "      <td>NaN</td>\n",
       "      <td>NaN</td>\n",
       "    </tr>\n",
       "    <tr>\n",
       "      <th>156</th>\n",
       "      <td>02.01.2019</td>\n",
       "      <td>Lastschrift</td>\n",
       "      <td>DE87 3003 0880 1908 2620 06</td>\n",
       "      <td>-80,48</td>\n",
       "    </tr>\n",
       "  </tbody>\n",
       "</table>\n",
       "<p>157 rows × 4 columns</p>\n",
       "</div>"
      ],
      "text/plain": [
       "     22.08.2019                Lastschrift  DE67 7005 0000 0003 0240 50  \\\n",
       "0    22.08.2019         VERSICHERUNGSKAMME                  BYLADEMMXXX   \n",
       "1           NaN                   R BAYERN                          NaN   \n",
       "2           NaN        VERSICHERUNGSANSTAL                          NaN   \n",
       "3           NaN                   T D.Ö.R.                          NaN   \n",
       "4           NaN      HAFT UNF HE-1008-2831                          NaN   \n",
       "5           NaN                 14.08.2019                          NaN   \n",
       "6           NaN     ABWA+Versicherungskamm                          NaN   \n",
       "7           NaN                  er Bayern                          NaN   \n",
       "8    22.08.2019                Überweisung  DE90 7005 4306 0000 1271 00   \n",
       "9    22.08.2019             ZVKDZ OBERLAND                  BYLADEM1WOR   \n",
       "10          NaN   Aktenzeichen 271953833 -                          NaN   \n",
       "11          NaN     M-WU:3688 - 18.08.2019                          NaN   \n",
       "12          NaN    DATUM 21.08.2019, 18.10                          NaN   \n",
       "13          NaN            UHR1.TAN 076186                          NaN   \n",
       "14   20.08.2019  Kartenzahlung/-abrechnung  DE72 2009 0700 3142 2480 71   \n",
       "15   20.08.2019                858 EDEKA M                  EDEKDEHHXXX   \n",
       "16          NaN        LINDWURMSTR//MUENCH                          NaN   \n",
       "17          NaN                      EN/DE                          NaN   \n",
       "18          NaN  2019-08-19T17:31 Debitk.0                          NaN   \n",
       "19          NaN                    2022-12                          NaN   \n",
       "20   20.08.2019  Kartenzahlung/-abrechnung  DE67 5005 0000 0959 5670 25   \n",
       "21   20.08.2019                         BP                     HELADEFF   \n",
       "22          NaN       TANKSTELLE//STEINACH                          NaN   \n",
       "23          NaN                  AM B/AT/1                          NaN   \n",
       "24          NaN  2019-08-18T08:23 Debitk.0                          NaN   \n",
       "25          NaN                    2099-12                          NaN   \n",
       "26   20.08.2019                Lastschrift  DE74 7005 0000 0000 0282 73   \n",
       "27   17.05.2019  Kartenzahlung/-abrechnung  DE72 2009 0700 3142 2480 71   \n",
       "28   17.05.2019                858 EDEKA M                  EDEKDEHHXXX   \n",
       "29          NaN        LINDWURMSTR//MUENCH                          NaN   \n",
       "..          ...                        ...                          ...   \n",
       "127         NaN                    JGA Max                          NaN   \n",
       "128  08.01.2019  Kartenzahlung/-abrechnung  DE72 2009 0700 3142 2480 71   \n",
       "129  08.01.2019                858 EDEKA M                  EDEKDEHHXXX   \n",
       "130         NaN        LINDWURMSTR//MUENCH                          NaN   \n",
       "131         NaN                      EN/DE                          NaN   \n",
       "132         NaN  2019-01-07T18:53 Debitk.0                          NaN   \n",
       "133         NaN                    2022-12                          NaN   \n",
       "134  04.01.2019                Überweisung  DE10 7001 0080 0314 0928 02   \n",
       "135  04.01.2019               JANA BETZOLD                  PBNKDEFFXXX   \n",
       "136         NaN          Kochkurs ORIENTAL                          NaN   \n",
       "137         NaN    SOULFOOD - 12.04.2019 -                          NaN   \n",
       "138         NaN         Robert Hager DATUM                          NaN   \n",
       "139         NaN          04.01.2019, 14.17                          NaN   \n",
       "140         NaN            UHR1.TAN 798628                          NaN   \n",
       "141  04.01.2019  Kartenzahlung/-abrechnung  DE72 2009 0700 3142 2480 71   \n",
       "142  04.01.2019                858 EDEKA M                  EDEKDEHHXXX   \n",
       "143         NaN        LINDWURMSTR//MUENCH                          NaN   \n",
       "144         NaN                      EN/DE                          NaN   \n",
       "145         NaN  2019-01-03T17:55 Debitk.0                          NaN   \n",
       "146         NaN                    2022-12                          NaN   \n",
       "147  04.01.2019                Lastschrift  DE87 3003 0880 1908 2620 06   \n",
       "148  04.01.2019            AMAZON PAYMENTS                     TUBDDEDD   \n",
       "149         NaN              EUROPE S.C.A.                          NaN   \n",
       "150         NaN        302-7877438-6053127                          NaN   \n",
       "151         NaN               AMZN Mktp DE                          NaN   \n",
       "152         NaN           1699987346914266                          NaN   \n",
       "153  03.01.2019                 Gutschrift  DE23 1001 0010 0837 7771 10   \n",
       "154  03.01.2019          ANDREAS OBERMEIER                  PBNKDEFFXXX   \n",
       "155         NaN                       iPod                          NaN   \n",
       "156  02.01.2019                Lastschrift  DE87 3003 0880 1908 2620 06   \n",
       "\n",
       "      -51,92  \n",
       "0        NaN  \n",
       "1        NaN  \n",
       "2        NaN  \n",
       "3        NaN  \n",
       "4        NaN  \n",
       "5        NaN  \n",
       "6        NaN  \n",
       "7        NaN  \n",
       "8     -15,00  \n",
       "9        NaN  \n",
       "10       NaN  \n",
       "11       NaN  \n",
       "12       NaN  \n",
       "13       NaN  \n",
       "14     -8,20  \n",
       "15       NaN  \n",
       "16       NaN  \n",
       "17       NaN  \n",
       "18       NaN  \n",
       "19       NaN  \n",
       "20    -32,90  \n",
       "21       NaN  \n",
       "22       NaN  \n",
       "23       NaN  \n",
       "24       NaN  \n",
       "25       NaN  \n",
       "26    -29,89  \n",
       "27     -6,64  \n",
       "28       NaN  \n",
       "29       NaN  \n",
       "..       ...  \n",
       "127      NaN  \n",
       "128    -8,76  \n",
       "129      NaN  \n",
       "130      NaN  \n",
       "131      NaN  \n",
       "132      NaN  \n",
       "133      NaN  \n",
       "134  -198,00  \n",
       "135      NaN  \n",
       "136      NaN  \n",
       "137      NaN  \n",
       "138      NaN  \n",
       "139      NaN  \n",
       "140      NaN  \n",
       "141    -5,19  \n",
       "142      NaN  \n",
       "143      NaN  \n",
       "144      NaN  \n",
       "145      NaN  \n",
       "146      NaN  \n",
       "147   -45,98  \n",
       "148      NaN  \n",
       "149      NaN  \n",
       "150      NaN  \n",
       "151      NaN  \n",
       "152      NaN  \n",
       "153    15,00  \n",
       "154      NaN  \n",
       "155      NaN  \n",
       "156   -80,48  \n",
       "\n",
       "[157 rows x 4 columns]"
      ]
     },
     "execution_count": 120,
     "metadata": {},
     "output_type": "execute_result"
    }
   ],
   "source": [
    "# read in pdf\n",
    "df = tabula.read_pdf('data/giro_2019_nofooter.pdf', pages = 'all', stream = True)\n",
    "df"
   ]
  }
 ],
 "metadata": {
  "kernelspec": {
   "display_name": "Python 3",
   "language": "python",
   "name": "python3"
  },
  "language_info": {
   "codemirror_mode": {
    "name": "ipython",
    "version": 3
   },
   "file_extension": ".py",
   "mimetype": "text/x-python",
   "name": "python",
   "nbconvert_exporter": "python",
   "pygments_lexer": "ipython3",
   "version": "3.7.0"
  },
  "varInspector": {
   "cols": {
    "lenName": 16,
    "lenType": 16,
    "lenVar": 40
   },
   "kernels_config": {
    "python": {
     "delete_cmd_postfix": "",
     "delete_cmd_prefix": "del ",
     "library": "var_list.py",
     "varRefreshCmd": "print(var_dic_list())"
    },
    "r": {
     "delete_cmd_postfix": ") ",
     "delete_cmd_prefix": "rm(",
     "library": "var_list.r",
     "varRefreshCmd": "cat(var_dic_list()) "
    }
   },
   "types_to_exclude": [
    "module",
    "function",
    "builtin_function_or_method",
    "instance",
    "_Feature"
   ],
   "window_display": false
  }
 },
 "nbformat": 4,
 "nbformat_minor": 2
}
