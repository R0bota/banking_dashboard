{
 "cells": [
  {
   "cell_type": "code",
   "execution_count": 2,
   "metadata": {
    "scrolled": true
   },
   "outputs": [
    {
     "name": "stdout",
     "output_type": "stream",
     "text": [
      "      date   value                                            subject   minus  \\\n",
      "0   02.01.  02.01.  Kartenzahlung ARAL AG SVWZ+2018-12-29T00.48 De...   50,20   \n",
      "4   02.01.  02.01.  Basislastschrift E-Plus Service GmbH EREF+3384...   15,00   \n",
      "10  02.01.  02.01.  Kartenzahlung ARAL AG SVWZ+2018-12-28T19.36 De...   61,53   \n",
      "15  02.01.  02.01.  Basislastschrift AMAZON PAYMENTS EUROPE S.C. A...   21,98   \n",
      "21  02.01.  02.01.  Kartenzahlung NAHKAUF FRISCHEMARKT SVWZ+2018-1...   18,98   \n",
      "25  02.01.  02.01.  Basislastschrift AMAZON PAYMENTS EUROPE S.C. A...   80,48   \n",
      "31  02.01.  02.01.  Basislastschrift Bundeskasse in Halle EREF+552...  315,00   \n",
      "36  02.01.  02.01.    Zahlungseingang BENJAMIN KAMMERECK SVWZ+MSC JGA     NaN   \n",
      "39  02.01.  02.01.                     Zahlungseingang Helmut Matejka     NaN   \n",
      "41  05.04.  05.04.  Basislastschrift HIT EREF+IC-7335128958 MREF+6...   17,49   \n",
      "46  09.04.  09.04.  Kartenzahlung NAHKAUF FRISCHEMARKT SVWZ+2018-0...   15,02   \n",
      "50  09.04.  09.04.  Überweisung STRATIC LEDERWAREN JACOB BO KREF+H...  107,97   \n",
      "55  10.04.  10.04.  BUCHUNG KREDITKARTENABRECHNUNG IDENTIFIKATIONS...     NaN   \n",
      "60  10.04.  10.04.  Kartenzahlung ALLIANZ AG MUEN. SVWZ+2018-04-04...   50,00   \n",
      "64  17.04.  17.04.  Zahlungseingang Killy Wu SVWZ+Highschool Girl ...     NaN   \n",
      "68  18.04.  18.04.  Basislastschrift AMAZON PAYMENTS EUROPE S.C. A...   29,98   \n",
      "74  18.04.  18.04.  Kartenzahlung DB Vertrieb GmbH SVWZ+2018-04-17...   11,60   \n",
      "78  19.04.  19.04.                                   Basislastschrift    1,79   \n",
      "\n",
      "      plus  \n",
      "0      NaN  \n",
      "4      NaN  \n",
      "10     NaN  \n",
      "15     NaN  \n",
      "21     NaN  \n",
      "25     NaN  \n",
      "31     NaN  \n",
      "36   80,00  \n",
      "39  315,00  \n",
      "41     NaN  \n",
      "46     NaN  \n",
      "50     NaN  \n",
      "55    0,01  \n",
      "60     NaN  \n",
      "64   60,00  \n",
      "68     NaN  \n",
      "74     NaN  \n",
      "78     NaN  \n",
      "       category   minus    plus\n",
      "5          loan  315.00    0.00\n",
      "9      shopping  240.41    0.00\n",
      "1           car  111.73    0.00\n",
      "3     groceries   51.49    0.00\n",
      "0      canteene   50.00    0.00\n",
      "6        mobile   16.79    0.00\n",
      "10       travel   11.60    0.00\n",
      "8          rent    0.00  315.00\n",
      "7         other    0.00   80.00\n",
      "4       holiday    0.00   60.00\n",
      "2   credit card    0.00    0.01\n"
     ]
    }
   ],
   "source": [
    "import tabula\n",
    "import numpy as np\n",
    "import pandas as pd\n",
    "import seaborn as sb\n",
    "\n",
    "# read in pdf\n",
    "df1 = tabula.read_pdf('data/Kontoauszug_1032515684_Nr_2019_001_per_2019_01_04.pdf')\n",
    "df2 = tabula.read_pdf('data/Kontoauszug_1032515684_Nr_2018_005_per_2018_04_30.pdf')\n",
    "df  = [df1, df2]\n",
    "df  = pd.concat(df, ignore_index = True)\n",
    "\n",
    "# inspect table\n",
    "#print(df.columns)\n",
    "#print(df.shape)\n",
    "#print(df)\n",
    "\n",
    "# rename columns\n",
    "df.columns = [\"date\", \"value\", \"subject\", \"minus\", \"plus\"]\n",
    "#print(df)\n",
    "\n",
    "# get NA columns\n",
    "na_index  = (df[\"date\"].isna().index[df[\"date\"].isna() == False].tolist())\n",
    "na_index.extend([df.shape[0]])\n",
    "\n",
    "# concatenate subjects which actually belong together\n",
    "s = \" \"\n",
    "for i in range(0, len(na_index) - 1):\n",
    "    df.iloc[na_index[i], 2] = s.join(df.iloc[range(na_index[i], na_index[i+1]), 2])\n",
    "\n",
    "# remove rows with NA\n",
    "df = df[pd.notnull(df['date'])]\n",
    "#print(df)\n",
    "\n",
    "# adding categories\n",
    "df.index = range(0, df.shape[0], 1)\n",
    "df['category'] = pd.Series(['car', 'mobile', 'car', 'shopping', 'groceries', 'shopping', 'loan', 'other', 'rent', \n",
    "                           'groceries', 'groceries', 'shopping', 'credit card', 'canteene', 'holiday', 'shopping',\n",
    "                           'travel', 'mobile'], \n",
    "                             index = df.index)\n",
    "\n",
    "# replace NULL with 0\n",
    "df = df.fillna('0,0')\n",
    "\n",
    "# convert to numerics\n",
    "for i in range(0, df.shape[0]):\n",
    "    df.iloc[i, 3] = float(df.iloc[i, 3].replace(',', '.'))\n",
    "    df.iloc[i, 4] = float(df.iloc[i, 4].replace(',', '.'))\n",
    "#print(df)\n",
    "\n",
    "# cluster expenses\n",
    "df_exp = df[['category', 'minus']]\n",
    "df_exp = df_exp.groupby(['category']).sum().reset_index()\n",
    "df_exp = df_exp.drop(df_exp[df_exp.minus == 0].index)\n",
    "#print(df_exp)\n",
    "\n",
    "# cluster income\n",
    "df_inc = df[['category', 'plus']]\n",
    "df_inc = df_inc.groupby(['category']).sum().reset_index()\n",
    "df_inc = df_inc.drop(df_inc[df_inc.plus == 0].index)\n",
    "#print(df_inc)\n",
    "\n",
    "# cluster all\n",
    "df_all = df[['category', 'minus', 'plus']]\n",
    "df_all = df_all.groupby(['category']).sum().reset_index()\n",
    "\n",
    "# sort by largest categories\n",
    "df_all = df_all.sort_values(by = ['minus', 'plus'], ascending = False)\n",
    "\n",
    "print(df_all)"
   ]
  },
  {
   "cell_type": "code",
   "execution_count": 57,
   "metadata": {
    "scrolled": true
   },
   "outputs": [
    {
     "data": {
      "text/plain": [
       "<matplotlib.axes._subplots.AxesSubplot at 0x1cb8e1f0908>"
      ]
     },
     "execution_count": 57,
     "metadata": {},
     "output_type": "execute_result"
    },
    {
     "data": {
      "image/png": "[encoded data removed]",
      "text/plain": [
       "<Figure size 432x288 with 1 Axes>"
      ]
     },
     "metadata": {
      "needs_background": "light"
     },
     "output_type": "display_data"
    }
   ],
   "source": [
    "# barplot seaborn\n",
    "sb.barplot(x = \"category\", y = \"minus\", data = df_exp, label = \"Total\", color = \"b\")\n",
    "#sb.barplot(x = \"category\", y = \"plus\", data = df_inc, label = \"Total\", color = \"b\")"
   ]
  },
  {
   "cell_type": "code",
   "execution_count": 58,
   "metadata": {},
   "outputs": [
    {
     "data": {
      "text/html": [
       "\n",
       "    <div class=\"bk-root\">\n",
       "        <a href=\"https://bokeh.pydata.org\" target=\"_blank\" class=\"bk-logo bk-logo-small bk-logo-notebook\"></a>\n",
       "        <span id=\"574f7eb4-50fc-45d0-bc88-a59d539583ca\">Loading BokehJS ...</span>\n",
       "    </div>"
      ]
     },
     "metadata": {},
     "output_type": "execute_result"
    },
    {
     "data": {},
     "metadata": {},
     "output_type": "display_data"
    },
    {
     "data": {
      "text/html": [
       "\n",
       "\n",
       "\n",
       "\n",
       "\n",
       "\n",
       "  <div class=\"bk-root\" id=\"c855cde8-4b00-4c4e-a7f3-f3f87331f06e\"></div>\n"
      ]
     },
     "metadata": {},
     "output_type": "execute_result"
    },
    {
     "data": {},
     "metadata": {
      "application/vnd.bokehjs_exec.v0+json": {
       "id": "e83b5e73-66a8-41be-a2f4-7a541aa4ef30"
      }
     },
     "output_type": "display_data"
    }
   ],
   "source": [
    "# Bokeh libraries\n",
    "from bokeh.io import output_file, output_notebook\n",
    "from bokeh.plotting import figure, show\n",
    "from bokeh.models import ColumnDataSource\n",
    "from bokeh.layouts import row, column, gridplot\n",
    "from bokeh.models.widgets import Tabs, Panel\n",
    "\n",
    "# Determine where the visualization will be rendered\n",
    "#output_file('filename.html')  # Render to static HTML, or \n",
    "output_notebook()  # Render inline in a Jupyter Notebook\n",
    "\n",
    "# Create a ColumnDataSource object\n",
    "expenses = ColumnDataSource(df_all)\n",
    "\n",
    "# Create a figure with a datetime type x-axis\n",
    "fig = figure(x_range = df_all['category'], title = 'Bank Account Movements by Category',\n",
    "             x_axis_label = 'category', y_axis_label = 'amount [€]',\n",
    "             toolbar_location = None )\n",
    "\n",
    "# The expenses will be represented as vertical bars (columns)\n",
    "fig.vbar(x = 'category', top = 'minus', source = expenses,\n",
    "         color = 'coral', width = 0.75, \n",
    "         legend = 'Expenses')\n",
    "\n",
    "# income as well\n",
    "fig.vbar(x = 'category', top = 'plus', source = expenses,\n",
    "         color = 'limegreen', width = 0.75, \n",
    "         legend = 'Income')\n",
    "\n",
    "# Put the legend in the upper left corner\n",
    "fig.legend.location = 'top_right'\n",
    "\n",
    "# Let's check it out\n",
    "show(fig)"
   ]
  },
  {
   "cell_type": "code",
   "execution_count": 59,
   "metadata": {},
   "outputs": [
    {
     "name": "stdout",
     "output_type": "stream",
     "text": [
      "car\n",
      "mobile\n",
      "car\n",
      "shopping\n",
      "groceries\n",
      "shopping\n",
      "student loan\n",
      "other\n",
      "Zahlungseingang BENJAMIN KAMMERECK SVWZ+MSC JGA\n",
      "rent simbach\n",
      "groceries\n",
      "groceries\n",
      "other\n",
      "Überweisung STRATIC LEDERWAREN JACOB BO KREF+HKCCS57577 SVWZ+0521.7646.3058 1000162 71152 3284646 DATUM 09.04.2018, 16.39 UHR 1.TAN 194692\n",
      "credit card\n",
      "other\n",
      "Kartenzahlung ALLIANZ AG MUEN. SVWZ+2018-04-04T08.38.43 Ka rte0 2018-12 ABWA+ALLIANZ//MUENCHEN/DE\n",
      "other\n",
      "Zahlungseingang Killy Wu SVWZ+Highschool Girl thanks handsome Surfi Boi for a g reat time down under OO\n",
      "shopping\n",
      "other\n",
      "Kartenzahlung DB Vertrieb GmbH SVWZ+2018-04-17T09.04.37 Ka rte0 2018-12 ABWA+DB AUTOMAT//MUENCHEN M ARIENPLATZ/DE\n",
      "other\n",
      "Basislastschrift\n"
     ]
    }
   ],
   "source": [
    "for i in range(0, df.shape[0]):\n",
    "    if df.iloc[i, 2].find(\"ARAL\") != -1:\n",
    "        print(\"car\")\n",
    "    elif df.iloc[i, 2].find(\"AMAZON\") != -1:\n",
    "        print(\"shopping\")\n",
    "    elif df.iloc[i, 2].find(\"E-Plus\") != -1:\n",
    "        print(\"mobile\")\n",
    "    elif df.iloc[i, 2].find(\"FRISCHEMARKT\") != -1:\n",
    "        print(\"groceries\")\n",
    "    elif df.iloc[i, 2].find(\"Bundeskasse in Halle\") != -1:\n",
    "        print(\"student loan\")\n",
    "    elif df.iloc[i, 2].find(\"Matejka\") != -1:\n",
    "        print(\"rent simbach\")\n",
    "    elif df.iloc[i, 2].find(\"KREDITKARTENABRECHNUNG\") != -1:\n",
    "        print(\"credit card\")\n",
    "    elif df.iloc[i, 2].find(\"HIT\") != -1:\n",
    "        print(\"groceries\")\n",
    "    else:\n",
    "        print(\"other\")\n",
    "        print(df.iloc[i, 2])"
   ]
  },
  {
   "cell_type": "code",
   "execution_count": null,
   "metadata": {},
   "outputs": [],
   "source": []
  }
 ],
 "metadata": {
  "kernelspec": {
   "display_name": "Python 3",
   "language": "python",
   "name": "python3"
  },
  "language_info": {
   "codemirror_mode": {
    "name": "ipython",
    "version": 3
   },
   "file_extension": ".py",
   "mimetype": "text/x-python",
   "name": "python",
   "nbconvert_exporter": "python",
   "pygments_lexer": "ipython3",
   "version": "3.7.0"
  },
  "varInspector": {
   "cols": {
    "lenName": 16,
    "lenType": 16,
    "lenVar": 40
   },
   "kernels_config": {
    "python": {
     "delete_cmd_postfix": "",
     "delete_cmd_prefix": "del ",
     "library": "var_list.py",
     "varRefreshCmd": "print(var_dic_list())"
    },
    "r": {
     "delete_cmd_postfix": ") ",
     "delete_cmd_prefix": "rm(",
     "library": "var_list.r",
     "varRefreshCmd": "cat(var_dic_list()) "
    }
   },
   "oldHeight": 323.67814200000004,
   "position": {
    "height": "40px",
    "left": "855.429px",
    "right": "20px",
    "top": "50px",
    "width": "364.821px"
   },
   "types_to_exclude": [
    "module",
    "function",
    "builtin_function_or_method",
    "instance",
    "_Feature"
   ],
   "varInspector_section_display": "none",
   "window_display": true
  }
 },
 "nbformat": 4,
 "nbformat_minor": 2
}
