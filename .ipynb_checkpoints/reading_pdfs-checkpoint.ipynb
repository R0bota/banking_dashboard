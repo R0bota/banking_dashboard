{
 "cells": [
  {
   "cell_type": "code",
   "execution_count": 82,
   "metadata": {},
   "outputs": [
    {
     "name": "stdout",
     "output_type": "stream",
     "text": [
      "(41, 5)\n",
      "      date   value                                            subject   minus  \\\n",
      "0   02.01.  02.01.  Kartenzahlung ARAL AG SVWZ+2018-12-29T00.48 De...   50,20   \n",
      "4   02.01.  02.01.  Basislastschrift E-Plus Service GmbH EREF+3384...   15,00   \n",
      "10  02.01.  02.01.  Kartenzahlung ARAL AG SVWZ+2018-12-28T19.36 De...   61,53   \n",
      "15  02.01.  02.01.  Basislastschrift AMAZON PAYMENTS EUROPE S.C. A...   21,98   \n",
      "21  02.01.  02.01.  Kartenzahlung NAHKAUF FRISCHEMARKT SVWZ+2018-1...   18,98   \n",
      "25  02.01.  02.01.  Basislastschrift AMAZON PAYMENTS EUROPE S.C. A...   80,48   \n",
      "31  02.01.  02.01.  Basislastschrift Bundeskasse in Halle EREF+552...  315,00   \n",
      "36  02.01.  02.01.    Zahlungseingang BENJAMIN KAMMERECK SVWZ+MSC JGA     NaN   \n",
      "39  02.01.  02.01.                     Zahlungseingang Helmut Matejka     NaN   \n",
      "\n",
      "      plus  \n",
      "0      NaN  \n",
      "4      NaN  \n",
      "10     NaN  \n",
      "15     NaN  \n",
      "21     NaN  \n",
      "25     NaN  \n",
      "31     NaN  \n",
      "36   80,00  \n",
      "39  315,00  \n"
     ]
    }
   ],
   "source": [
    "import tabula\n",
    "import numpy as np\n",
    "import pandas as pd\n",
    "import seaborn as sb\n",
    "\n",
    "# read in pdf\n",
    "df = tabula.read_pdf('data/Kontoauszug_1032515684_Nr_2019_001_per_2019_01_04.pdf')\n",
    "\n",
    "# inspect table\n",
    "#print(df.columns)\n",
    "print(df.shape)\n",
    "\n",
    "# rename columns\n",
    "df.columns = [\"date\", \"value\", \"subject\", \"minus\", \"plus\"]\n",
    "#print(df)\n",
    "\n",
    "# get NA columns\n",
    "na_index  = (df[\"date\"].isna().index[df[\"date\"].isna() == False].tolist())\n",
    "na_index.extend([df.shape[0]])\n",
    "\n",
    "# concatenate subjects which actually belong together\n",
    "s = \" \"\n",
    "for i in range(0, len(na_index) - 1):\n",
    "    df.iloc[na_index[i], 2] = s.join(df.iloc[range(na_index[i], na_index[i+1]), 2])\n",
    "\n",
    "# remove rows with NA\n",
    "df = df[pd.notnull(df['date'])]\n",
    "print(df)"
   ]
  },
  {
   "cell_type": "code",
   "execution_count": 86,
   "metadata": {},
   "outputs": [
    {
     "name": "stdout",
     "output_type": "stream",
     "text": [
      "<class 'pandas.core.series.Series'>\n",
      "      date   value                                            subject   minus  \\\n",
      "0   02.01.  02.01.  Kartenzahlung ARAL AG SVWZ+2018-12-29T00.48 De...   50,20   \n",
      "4   02.01.  02.01.  Basislastschrift E-Plus Service GmbH EREF+3384...   15,00   \n",
      "10  02.01.  02.01.  Kartenzahlung ARAL AG SVWZ+2018-12-28T19.36 De...   61,53   \n",
      "15  02.01.  02.01.  Basislastschrift AMAZON PAYMENTS EUROPE S.C. A...   21,98   \n",
      "21  02.01.  02.01.  Kartenzahlung NAHKAUF FRISCHEMARKT SVWZ+2018-1...   18,98   \n",
      "25  02.01.  02.01.  Basislastschrift AMAZON PAYMENTS EUROPE S.C. A...   80,48   \n",
      "31  02.01.  02.01.  Basislastschrift Bundeskasse in Halle EREF+552...  315,00   \n",
      "36  02.01.  02.01.    Zahlungseingang BENJAMIN KAMMERECK SVWZ+MSC JGA     NaN   \n",
      "39  02.01.  02.01.                     Zahlungseingang Helmut Matejka     NaN   \n",
      "\n",
      "      plus  \n",
      "0      NaN  \n",
      "4      NaN  \n",
      "10     NaN  \n",
      "15     NaN  \n",
      "21     NaN  \n",
      "25     NaN  \n",
      "31     NaN  \n",
      "36   80,00  \n",
      "39  315,00  \n"
     ]
    }
   ],
   "source": [
    "import re\n",
    "# plot\n",
    "# income vs outflow\n",
    "#print(re.sub(',', '.', df[\"minus\"]))\n",
    "#df[\"minus\"] = df[\"minus\"].replace(\",\", \".\")\n",
    "print(type(df[\"minus\"]))\n",
    "#df[\"minus\"] = pd.to_numeric(df[\"minus\"])\n",
    "#print(df[\"minus\"].sum(axis = 0, skipna = True))\n",
    "#sb.barplot(df[s])\n",
    "print(df)"
   ]
  }
 ],
 "metadata": {
  "kernelspec": {
   "display_name": "Python 3",
   "language": "python",
   "name": "python3"
  },
  "language_info": {
   "codemirror_mode": {
    "name": "ipython",
    "version": 3
   },
   "file_extension": ".py",
   "mimetype": "text/x-python",
   "name": "python",
   "nbconvert_exporter": "python",
   "pygments_lexer": "ipython3",
   "version": "3.7.0"
  }
 },
 "nbformat": 4,
 "nbformat_minor": 2
}
