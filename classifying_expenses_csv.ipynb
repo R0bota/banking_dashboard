{
 "cells": [
  {
   "cell_type": "code",
   "execution_count": 94,
   "metadata": {
    "scrolled": false
   },
   "outputs": [
    {
     "name": "stdout",
     "output_type": "stream",
     "text": [
      "Index(['Buchungstag', '\"Wertstellung\"', '\"Buchungstext\"',\n",
      "       '\"Auftraggeber / Begünstigter\"', '\"Verwendungszweck\"', '\"Kontonummer\"',\n",
      "       '\"BLZ\"', '\"Betrag (EUR)\"', '\"Gläubiger-ID\"', '\"Mandatsreferenz\"',\n",
      "       '\"Kundenreferenz\"', ''],\n",
      "      dtype='object', name=0)\n",
      "(320, 12)\n"
     ]
    }
   ],
   "source": [
    "import numpy as np\n",
    "import pandas as pd\n",
    "import plotly.graph_objects as go\n",
    "import plotly.express as px\n",
    "from pyexcel_ods import get_data\n",
    "\n",
    "# read data\n",
    "data_giro = get_data(\"data/1032515684.csv.ods\", encoding = 'ISO-8859-1', sep = ';')\n",
    "df_giro = pd.DataFrame(data_giro['Sheet1'])\n",
    "\n",
    "# split data\n",
    "df_giro = pd.concat([df_giro[0].str.split(';', expand=True)], axis=1)\n",
    "# move header from first row\n",
    "df_giro.columns = df_giro.iloc[0, :]\n",
    "df_giro = df_giro.iloc[1:]\n",
    "\n",
    "# inspect table\n",
    "print(df_giro.columns)\n",
    "print(df_giro.shape)\n",
    "\n",
    "# drop columns not needed for analysis\n",
    "df_giro = df_giro.iloc[:, [0, 3, 4, 5, 7]]\n",
    "\n",
    "# rename columns\n",
    "df_giro.columns = [\"date\", 'debitor', \"subject\", \"account\", \"amount\"]\n",
    "# merge debitor and subject column for more information\n",
    "df_giro['text'] = df_giro['debitor'] + df_giro['subject']\n",
    "\n",
    "# get NA columns\n",
    "na_index  = (df_giro[\"amount\"].isna().index[df_giro[\"amount\"].isna() == False].tolist())\n",
    "\n",
    "# concatenate subjects which actually belong together\n",
    "s = \" \"\n",
    "for i in range(0, len(na_index) - 1):\n",
    "    df_giro.iloc[na_index[i], 1] = s.join(df_giro.iloc[range(na_index[i], na_index[i+1]), 1])\n",
    "\n",
    "# remove rows with NA\n",
    "df_giro = df_giro[pd.notnull(df_giro['amount'])]\n",
    "\n",
    "# replace NULL with 0\n",
    "df_giro = df_giro.fillna('0,0')\n",
    "\n",
    "# convert to numerics\n",
    "for i in range(0, df_giro.shape[0]):\n",
    "    df_giro.iloc[i, 4] = df_giro.iloc[i, 4].replace('.', '')\n",
    "    df_giro.iloc[i, 4] = df_giro.iloc[i, 4].replace('\"', '')\n",
    "    df_giro.iloc[i, 4] = float(df_giro.iloc[i, 4].replace(',', '.'))\n",
    "    \n",
    "# drop incomes\n",
    "df_giro = df_giro[df_giro['amount'] < 0]\n",
    "\n",
    "# drop credit card settlements\n",
    "df_giro = df_giro[df_giro['debitor'] != '\"KREDITKARTENABRECHNUNG\"']\n",
    "\n",
    "# only relevant columns for merging\n",
    "df_giro = df_giro.iloc[:, [0, 5, 4]]"
   ]
  },
  {
   "cell_type": "code",
   "execution_count": 95,
   "metadata": {
    "scrolled": true
   },
   "outputs": [
    {
     "name": "stdout",
     "output_type": "stream",
     "text": [
      "Index(['Umsatz abgerechnet und nicht im Saldo enthalten', '\"Wertstellung\"',\n",
      "       '\"Belegdatum\"', '\"Beschreibung\"', '\"Betrag (EUR)\"',\n",
      "       '\"Ursprünglicher Betrag\"', ''],\n",
      "      dtype='object', name=0)\n",
      "(222, 7)\n"
     ]
    }
   ],
   "source": [
    "# read data\n",
    "data_credit = get_data(\"data/4748.csv.ods\", encoding = 'ISO-8859-1', sep = ';')\n",
    "df_credit = pd.DataFrame(data_credit['Sheet1'])\n",
    "\n",
    "# split data\n",
    "df_credit = pd.concat([df_credit[0].str.split(';', expand=True)], axis=1)\n",
    "\n",
    "# move header from first row\n",
    "df_credit.columns = df_credit.iloc[0, :]\n",
    "df_credit = df_credit.iloc[1:]\n",
    "\n",
    "# inspect table\n",
    "print(df_credit.columns)\n",
    "print(df_credit.shape)\n",
    "\n",
    "# drop columns not needed for analysis\n",
    "df_credit = df_credit.iloc[:, [2, 3, 4]]\n",
    "\n",
    "# rename columns\n",
    "df_credit.columns = [\"date\", 'text', \"amount\"]\n",
    "\n",
    "# convert to numerics\n",
    "for i in range(0, df_credit.shape[0]):\n",
    "    df_credit.iloc[i, 2] = df_credit.iloc[i, 2].replace('.', '')\n",
    "    df_credit.iloc[i, 2] = df_credit.iloc[i, 2].replace('\"', '')\n",
    "    df_credit.iloc[i, 2] = float(df_credit.iloc[i, 2].replace(',', '.'))\n",
    "    \n",
    "# drop credit card settlements / incomes\n",
    "#df_credit = df_credit[df_credit['text'] != 'Ausgleich']\n",
    "df_credit = df_credit[df_credit['amount'] < 0]"
   ]
  },
  {
   "cell_type": "code",
   "execution_count": 99,
   "metadata": {
    "scrolled": true
   },
   "outputs": [
    {
     "name": "stdout",
     "output_type": "stream",
     "text": [
      "46     \"ROBERT HAGER\"\"MS Geld               DATUM 16....\n",
      "56     \"FINANZKASSE MUENCHEN\"\"Einkommenssteuer 2018 -...\n",
      "192    \"POLIZEIVERWALTUNGSAMT\"\"DATUM 28.05.2019,     ...\n",
      "214    \"ROBERT HAGER\"\"ETF Geld              DATUM 29....\n",
      "221    \"SCHLOSSWALD GMBH\"\"Erinnerungstafel Auftrag-Nr...\n",
      "232    \"STADT NITTENAU\"\"Bestattung Engelbert Hager - ...\n",
      "240    \"SPORTPARK//Muenchen/DE / SPORTPARK\"\"2019-04-0...\n",
      "258    \"KREISVERWALTUNGSREF. MCHN.//Muenchen/DE / KRE...\n",
      "307    \"JANA BETZOLD\"\"Kochkurs  ORIENTAL SOULFOOD  - ...\n",
      "33                  \"EB *HERBSTTAGUNG DES G801-413-7200\"\n",
      "Name: text, dtype: object\n"
     ]
    }
   ],
   "source": [
    "# merge data frames\n",
    "df = df_giro.append(df_credit) \n",
    "\n",
    "# cluster dictionary\n",
    "cluster = {\n",
    "    'grocery': ['ALDI', 'APOTHEKE', 'DM', 'EDEKA', 'FOODORA', 'HELLOFRESH', 'KAUFLAND', 'Kaufland',\n",
    "                'Lidl', 'LIDL', 'Lieferando', 'NAHKAUF', 'ORTERER', 'REAL', 'REWE'],\n",
    "    \n",
    "    'travel':     [\n",
    "                    # tankstellen\n",
    "                    'AGIP', 'ARAL', 'BP', 'Eni', 'OMV', 'Rastanlage', 'SHELL', 'TANK', 'Tankstelle',\n",
    "                    # berge\n",
    "                    'Gletscherbahn', 'Karwendelbahn', 'MIEDERSMIEDERS', 'RATSCHINGS',\n",
    "                    # verkehrsmittel\n",
    "                    'AUTOMATENMUENCHEN', 'DB', 'MAUTSTELLE', 'Scheffau', \n",
    "                    # slowenien\n",
    "                    'HRUSICAHRUSICA', 'KITCHEBLED', 'LJUBLJANA',\n",
    "                    # spanien\n",
    "                    'CORDOBA', 'GRANADA', 'KARTMONIGA', 'MADRID', 'SEVILLA', 'TRAINLINE', \n",
    "                    # amsterdam\n",
    "                    'AMSTERDAM', 'Amsterdam', 'MYLAPS',\n",
    "                    # unterkunft\n",
    "                    'AIRBNB', 'HMS HUETTEN-MIET', 'HOLZKNECHTHUETTE', 'HOTEL', 'Hotel',\n",
    "                    # rest\n",
    "                    'CHECKOUTMUENCHEN', 'Coop', 'FEDERICODESENZANO', 'KILLY', 'LAIMBBOLZANO', \n",
    "                    'PP.9048.PP', 'SACATUENTRADA', 'WALLISELLEN', 'Zurich', 'ZVKDZ'\n",
    "                  ], \n",
    "    \n",
    "    'cash':    ['COMMERZBANK', 'HVB', 'hypo', 'KSK', 'MUENCHNER BANK', 'POSTBANK', 'RAIFFEISENBANK', \n",
    "                'SPARDA', 'Sparkasse', 'STADTSPARKASSE', 'VR-BANK'],\n",
    "    \n",
    "    'debt': ['Bundeskasse'],\n",
    "    \n",
    "    'run_costs': [\n",
    "                  # miete/wohnen\n",
    "                  'GWG ST.WOHN', 'M-net', 'RENKER',\n",
    "                  # versicherungen\n",
    "                  'ALLIANZ AG',  'BAYER. LANDESBRANDVERS.', 'HE-1008-2831', 'UNION', 'VHV Allgemeine Versicherung',\n",
    "                  # job\n",
    "                  'ALLIANZ DEUTSCHLAND', 'BAYERISCHE LANDESBRANDVERS', 'VERKEHRSGESELLS',\n",
    "                  # rest\n",
    "                  'E-Plus', 'MTV Muenchen', 'SpotifyStockholm'\n",
    "                  ],\n",
    "    \n",
    "    'shopping': ['AMAZON', 'adidas', 'BAUHAUS', 'DALLMAYR', 'ELBENWALD', 'HUGENDUBEL', 'HULA', 'Jack + Jones', \n",
    "                 'KARSTADT', 'LUDWIG BECK', 'MINIT', 'NINTENDO', 'OUTFITTERY', 'SCHUSTER', 'STRATIC'],\n",
    "    \n",
    "    'property': ['Abfallwirtschaftsverband', 'KAMINKEHRERMEISTER', 'Schmutzwassergeb.', 'Simbach'],\n",
    "    \n",
    "    'goout': ['Banyan', 'BRAEUSTUBEN', 'CHI THU', 'DONALDS', 'HANOI', 'KANSHA', 'Nam Giao', 'NAMASTE',\n",
    "              'Ngoc', 'Paulaner', 'PEPENERO', 'RESTAURANT', 'Restaurant', 'SEESTUEBERL', 'Shadow Bean', \n",
    "              'SUBWAY', 'TAKUMI', 'UBER']\n",
    "}\n",
    "\n",
    "df['cluster'] = ''\n",
    "\n",
    "# assign bookings to cluster\n",
    "for x in df['text']:\n",
    "    for y in cluster:\n",
    "        for z in cluster[y]:\n",
    "            if (z in x):\n",
    "                df.loc[df['text'] == x, 'cluster'] = y\n",
    "                \n",
    "# show items not assigned\n",
    "if len(df.loc[df['cluster'] == '', 'text']) == 0:\n",
    "    print('all items assigned')\n",
    "else:\n",
    "    print(df.loc[df['cluster'] == '', 'text'])\n",
    "    \n",
    "df.loc[df['cluster'] == '', 'cluster'] = 'other'"
   ]
  },
  {
   "cell_type": "code",
   "execution_count": 100,
   "metadata": {},
   "outputs": [],
   "source": [
    "df.loc[df['cluster'] == 'other', ].to_csv('other.csv')\n",
    "df.loc[df['cluster'] == 'run_costs', ].to_csv('run_costs.csv')"
   ]
  },
  {
   "cell_type": "code",
   "execution_count": 97,
   "metadata": {
    "scrolled": true
   },
   "outputs": [
    {
     "data": {
      "application/vnd.plotly.v1+json": {
       "config": {
        "plotlyServerURL": "https://plot.ly"
       },
       "data": [
        {
         "hoverinfo": "text",
         "hovertext": [
          "\"1A TANKEN WASCHEN GMBH//SCHIERLING/DE / TANKEN U WASCHEN\"\"2019-12-28T17:12 21917Debitk.0 202\"",
          "\"ARAL Munchen Kapuzinerstrase 46//Munchen/DE / ARAL AG\"\"Kartenzahlung 2019-12-29T20:59 21920Debitk.0 202\"",
          "\"E-Plus Service GmbH\"\"Aufladung bei geringem Guthaben fuer Ihr Prepaid-Konto 4915730733922-8429. Aldi Talk sagt DANKE\"",
          "\"DANKE, IHR LIDL//Schierling/DE / DANKE, IHR LIDL\"\"2019-12-28T17:05 21917Debitk.0 202\"",
          "\"731 EDEKA M ECHARDINGER STR//MUENCHEN/DE / 731 EDEKA M ECHARDINGER STR\"\"2019-12-27T17:59 21917Debitk.0 202\"",
          "\"GWG ST.WOHN.GES.MUENCHEN MBH\"\"605820480 Mieter: Wu, Killy Hager, Robert        DATUM 26.12.2019, 16.44 UHR1.TAN 621377\"",
          "\"MARIA MAGDALENA RENKER\"\"Kaltmiete\"",
          "\"MARIA MAGDALENA RENKER\"\"Strom + GEZ\"",
          "\"NAMASTE REGENSBURG//Regensburg/DE / NAMASTE REGENSBURG\"\"2019-12-23T21:32 21921Debitk.0 202\"",
          "\"LUDWIG BECK AG\"\"ELV61426879 21.12 10.38 ME0 LUDWIG BECK SAGT DANKE\"",
          "\"AMAZON EU S.A R.L., NIEDERLASSUNG DEUTSCHLAND\"\"302-0960478-4574760 Amazon.de 6WYX4CLR332Y9Y62\"",
          "\"ELBENWALD GMBH//COTTBUS/DE / ELBENWALD GMBH\"\"2019-12-21T11:39 21911Debitk.0 202\"",
          "\"ALOIS DALLMAYR KG//MUENCHEN/DE / ALOIS DALLMAYR KG\"\"2019-12-21T10:28 21910Debitk.0 202\"",
          "\"Shadow Bean Cafe + Bar GbR//Muenchen/DE / SHADOW BEAN CAFE + BAR\"\"2019-12-22T11:26 21911Debitk.0 202\"",
          "\"BAYERISCHE LANDESBRANDVERS//MUENCHEN/DE / EC-CASINO-W303VKB\"\"2019-12-18T11:53 21911Debitk.0 202\"",
          "\"KILLY WU\"\"Amsterdam + Island + Russland                    DATUM 19.12.2019, 14.52 UHR1.TAN 716698\"",
          "\"DM FIL.0237 H:65132//MUENCHEN/DE / DM DROGERIEMARKT SAGT DANKE\"\"2019-12-18T15:44 21915Debitk.0 202\"",
          "\"M-net Telekommunikations GmbH\"\"D-Nr M501432264, /INV/201911313482 vom 12.12.2019, TELEFONIE November 2019, ZahlB 1304411811           ABWA+M-net Telek. GmbH\"",
          "\"858 EDEKA M LINDWURMSTR//MUENCHEN/DE / 858 EDEKA M LINDWURMSTR\"\"2019-12-18T15:49 21915Debitk.0 202\"",
          "\"Stadt Simbach a. Inn\"\"3758 .FAD 3758-2 Schmutzwassergeb. Moosecker Str.19/ 35,00/16.12.19FAD 3758-2 Niederschlagswassergeb..\"",
          "\"NAHKAUF FRISCHEMARKT//Muenchen/DE / NAHKAUF FRISCHEMARKT\"\"2019-12-12T16:45 21916Debitk.0 202\"",
          "\"858 EDEKA M LINDWURMSTR//MUENCHEN/DE / 858 EDEKA M LINDWURMSTR\"\"2019-12-10T10:34 21910Debitk.0 202\"",
          "\"AMAZON EU S.A R.L., NIEDERLASSUNG DEUTSCHLAND\"\"304-7841081-2286709 Amazon.de 79NZ6NBGQF98B292\"",
          "\"HANOI//MUENCHEN/DE / HANOI\"\"2019-12-05T20:26 21920Debitk.0 202\"",
          "\"BAYERISCHE LANDESBRANDVERS//MUENCHEN/DE / EC-CASINO-W303VKB\"\"2019-12-03T11:40 21911Debitk.0 202\"",
          "\"858 EDEKA M LINDWURMSTR//MUENCHEN/DE / 858 EDEKA M LINDWURMSTR\"\"2019-12-02T18:15 21918Debitk.0 202\"",
          "\"NAHKAUF FRISCHEMARKT//Muenchen/DE / NAHKAUF FRISCHEMARKT\"\"2019-11-29T17:56 11917Debitk.0 202\"",
          "\"UNION KRANKENVERSICHERUNG AKTIENGESELLSCHAFT\"\"AUSL.KV KA-7066-0705 Auslandsreisekrankenversicherung 01.12.2019 - 30.11.2020                          ABWA+Union Krankenversicherung AG\"",
          "\"E-Plus Service GmbH\"\"Aufladung bei geringem Guthaben fuer Ihr Prepaid-Konto 4915730733922-8429. Aldi Talk sagt DANKE\"",
          "\"MARIA MAGDALENA RENKER\"\"Kaltmiete\"",
          "\"MARIA MAGDALENA RENKER\"\"Strom + GEZ\"",
          "\"RESTAURANT SHANDIZ//MUENCHEN/DE / REST SHANDIZ SALEHI\"\"2019-11-25T20:28 11920Debitk.0 202\"",
          "\"BAYERISCHE LANDESBRANDVERS//MUENCHEN/DE / EC-CASINO-U14-VKB\"\"2019-11-20T11:39 Debitk.0 2022-12\"",
          "\"858 EDEKA M LINDWURMSTR//MUENCHEN/DE / 858 EDEKA M LINDWURMSTR\"\"2019-11-21T19:07 Debitk.0 2022-12\"",
          "\"M-net Telekommunikations GmbH\"\"D-Nr M501432264, /INV/201910315820 vom 14.11.2019, TELEFONIE Oktober 2019, ZahlB 1303861548            ABWA+M-net Telek. GmbH\"",
          "\"ROBERT HAGER\"\"MS Geld               DATUM 16.11.2019, 11.29 UHR1.TAN 866353\"",
          "\"858 EDEKA M LINDWURMSTR//MUENCHEN/DE / 858 EDEKA M LINDWURMSTR\"\"2019-11-15T16:42 Debitk.0 2022-12\"",
          "\"Abfallwirtschaftsverband Isar-Inn\"\"72625 .72625-1 Abfallgebuehr 2019 Moosecker Str. 19 .                       ABWA+AWV Isar-Inn\"",
          "\"858 EDEKA M LINDWURMSTR//MUENCHEN/DE / 858 EDEKA M LINDWURMSTR\"\"2019-11-14T16:33 Debitk.0 2022-12\"",
          "\"Stadt Simbach a. Inn\"\"3758 .FAD 3758-1 GrSt Moosecker Str.19, Einfamilien/ 10,58/15.11.19\"",
          "\"BAYERISCHE LANDESBRANDVERS//MUENCHEN/DE / EC-CASINO-U14-VKB\"\"2019-11-11T09:21 Debitk.0 2022-12\"",
          "\"858 EDEKA M LINDWURMSTR//MUENCHEN/DE / 858 EDEKA M LINDWURMSTR\"\"2019-11-11T18:01 Debitk.0 2022-12\"",
          "\"AMAZON MEDIA EU S.A R.L.\"\"D01-1554286-1791006 Kindle Svcs 6HL5YILIRF9H6GGT\"",
          "\"FINANZKASSE MUENCHEN\"\"Einkommenssteuer 2018 - Robert Hager - 51 869 375 023 - 182/460/13353       DATUM 07.11.2019, 20.45 UHR1.TAN 392512\"",
          "\"MARIA-MAGDALENA RENKER\"\"Vielen Dank fuers auschecken :)                  DATUM 03.11.2019, 22.07 UHR1.TAN 422708\"",
          "\"E-Plus Service GmbH\"\"Aufladung bei geringem Guthaben fuer Ihr Prepaid-Konto 4915730733922-8429. Aldi Talk sagt DANKE\"",
          "\"858 EDEKA M LINDWURMSTR//MUENCHEN/DE / 858 EDEKA M LINDWURMSTR\"\"2019-10-28T16:45 Debitk.0 2022-12\"",
          "\"DM FIL.0237 H:65132//MUENCHEN/DE / DM DROGERIEMARKT SAGT DANKE\"\"2019-10-28T16:49 Debitk.0 2022-12\"",
          "\"SUBWAY AM GOETHEPLATZ//MÜNCHEN/DE / SG-VR Payment GmbH\"\"2019-10-26T15:22 Debitk.0 2022-12\"",
          "\"MARIA MAGDALENA RENKER\"\"Kaltmiete\"",
          "\"BAYERISCHE LANDESBRANDVERS//MUENCHEN/DE / EC-CASINO-W303VKB\"\"2019-10-24T11:33 Debitk.0 2022-12\"",
          "\"MARIA MAGDALENA RENKER\"\"Strom + GEZ\"",
          "\"KARSTADT LEBENSM. SAGT DANK//Muenchen/DE / KAFEIN M-Stachus 013\"\"2019-10-26T12:53 Debitk.0 2022-12\"",
          "\"HUGENDUBEL 0150 FIL.0150 GIR 69256732//MUENCHEN/DE / HUGENDUBEL 0150\"\"2019-10-26T12:42 Debitk.0 2022-12\"",
          "\"858 EDEKA M LINDWURMSTR//MUENCHEN/DE / 858 EDEKA M LINDWURMSTR\"\"2019-10-26T15:24 Debitk.0 2022-12\"",
          "\"858 EDEKA M LINDWURMSTR//MUENCHEN/DE / 858 EDEKA M LINDWURMSTR\"\"2019-10-22T19:01 Debitk.0 2022-12\"",
          "\"KARSTADT SPORTS GMBH//Muenchen/DE / KARSTADT SPORTS GMBH\"\"2019-10-17T19:46 Debitk.0 2022-12\"",
          "\"SPORTHAUS SCHUSTER\"\"ELV61409797 17.10 18.47 ME0 SPORTHAUS SCHUSTER\"",
          "\"adidas BCS Sendlinger Str//MAnchen/DE/0 / Landesbank Hessen-Thuringen Girozentrale\"\"2019-10-17T17:57 Debitk.0 2099-12\"",
          "\"M-net Telekommunikations GmbH\"\"D-Nr M501432264, /INV/201909318567 vom 14.10.2019, TELEFONIE September 2019, ZahlB 1303559689          ABWA+M-net Telek. GmbH\"",
          "\"ROSEN-APOTHEKE//MUENCHEN/DE / ROSEN APOTHEKE\"\"2019-10-17T18:55 Debitk.0 2022-12\"",
          "\"MUE VERKEHRSGESELLS\"\"IsarCardAbo uebertragbar X.\"",
          "\"HELLOFRESH\"\"HelloFresh Deutschland SE Co. KG HELLOFRESH.DE,231125382,2019 10 10          AWV-MELDEPFLICHT BEACHTEN  HOTLINE BUNDESBANK:        (0800) 1234-111            ABWA+HelloFresh Deutschland SE . Co. KG\"",
          "\"BAYERISCHE LANDESBRANDVERS//MUENCHEN/DE / EC-CASINO-W303VKB\"\"2019-10-10T13:01 Debitk.0 2022-12\"",
          "\"874 EDEKA M GOLLIERSTR//MUENCHEN/DE / 874 EDEKA M GOLLIERSTR\"\"2019-10-11T18:35 Debitk.0 2022-12\"",
          "\"BAYER. LANDESBRANDVERS. AG\"\"Gebaeudebrandversicherung fuer Klara Hager (B3-330-6685)                    DATUM 10.10.2019, 18.48 UHR1.TAN 030086\"",
          "\"DANKE, IHR LIDL//Schierling/DE / DANKE, IHR LIDL\"\"2019-10-04T18:51 Debitk.0 2022-12\"",
          "\"HELLOFRESH\"\"HelloFresh Deutschland SE Co. KG HELLOFRESH.DE,251198182,2019 10 02          AWV-MELDEPFLICHT BEACHTEN  HOTLINE BUNDESBANK:        (0800) 1234-111            ABWA+HelloFresh Deutschland SE . Co. KG\"",
          "\"E-Plus Service GmbH\"\"Aufladung bei geringem Guthaben fuer Ihr Prepaid-Konto 4915730733922-8429. Aldi Talk sagt DANKE\"",
          "\"Bundeskasse in Halle\"\"BUKA HALLE DARLEHEN 55207616398\"",
          "\"BAYERISCHE LANDESBRANDVERS//MUENCHEN/DE / EC-CASINO-W303VKB\"\"2019-09-27T11:49 Debitk.0 2022-12\"",
          "\"MARIA MAGDALENA RENKER\"\"Kaltmiete\"",
          "\"HANOI//MUENCHEN/DE / HANOI\"\"2019-09-26T19:51 Debitk.0 2022-12\"",
          "\"HELLOFRESH\"\"HelloFresh Deutschland SE Co. KG HELLOFRESH.DE,227446582,2019 09 26          AWV-MELDEPFLICHT BEACHTEN  HOTLINE BUNDESBANK:        (0800) 1234-111            ABWA+HelloFresh Deutschland SE . Co. KG\"",
          "\"MARIA MAGDALENA RENKER\"\"Strom + GEZ\"",
          "\"PEPENERO//MUENCHEN/DE / PEPENERO\"\"2019-09-25T20:00 Debitk.0 2022-12\"",
          "\"SHELL 2506// Berg /DE / Shell Deutschland Oil GmbH\"\"2019-09-22T17:36 Debitk.0 2022-12\"",
          "\"858 EDEKA M LINDWURMSTR//MUENCHEN/DE / 858 EDEKA M LINDWURMSTR\"\"2019-09-23T17:57 Debitk.0 2022-12\"",
          "\"Karwendelbahn AG//Mittenwald/DE / Karwendelbahn AG\"\"Karwendelbahn AG 2019-09-22T15:53 Debitk.0 2022-12\"",
          "\"Jack + Jones Schwanthaler Hoeh//Muenche/DE / 182 JACK + JONES SCHWANTHAL\"\"2019-09-18T18:03 Debitk.0 2022-12\"",
          "\"BAYERISCHE LANDESBRANDVERS//MUENCHEN/DE / EC-CASINO-U14-VKB\"\"2019-09-17T11:34 Debitk.0 2022-12\"",
          "\"M-net Telekommunikations GmbH\"\"D-Nr M501432264, /INV/201908321283 vom 12.09.2019, TELEFONIE August 2019, ZahlB 1303324456             ABWA+M-net Telek. GmbH\"",
          "\"Frau Li Restaurant//Muenchen/DE / FRAU LI RESTAURANT\"\"2019-09-18T19:27 Debitk.0 2022-12\"",
          "\"Stadt Simbach a. Inn\"\"3758 .FAD 3758-2 Schmutzwassergeb. Moosecker Str.19/ 35,00/16.09.19FAD 3758-2 Niederschlagswassergeb..\"",
          "\"858 EDEKA M LINDWURMSTR//MUENCHEN/DE / 858 EDEKA M LINDWURMSTR\"\"2019-09-17T18:37 Debitk.0 2022-12\"",
          "\"REWE SAGT DANKE. 46400562//Regensburg/DE / REWE Markt GmbH\"\"2019-09-14T13:29 Debitk.0 2022-12\"",
          "\"ANDREAS HUBER KAMINKEHRERMEISTERBETRIEB\"\"vom: 05.09.2019/5-4-19DATUM 10.09.2019, 20.18 UHR1.TAN 052891\"",
          "\"858 EDEKA M LINDWURMSTR//MUENCHEN/DE / 858 EDEKA M LINDWURMSTR\"\"2019-09-10T17:29 Debitk.0 2022-12\"",
          "\"858 EDEKA M LINDWURMSTR//MUENCHEN/DE / 858 EDEKA M LINDWURMSTR\"\"2019-09-09T17:40 Debitk.0 2022-12\"",
          "\"MARS GMBH RESTAURANT HEYLUI//MUENCHEN/DE / Lastschrift aus Kartenzahlung\"\"2019-09-06T20:37 Debitk.0 2022-12\"",
          "\"ARAL Munchen Kapuzinerstrase 46//Munchen/DE / ARAL AG\"\"Kartenzahlung 2019-09-06T15:29 Debitk.0 2022-12\"",
          "\"BAYERISCHE LANDESBRANDVERS//MUENCHEN/DE / EC-CASINO-W303VKB\"\"2019-09-03T11:43 Debitk.0 2022-12\"",
          "\"E-Plus Service GmbH\"\"Aufladung bei geringem Guthaben fuer Ihr Prepaid-Konto 4915730733922-8429. Aldi Talk sagt DANKE\"",
          "\"DB AUTOMAT//ERLANGEN/DE / DB Vertrieb GmbH\"\"2019-09-01T14:48 Debitk.0 2022-12\"",
          "\"KILLY WU\"\"DATUM 30.08.2019,     17.17 UHR, 1.TAN 677207\"",
          "\"858 EDEKA M LINDWURMSTR//MUENCHEN/DE / 858 EDEKA M LINDWURMSTR\"\"2019-08-27T18:26 Debitk.0 2022-12\"",
          "\"MARIA MAGDALENA RENKER\"\"Kaltmiete\"",
          "\"MARIA MAGDALENA RENKER\"\"Strom + GEZ\"",
          "\"BAYERISCHE LANDESBRANDVERS//MUENCHEN/DE / EC-CASINO-W303VKB\"\"2019-08-22T14:37 Debitk.0 2022-12\"",
          "\"VERSICHERUNGSKAMMER BAYERN VERSICHERUNGSANSTALT D.Ö.R.\"\"HAFT UNF HE-1008-2831 14.08.2019                 ABWA+Versicherungskammer Bayern\"",
          "\"ZVKDZ OBERLAND\"\"Aktenzeichen 271953833 - M-WU:3688 - 18.08.2019  DATUM 21.08.2019, 18.10 UHR1.TAN 076186\"",
          "\"BP TANKSTELLE//STEINACH AM B/AT/1 / Landesbank Hessen-Thuringen Girozentrale\"\"2019-08-18T08:23 Debitk.0 2099-12\"",
          "\"M-net Telekommunikations GmbH\"\"D-Nr M501432264, /INV/201907323841 vom 13.08.2019, TELEFONIE Juli 2019, ZahlB 1302948913               ABWA+M-net Telek. GmbH\"",
          "\"858 EDEKA M LINDWURMSTR//MUENCHEN/DE / 858 EDEKA M LINDWURMSTR\"\"2019-08-19T17:31 Debitk.0 2022-12\"",
          "\"Stadt Simbach a. Inn\"\"3758 .FAD 3758-1 GrSt Moosecker Str.19, Einfamilien/ 10,59/16.08.19\"",
          "\"858 EDEKA M LINDWURMSTR//MUENCHEN/DE / 858 EDEKA M LINDWURMSTR\"\"2019-08-14T17:14 Debitk.0 2022-12\"",
          "\"Abfallwirtschaftsverband Isar-Inn\"\"72625 .72625-1 Abfallgebuehr 2019 Moosecker Str. 19 .                       ABWA+AWV Isar-Inn\"",
          "\"Zillertaler Gletscherbahn//Ehrwald/AT/1 / Landesbank Hessen-Thuringen Girozentrale\"\"2019-08-11T10:58 Debitk.0 2099-12\"",
          "\"BAYERISCHE LANDESBRANDVERS//MUENCHEN/DE / EC-CASINO-U14-VKB\"\"2019-08-08T11:56 Debitk.0 2022-12\"",
          "\"OUTFITTERY GMBH\"\"2001101349            DATUM 09.08.2019, 17.29 UHR1.TAN 125025\"",
          "\"AMAZON PAYMENTS EUROPE S.C.A.\"\"302-0834180-2983503 AMZN Mktp DE 5C3W4GRAU04JHR0V\"",
          "\"HELLOFRESH\"\"HelloFresh Deutschland SE Co. KG HELLOFRESH.DE,297594482,2019 08 08          AWV-MELDEPFLICHT BEACHTEN  HOTLINE BUNDESBANK:        (0800) 1234-111            ABWA+HelloFresh Deutschland SE . Co. KG\"",
          "\"OMV DEUTSCHLAND GMBH\"\"OMV D7265 Feucht 04.08.2019 18:12                ABWA+OMV Deutschland GmbH\"",
          "\"858 EDEKA M LINDWURMSTR//MUENCHEN/DE / 858 EDEKA M LINDWURMSTR\"\"2019-08-05T17:34 Debitk.0 2022-12\"",
          "\"ECHO TANKSTELLEN GMBH TUR//Feucht/DE / ESSO TANKSTELLE\"\"2019-08-03T07:51 Debitk.0 2022-12\"",
          "\"OIL TANKSTELLEN GMBH COKG sagt Danke TS 153 GIR 79957724//HILDESHEI/DE / OIL TANKSTELLEN GMBH COKG\"\"2019-08-04T12:28 Debitk.0 2022-12\"",
          "\"MARIA MAGDALENA RENKER\"\"Kaltmiete\"",
          "\"BAYERISCHE LANDESBRANDVERS//MUENCHEN/DE / EC-CASINO-W303VKB\"\"2019-07-26T11:30 Debitk.0 2022-12\"",
          "\"MARIA MAGDALENA RENKER\"\"Strom + GEZ\"",
          "\"Aral Tankstelle Munchen Rosenheimer Strase 138//Munchen/DE / ARAL AG\"\"Kartenzahlung 2019-07-27T18:22 Debitk.0 2022-12\"",
          "\"AMAZON MEDIA EU S.A R.L.\"\"D01-2665018-1202246 Kindle Svcs YGXN5HZIV1DA5AXB\"",
          "\"858 EDEKA M LINDWURMSTR//MUENCHEN/DE / 858 EDEKA M LINDWURMSTR\"\"2019-07-20T14:47 Debitk.0 2022-12\"",
          "\"RESTAURANT ANNAM GR//MUENCHEN/DE / RESTAURANT ANNAM GRILL\"\"2019-07-18T20:52 Debitk.0 2022-12\"",
          "\"AMAZON EU S.A R.L., NIEDERLASSUNG DEUTSCHLAND\"\"302-5922907-5270730 Amazon.de 4OT9T5YGE2FW7XAN\"",
          "\"BAYERISCHE LANDESBRANDVERS//MUENCHEN/DE / EC-CASINO-U14-VKB\"\"2019-07-16T11:59 Debitk.0 2022-12\"",
          "\"M-net Telekommunikations GmbH\"\"D-Nr M501432264, /INV/201906325789 vom 11.07.2019, TELEFONIE Juni 2019, ZahlB 1302584180               ABWA+M-net Telek. GmbH\"",
          "\"858 EDEKA M LINDWURMSTR//MUENCHEN/DE / 858 EDEKA M LINDWURMSTR\"\"2019-07-16T17:24 Debitk.0 2022-12\"",
          "\"VHV Allgemeine Versicherung AG\"\"ABR.ZEITR.06.07.19-06.07.20 HAFTPFLICHTVERSICHERUNG VERTRAG H 236-821829 31301368784\"",
          "\"HELLOFRESH\"\"HelloFresh Deutschland SE Co. KG HELLOFRESH.DE,295563592,2019 07 11          AWV-MELDEPFLICHT BEACHTEN  HOTLINE BUNDESBANK:        (0800) 1234-111            ABWA+HelloFresh Deutschland SE . Co. KG\"",
          "\"E-Plus Service GmbH\"\"Aufladung bei geringem Guthaben fuer Ihr Prepaid-Konto 4915730733922-8429. Aldi Talk sagt DANKE\"",
          "\"MTV Muenchen von 1879 e. V.\"\"40469 Einzug bis 12.2019 Mitgliedsbeitrag 2. HJ 2019\"",
          "\"BAYERISCHE LANDESBRANDVERS//MUENCHEN/DE / EC-CASINO-W303VKB\"\"2019-07-01T12:11 Debitk.0 2022-12\"",
          "\"NAHKAUF FRISCHEMARKT//Muenchen/DE / NAHKAUF FRISCHEMARKT\"\"2019-07-01T18:17 Debitk.0 2022-12\"",
          "\"Bundeskasse in Halle\"\"BUKA HALLE DARLEHEN 55207616398\"",
          "\"862 EDEKA M SCHELLINGSTR 88//MUENCHEN/DE / 862 EDEKA M SCHELLINGSTR 88\"\"2019-06-28T18:22 Debitk.0 2022-12\"",
          "\"MARIA MAGDALENA RENKER\"\"Kaltmiete\"",
          "\"MARIA MAGDALENA RENKER\"\"Strom + GEZ\"",
          "\"EDEKA MUC IMPLERSTR//MUENCHEN/DE / EDEKA MUC IMPLERSTR\"\"2019-06-22T14:24 Debitk.0 2022-12\"",
          "\"AGIP, IMPLERSTR. MUENCHEN//Muenchen/DE / Eni Deutschland GmbH\"\"2019-06-22T14:28 Debitk.0 2022-12\"",
          "\"HOLZKNECHTHUETTE DVORAK MANFRED UND FILZWIESER JENNY G\"\"Nebenkosten und Endreinigung - Robert Hager      DATUM 21.06.2019, 10.16 UHR1.TAN 291532\"",
          "\"KILLY WU\"\"sollte nicht senor grande geld bekommen?         DATUM 21.06.2019, 10.07 UHR1.TAN 817965\"",
          "\"M-net Telekommunikations GmbH\"\"D-Nr M501432264, /INV/201905328599 vom 14.06.2019, TELEFONIE Mai 2019, ZahlB 1302061601                ABWA+M-net Telek. GmbH\"",
          "\"ANDREAS HUBER KAMINKEHRERMEISTERBETRIEB\"\"vom: 05.06.2019 / 5-4-19                         DATUM 21.06.2019, 10.04 UHR1.TAN 069409\"",
          "\"Stadt Simbach a. Inn\"\"3758 .FAD 3758-2 Schmutzwassergeb. Moosecker Str.19/ 35,00/17.06.19FAD 3758-2 Niederschlagswassergeb..\"",
          "\"E-Plus Service GmbH\"\"Aufladung bei geringem Guthaben fuer Ihr Prepaid-Konto 4915730733922-8429. Aldi Talk sagt DANKE\"",
          "\"DB AUTOMAT//MUENCHEN HBF/DE / DB Vertrieb GmbH\"\"2019-06-07T20:34 Debitk.0 2022-12\"",
          "\"HELLOFRESH\"\"HelloFresh Deutschland SE Co. KG HELLOFRESH.DE,275658992,2019 06 06          AWV-MELDEPFLICHT BEACHTEN  HOTLINE BUNDESBANK:        (0800) 1234-111            ABWA+HelloFresh Deutschland SE . Co. KG\"",
          "\"OMV DEUTSCHLAND GMBH\"\"OMV D7688 Munchen 01.06.2019 17:33               ABWA+OMV Deutschland GmbH\"",
          "\"ORTERER GETRAENKE-MAERKTE//UNTERSCHLEI/DE / ORTERER9016\"\"2019-05-29T09:09 Debitk.0 2022-12\"",
          "\"AUGUSTINER BRAEUSTUBEN GIR 69285327//MUENCHEN/DE / AUGUSTINER BRAEUSTUBEN\"\"2019-05-29T22:47 Debitk.0 2022-12\"",
          "\"POLIZEIVERWALTUNGSAMT\"\"DATUM 28.05.2019,     17.44 UHR, 1.TAN 642272\"",
          "\"MARIA MAGDALENA RENKER\"\"Kaltmiete\"",
          "\"ALLIANZ DEUTSCHLAND AG//MUENCHEN/DE / Allianz Gastro Neuperlach\"\"2019-05-17T11:44 Debitk.0 2022-12\"",
          "\"MARIA MAGDALENA RENKER\"\"Strom + GEZ\"",
          "\"PayPal (Europe) S.a.r.l. et Cie., S.C.A.\"\"PP.9048.PP . KLM, Ihr Einkauf bei KLM\"",
          "\"M-net Telekommunikations GmbH\"\"D-Nr M501432264, /INV/201904331001 vom 14.05.2019, TELEFONIE April 2019, ZahlB 1301612707              ABWA+M-net Telek. GmbH\"",
          "\"858 EDEKA M LINDWURMSTR//MUENCHEN/DE / 858 EDEKA M LINDWURMSTR\"\"2019-05-17T18:44 Debitk.0 2022-12\"",
          "\"HMS HUETTEN-MIET-SERVICE GMBH\"\"139185                DATUM 17.05.2019, 16.54 UHR1.TAN 895929\"",
          "\"858 EDEKA M LINDWURMSTR//MUENCHEN/DE / 858 EDEKA M LINDWURMSTR\"\"2019-05-16T15:33 Debitk.0 2022-12\"",
          "\"PayPal (Europe) S.a.r.l. et Cie., S.C.A.\"\"PP.9048.PP . , Ihr Einkauf bei\"",
          "\"NAHKAUF FRISCHEMARKT//Muenchen/DE / NAHKAUF FRISCHEMARKT\"\"2019-05-14T17:40 Debitk.0 2022-12\"",
          "\"E-Plus Service GmbH\"\"Aufladung bei geringem Guthaben fuer Ihr Prepaid-Konto 4915730733922-8429. Aldi Talk sagt DANKE\"",
          "\"Abfallwirtschaftsverband Isar-Inn\"\"72625/72625-1 Abfallgebuehr 2019 Moosecker Str. 19                          ABWA+AWV Isar-Inn\"",
          "\"Stadt Simbach a. Inn\"\"3758 .FAD 3758-1 GrSt Moosecker Str.19, Einfamilien/ 10,59/15.05.19\"",
          "\"DB AUTOMAT//ECHING/DE / DB Vertrieb GmbH\"\"2019-05-13T15:23 Debitk.0 2022-12\"",
          "\"NAHKAUF FRISCHEMARKT//Muenchen/DE / NAHKAUF FRISCHEMARKT\"\"2019-05-09T16:42 Debitk.0 2022-12\"",
          "\"ALLIANZ DEUTSCHLAND AG//MUENCHEN/DE / Allianz Gastro Neuperlach\"\"2019-05-03T12:04 Debitk.0 2022-12\"",
          "\"ROBERT HAGER\"\"ETF Geld              DATUM 29.04.2019, 20.01 UHR1.TAN 375954\"",
          "\"BAUHAUS MUENCHEN - DANKE\"\"270414500143788221201052080 ELV65111452 27.04 14.50 ME0\"",
          "\"MARIA MAGDALENA RENKER\"\"Kaltmiete\"",
          "\"MARIA MAGDALENA RENKER\"\"Strom + GEZ\"",
          "\"NAHKAUF FRISCHEMARKT//Muenchen/DE / NAHKAUF FRISCHEMARKT\"\"2019-04-27T19:51 Debitk.0 2022-12\"",
          "\"HELLOFRESH\"\"HelloFresh Deutschland SE Co. KG HELLOFRESH.DE,243149162,2019 04 25          AWV-MELDEPFLICHT BEACHTEN  HOTLINE BUNDESBANK:        (0800) 1234-111            ABWA+HelloFresh Deutschland SE . Co. KG\"",
          "\"SCHLOSSWALD GMBH\"\"Erinnerungstafel Auftrag-Nr. 19031               DATUM 24.04.2019, 18.33 UHR1.TAN 596924\"",
          "\"NAHKAUF FRISCHEMARKT//Muenchen/DE / NAHKAUF FRISCHEMARKT\"\"2019-04-23T17:59 Debitk.0 2022-12\"",
          "\"ALLIANZ DEUTSCHLAND AG//MUENCHEN/DE / Allianz Gastro Neuperlach\"\"2019-04-17T11:39 Debitk.0 2022-12\"",
          "\"AMAZON PAYMENTS EUROPE S.C.A.\"\"302-6901724-1303518 AMZN Mktp DE 1M4AP0EC9WXTBPZ0\"",
          "\"M-net Telekommunikations GmbH\"\"D-Nr M501432264, /INV/201903333242 vom 11.04.2019, TELEFONIE Maerz 2019, ZahlB 1301289325              ABWA+M-net Telek. GmbH\"",
          "\"AMAZON PAYMENTS EUROPE S.C.A.\"\"302-6901724-1303518 AMZN Mktp DE 14DDVAY8P3HFJ4PN\"",
          "\"E-Plus Service GmbH\"\"Aufladung bei geringem Guthaben fuer Ihr Prepaid-Konto 4915730733922-8429. Aldi Talk sagt DANKE\"",
          "\"Nam Giao//Muenchen/DE / NAM GIAO\"\"2019-04-16T21:41 Debitk.0 2022-12\"",
          "\"STADT NITTENAU\"\"Bestattung Engelbert Hager - Naturfriedhof, Areal: 1 / Sueden, Bereich F1, Graeberfeld 0188 / Baum, Grabstaette 10                DATUM 15.04.2019, 19.56 UHR1.TAN 064753\"",
          "\"ALLIANZ DEUTSCHLAND AG//MUENCHEN/DE / Allianz Gastro Neuperlach\"\"2019-04-05T11:55 Debitk.0 2022-12\"",
          "\"BLITZ RESTAURANT//MUENCHEN/DE / BLITZ RESTAURANT\"\"2019-04-11T21:15 Debitk.0 2022-12\"",
          "\"Frau Li Restaurant//Muenchen/DE / FRAU LI RESTAURANT\"\"2019-04-07T15:51 Debitk.0 2022-12\"",
          "\"AMAZON PAYMENTS EUROPE S.C.A.\"\"304-0042130-7080329 AMZN Mktp DE 52L8114AR1BLA22C\"",
          "\"SPORTPARK//Muenchen/DE / SPORTPARK\"\"2019-04-02T17:27 Debitk.0 2022-12\"",
          "\"AMAZON EU S.A R.L., NIEDERLASSUNG DEUTSCHLAND\"\"302-9573811-7570745 Amazon.de 6QFWSYJC2C36F6BB\"",
          "\"AMAZON PAYMENTS EUROPE S.C.A.\"\"304-0042130-7080329 AMZN Mktp DE 7G71A4XKHE08D1UX\"",
          "\"Bundeskasse in Halle\"\"BUKA HALLE DARLEHEN 55207616398\"",
          "\"ALLIANZ DEUTSCHLAND AG//MUENCHEN/DE / Allianz Gastro Neuperlach\"\"2019-03-27T14:50 Debitk.0 2022-12\"",
          "\"NAHKAUF FRISCHEMARKT//Muenchen/DE / NAHKAUF FRISCHEMARKT\"\"2019-03-29T17:01 Debitk.0 2022-12\"",
          "\"MARIA MAGDALENA RENKER\"\"Kaltmiete\"",
          "\"MARIA MAGDALENA RENKER\"\"Strom + GEZ\"",
          "\"E-Plus Service GmbH\"\"Aufladung bei geringem Guthaben fuer Ihr Prepaid-Konto 4915730733922-8429. Aldi Talk sagt DANKE\"",
          "\"M-net Telekommunikations GmbH\"\"D-Nr M501432264, /INV/201902336087 vom 13.03.2019, TELEFONIE Februar 2019, ZahlB 1301020855            ABWA+M-net Telek. GmbH\"",
          "\"OUTFITTERY GMBH\"\"DATUM 18.03.2019,     20.35 UHR, 1.TAN 712116\"",
          "\"Stadt Simbach a. Inn\"\"3758 .FAD 3758-2 Schmutzwassergeb. Moosecker Str.19/ 35,00/15.03.19FAD 3758-2 Niederschlagswassergeb..\"",
          "\"ALLIANZ DEUTSCHLAND AG//MUENCHEN/DE / Allianz Gastro Neuperlach\"\"2019-03-13T12:13 Debitk.0 2022-12\"",
          "\"KREISVERWALTUNGSREF. MCHN.//Muenchen/DE / KREISVERWALTUNGSREF. MCHN.\"\"2019-03-14T08:33 Debitk.0 2022-12\"",
          "\"NAHKAUF FRISCHEMARKT//Muenchen/DE / NAHKAUF FRISCHEMARKT\"\"2019-03-12T16:20 Debitk.0 2022-12\"",
          "\"MTV Muenchen von 1879 e. V.\"\"40469 Einzug bis 6.2019 Mitgliedsbeitrag\"",
          "\"HELLOFRESH\"\"HelloFresh Deutschland SE Co. KG HELLOFRESH.DE,221341262,2019 03 14          AWV-MELDEPFLICHT BEACHTEN  HOTLINE BUNDESBANK:        (0800) 1234-111            ABWA+HelloFresh Deutschland SE . Co. KG\"",
          "\"ALLIANZ DEUTSCHLAND AG//MUENCHEN/DE / Allianz Gastro Neuperlach\"\"2019-02-27T08:25 Debitk.0 2022-12\"",
          "\"Abfallwirtschaftsverband Isar-Inn\"\"72625/72625-1 Abfallgebuehr 2019 Moosecker Str. 19\"",
          "\"MARIA MAGDALENA RENKER\"\"Kaltmiete\"",
          "\"MARIA MAGDALENA RENKER\"\"Strom + GEZ\"",
          "\"DANKE, SAGT IHR REAL TEAM\"\"220219080106851221231913350 ELV65393153 22.02 19.08 ME0\"",
          "\"DANKE, SAGT IHR REAL TEAM\"\"230214090053184221231913350 ELV65393169 23.02 14.09 ME0\"",
          "\"ALLIANZ DEUTSCHLAND AG//MUENCHEN/DE / Allianz Gastro Neuperlach\"\"2019-02-12T15:51 Debitk.0 2022-12\"",
          "\"1A TANKEN WASCHEN GMBH//SCHIERLING/DE / TANKEN U WASCHEN\"\"2019-02-23T21:30 Debitk.0 2022-12\"",
          "\"E-Plus Service GmbH\"\"Aufladung bei geringem Guthaben fuer Ihr Prepaid-Konto 4915730733922-8429. Aldi Talk sagt DANKE\"",
          "\"M-net Telekommunikations GmbH\"\"D-Nr M501432264, /INV/201901340657 vom 13.02.2019, TELEFONIE Januar 2019, ZahlB 1300552816             ABWA+M-net Telek. GmbH\"",
          "\"Stadt Simbach a. Inn\"\"3758 .FAD 3758-1 GrSt Moosecker Str.19, Einfamilien/ 10,59/15.02.19\"",
          "\"AMAZON EU S.A R.L., NIEDERLASSUNG DEUTSCHLAND\"\"304-0720225-5961155 Amazon.de 5O2SJZWAW3I19Y4S\"",
          "\"AMAZON PAYMENTS EUROPE S.C.A.\"\"304-2398164-4880310 AMZN Mktp DE 59UN4L9ORWSSW8JX\"",
          "\"AMAZON MEDIA EU S.A R.L.\"\"D01-7355517-5023036 Kindle Svcs Y7VYQF7QYEPXGDC6\"",
          "\"858 EDEKA M LINDWURMSTR//MUENCHEN/DE / 858 EDEKA M LINDWURMSTR\"\"2019-02-11T17:40 Debitk.0 2022-12\"",
          "\"Aral Tankstelle Geisenhausen A9//Geisenhausen/DE / ARAL AG\"\"Kartenzahlung 2019-02-10T18:14 Debitk.0 2022-12\"",
          "\"AMAZON PAYMENTS EUROPE S.C.A.\"\"305-9944005-5867526 AMZN Mktp DE 2DW92TGTPGC9VGF7\"",
          "\"CHI THU - STREET FO//MUENCHEN/DE / CHI THU - STREET FO\"\"2019-02-07T19:38 Debitk.0 2022-12\"",
          "\"OMV DEUTSCHLAND GMBH\"\"OMV D7192 Furholzen 01.02.2019 17:47             ABWA+OMV Deutschland GmbH\"",
          "\"ALLIANZ DEUTSCHLAND AG//MUENCHEN/DE / Allianz Gastro Neuperlach\"\"2019-01-31T11:51 Debitk.0 2022-12\"",
          "\"AMAZON MEDIA EU S.A R.L.\"\"D01-8181294-7243836 Kindle Svcs 5Y9RV1W90XTNXKT4\"",
          "\"MARIA MAGDALENA RENKER\"\"Kaltmiete\"",
          "\"MARIA MAGDALENA RENKER\"\"Strom + GEZ\"",
          "\"NAHKAUF FRISCHEMARKT//Muenchen/DE / NAHKAUF FRISCHEMARKT\"\"2019-01-25T16:21 Debitk.0 2022-12\"",
          "\"Kaufland Muenchen//Muenchen/DE / KAUFLAND\"\"2019-01-24T17:23 Debitk.0 2022-12\"",
          "\"858 EDEKA M LINDWURMSTR//MUENCHEN/DE / 858 EDEKA M LINDWURMSTR\"\"2019-01-24T18:04 Debitk.0 2022-12\"",
          "\"MINIT SERVICE GMBH//MUENCHEN-NEUPERLAC/DE / MINIT SERVICE GMBH\"\"2019-01-24T17:26 Debitk.0 2022-12\"",
          "\"E-Plus Service GmbH\"\"Aufladung bei geringem Guthaben fuer Ihr Prepaid-Konto 4915730733922-8429. Aldi Talk sagt DANKE\"",
          "\"ALLIANZ DEUTSCHLAND AG//MUENCHEN/DE / Allianz Gastro Neuperlach\"\"2019-01-17T18:17 Debitk.0 2022-12\"",
          "\"M-net Telekommunikations GmbH\"\"D-Nr M501432264, /INV/201812341912 vom 14.01.2019, TELEFONIE Dezember 2018, ZahlB 1300233023           ABWA+M-net Telek. GmbH\"",
          "\"858 EDEKA M LINDWURMSTR//MUENCHEN/DE / 858 EDEKA M LINDWURMSTR\"\"2019-01-19T11:27 Debitk.0 2022-12\"",
          "\"DT. APOTHEKER- UND AERZTEBANK\"\"Professionelle Zahnreinigung - Robert Hager - 09.01.2019                    DATUM 17.01.2019, 20.37 UHR1.TAN 179244\"",
          "\"AMAZON MEDIA EU S.A R.L.\"\"D01-6605248-6379808 Kindle Svcs 8IAEMHQGSN682B02\"",
          "\"858 EDEKA M LINDWURMSTR//MUENCHEN/DE / 858 EDEKA M LINDWURMSTR\"\"2019-01-07T18:53 Debitk.0 2022-12\"",
          "\"JANA BETZOLD\"\"Kochkurs  ORIENTAL SOULFOOD  - 12.04.2019 - Robert Hager                    DATUM 04.01.2019, 14.17 UHR1.TAN 798628\"",
          "\"AMAZON PAYMENTS EUROPE S.C.A.\"\"302-7877438-6053127 AMZN Mktp DE 1699987346914266\"",
          "\"858 EDEKA M LINDWURMSTR//MUENCHEN/DE / 858 EDEKA M LINDWURMSTR\"\"2019-01-03T17:55 Debitk.0 2022-12\"",
          "\"Bundeskasse in Halle\"\"BUKA HALLE DARLEHEN 55207616398\"",
          "\"AMAZON PAYMENTS EUROPE S.C.A.\"\"302-0729761-3672318 AMZN Mktp DE 6173029520454028\"",
          "\"Aral Tankstelle Regensburg Augsburger Strase 32//Regensburg/DE / ARAL AG\"\"Kartenzahlung 2018-12-28T19:36 Debitk.0 2022-12\"",
          "\"Aral Tankstelle Schierling Dieselstrase 16//Schierling/DE / ARAL AG\"\"Kartenzahlung 2018-12-29T00:48 Debitk.0 2022-12\"",
          "\"AMAZON PAYMENTS EUROPE S.C.A.\"\"302-9725122-0476323 AMZN Mktp DE 3036434762421392\"",
          "\"NAHKAUF FRISCHEMARKT//Muenchen/DE / NAHKAUF FRISCHEMARKT\"\"2018-12-29T13:57 Debitk.0 2022-12\"",
          "\"E-Plus Service GmbH\"\"Aufladung bei geringem Guthaben fuer Ihr Prepaid-Konto 4915730733922-8429. Aldi Talk sagt DANKE\"",
          "\"AMAZON MEDIA EU S.A R.L.\"\"D01-4795566-6223031 Kindle Svcs 8196529329948927\"",
          "\"EDEKAMUENCHEN\"",
          "\"UBER TRIP HELP.UBER.COMhelp.uber.com\"",
          "\"HVB, LINDWURMSTRASSE 8MUENCHEN\"",
          "\"DB BAHN  A-NR 7AH214INTERNET\"",
          "\"SPARDA-BANK MUENCHEN35031 MUENCHE\"",
          "\"STADTSPARKASSE MUENCHENFL 098\"",
          "\"UBER JUMP HELP.UBER.COMAmsterdam\"",
          "\"RAIFFEISENBANK M.NCH ATM.MUENCHEN\"",
          "\"SpotifyStockholm\"",
          "\"STADTSPARKASSE MUENCHENFL 098\"",
          "\"STADTSPARKASSE MUENCHENFL 240\"",
          "\"STADTSPARKASSE MUENCHENFL 174\"",
          "\"HVB, FRANKFURTER RINGMUENCHEN\"",
          "\"UBER TRIP HELP.UBER.COMhelp.uber.com\"",
          "\"UBER TRIP HELP.UBER.COMhelp.uber.com\"",
          "\"DB BAHN  A-NR OGP2GAINTERNET\"",
          "\"DB BAHN  A-NR 9Q284KINTERNET\"",
          "\"RAIFFEISENBANK M.NCH ATM.MUENCHEN\"",
          "\"Restaurant ShandizMunchen\"",
          "\"HVB, LINDWURMSTRASSE 8MUENCHEN\"",
          "\"SpotifyStockholm\"",
          "\"UBER TRIP HELP.UBER.COMhelp.uber.com\"",
          "\"Lieferando.deAmsterdam\"",
          "\"HVB, LINDWURMSTRASSE 8MUENCHEN\"",
          "\"DB BAHN  A-NR EMU99PINTERNET\"",
          "\"STELLA MARIS HOTELHAMBURG\"",
          "\"DB BAHN  A-NR YW4GEWINTERNET\"",
          "\"SPARDA-BANK MUENCHEN35032 HAUPTBA\"",
          "\"DB BAHN  A-NR WPG1GHINTERNET\"",
          "\"UBER JUMP HELP.UBER.COMAmsterdam\"",
          "\"EB *HERBSTTAGUNG DES G801-413-7200\"",
          "\"MUENCHNER BANK EGM}NCHEN\"",
          "\"DE KOFFIE SALON - WESTAMSTERDAM\"",
          "\"HMS Host InternationalAmsterdam\"",
          "\"MARTINOTAMSTERDAM\"",
          "\"ANMOL INDIAAS RESTAMSTERDAM\"",
          "\"DB BAHN  A-NR NVTVBVINTERNET\"",
          "\"UBER TRIP HELP.UBER.COMAmsterdam\"",
          "\"VR-BANK ERDING EGMUC\"",
          "\"UBER TRIP HELP.UBER.COMAmsterdam\"",
          "\"RED STAR AMSTERDAMAMSTERDAM\"",
          "\"SpotifyStockholm\"",
          "\"RAIFFEISENBANK M.NCH ATM.MUENCHEN\"",
          "\"DB BAHN  A-NR 4TBXGEINTERNET\"",
          "\"DB BAHN  A-NR A7HLBUINTERNET\"",
          "\"RAIFFEISENBANK M.NCH ATM.MUENCHEN\"",
          "\"DB BAHN  A-NR P4TV49INTERNET\"",
          "\"DB BAHN  A-NR 4A1SXGINTERNET\"",
          "\"COMMERZBANK ATMREGENSBURG\"",
          "\"SpotifyStockholm\"",
          "\"Lieferando.deAmsterdam\"",
          "\"Lieferando.deAmsterdam\"",
          "\"UBER TRIP HELP.UBER.COMhelp.uber.com\"",
          "\"Lieferando.deAmsterdam\"",
          "\"COMMERZBANK ATMM.NCHEN\"",
          "\"DM-Drogerie MarktMuenchen\"",
          "\"HVB, LINDWURMSTRASSE 8MUENCHEN\"",
          "\"STADT- UND KSK ERLANGENM-LUTH-PL.\"",
          "\"DB BAHN  A-NR 3P9ZVAINTERNET\"",
          "\"OMV 7240/Kiefersfelden\"",
          "\"MAUTSTELLE SCHOENBERGSCHOENBERG\"",
          "\"DB BAHN  A-NR XDLFM4INTERNET\"",
          "\"SpotifyStockholm\"",
          "\"Tankstelle Feucht OstFeucht\"",
          "\"Tankstelle Feucht OstFeucht\"",
          "\"Banyan Vietnamese RestaurMunchen\"",
          "\"EDEKA M LINDWURMST 858MUENCHEN\"",
          "\"HVB, LINDWURMSTRASSE 8MUENCHEN\"",
          "\"RESTAURANT LOSTERIAMUENCHEN\"",
          "\"DB BAHN  A-NR GTRG92INTERNET\"",
          "\"HVB, LINDWURMSTRASSE 8MUENCHEN\"",
          "\"TAKUMI GMBHMUNCHEN\"",
          "\"DB BAHN  A-NR O61YGSINTERNET\"",
          "\"ARAL STATION 191165109MUENCHEN\"",
          "\"EDEKA M LINDWURMST 858MUENCHEN\"",
          "\"OMV 5575/Ellmau\"",
          "\"DB BAHN  A-NR 84Q2YGINTERNET\"",
          "\"SPARDA-BANK MUENCHEN35033 HAUPTBA\"",
          "\"Rastanlage Samerberg SuedRohrdorf\"",
          "\"EDEKA MUENCHEN. IMPLERMUENCHEN\"",
          "\"Eni ServiceStation 7118Schladming\"",
          "\"SEESTUEBERL AICHAICH\"",
          "\"STADTSPARKASSE MUENCHENFL 007\"",
          "\"DM-Drogerie MarktMuenchen\"",
          "\"EMPRESA MUNICIPAL EMTMADRID\"",
          "\"Lieferando.deAmsterdam\"",
          "\"NINTENDO    *OF EUROPE800-255-3700\"",
          "\"REWE Markt GmbH To GoMuenchen\"",
          "\"127 TAIPEI BARMADRID\"",
          "\"MUSEO DEL PRADOMADRID\"",
          "\"MKGRANADA2GRANADA\"",
          "\"EL PIANOGRANADA\"",
          "\"HICURIGRANADA\"",
          "\"EL TABLON VERDEGRANADA\"",
          "\"RAPID EROSKIGRANADA\"",
          "\"HICURIGRANADA\"",
          "\"ESTABLECIMIENTOS PIEDRA SCORDOBA\"",
          "\"LA BOCACORDOBA\"",
          "\"SpotifyStockholm\"",
          "\"EL ENANO VERDESEVILLA\"",
          "\"HABANITASEVILLA\"",
          "\"OTEROS SPORT PUENTE Y PELSEVILLA\"",
          "\"RESTAURANTE ITALIANOSEVILLA\"",
          "\"SACATUENTRADA.ES 2 WEBCALAHORRA\"",
          "\"TABERNA DEANESCORDOBA\"",
          "\"INST.MPAL.TURISMO-PZ TRIUCORDOBA\"",
          "\"MARTIN LEBRON SLCORDOBA\"",
          "\"TRAINLINELONDON\"",
          "\"ATM 5100 B. SANTANDE1MADRID\"",
          "\"LA ENCOMIENDA VEGANAMADRID\"",
          "\"MASA MADRE VEGAN FOODMADRID\"",
          "\"RENFEMADRID\"",
          "\"MUC 342 CHECKOUTMUENCHEN FLUG\"",
          "\"MVG AUTOMATENMUENCHEN\"",
          "\"DM-Drogerie MarktMuenchen\"",
          "\"HVB, LINDWURMSTRASSE 8MUENCHEN\"",
          "\"HOTEL GOLIATH RGBREGENSBURG\"",
          "\"DB BAHN  A-NR DLZHEAINTERNET\"",
          "\"EDEKA M LINDWURMST 858MUENCHEN\"",
          "\"HVB, LINDWURMSTRASSE 8MUENCHEN\"",
          "\"Lidl Vertriebs GmbH & Co.Muenchen\"",
          "\"Lieferando.deAmsterdam\"",
          "\"EDEKA M ECHARDINGE 731MUENCHEN\"",
          "\"EDEKA M LINDWURMST 858MUENCHEN\"",
          "\"A.S.D. INTERNATIONAL KARTMONIGA DEL GA\"",
          "\"MAUTSTELLE SCHOENBERGSCHOENBERG\"",
          "\"EDEKA M LINDWURMST 858MUENCHEN\"",
          "\"STADTSPARKASSE MUENCHENFL 231\"",
          "\"AREA DI SERVIZIO LAIMBBOLZANO\"",
          "\"CARNELUTTI FEDERICODESENZANO DEL\"",
          "\"MAUTSTELLE SCHOENBERGSCHOENBERG\"",
          "\"MVG AUTOMATENMUENCHEN\"",
          "\"Lieferando.deAmsterdam\"",
          "\"OMV 5750/Vomp\"",
          "\"MC DONALDSTRENTO\"",
          "\"MC DONALDSTRENTO\"",
          "\"EDEKA MUENCHEN. IMPLERMUENCHEN\"",
          "\"OMV 7240/Kiefersfelden\"",
          "\"DB BAHN  A-NR ADC2OGINTERNET\"",
          "\"RAIFFEISENBANK M.NCH ATM.MUENCHEN\"",
          "\"SpotifyStockholm\"",
          "\"Ngoc GiaoMunchen\"",
          "\"DB BAHN  A-NR EL4Z4AINTERNET\"",
          "\"MVG AUTOMATENMUENCHEN\"",
          "\"DB BAHN  A-NR LT136DINTERNET\"",
          "\"AIRBNB14158005959\"",
          "\"Hotel Belair AGWallisellen\"",
          "\"Lieferando.deAmsterdam\"",
          "\"Coop-4899 Zurich BahnhofZurich 1 Sihl\"",
          "\"A. Durr & Co. AGZurich\"",
          "\"SBB WALLISELLENWALLISELLEN\"",
          "\"EDEKA M LINDWURMST 858MUENCHEN\"",
          "\"POSTBANK GOETHEPLATZ 1MUENCHEN>\"",
          "\"ARAL STATION 285185120MUENCHEN\"",
          "\"BP LEIKERMOSER D(T)ANKBRAUNAU\"",
          "\"RAIFFEISENBANK M.NCH ATM.MUENCHEN\"",
          "\"ALDI SUED SAGT DANKEMUENCHEN\"",
          "\"SpotifyStockholm\"",
          "\"SPARDA-BANK MUENCHEN35032 HAUPTBA\"",
          "\"EDEKA ERNST HAUPTBAHNHMUENCHEN\"",
          "\"HVB, LINDWURMSTRASSE 8MUENCHEN\"",
          "\"SPARDA-BANK MUENCHEN35033 HAUPTBA\"",
          "\"DB BAHN  A-NR YUOX9FINTERNET\"",
          "\"MAUTSTELLE ST MICHAELST.MICHAEL/LU\"",
          "\"CP HRUSICAHRUSICA\"",
          "\"H&M SHOP SI0201LJUBLJANA\"",
          "\"SPAR COPOVALJUBLJANA\"",
          "\"RESTAVRACIJA ZHONGHUALJUBLJANA\"",
          "\"BC LJUBLJANA BARJANSKALJUBLJANA\"",
          "\"OMV 2734/Eisentratten\"",
          "\"PUBLIC BAR & VEGAN KITCHEBLED\"",
          "\"MOSAIC APARTMANTSLJUBLJANA\"",
          "\"HOTEL PARKBLED\"",
          "\"Eni ServiceStation 2041Zederhaus/Kro\"",
          "\"MAUTSTELLE ROSENBACHROSENBACH\"",
          "\"MAUTSTELLE ST MICHAELST.MICHAEL/LU\"",
          "\"SpotifyStockholm\"",
          "\"RATSCHINGS JAUFENRATSCHINGS\"",
          "\"EDEKA M LINDWURMST 858MUENCHEN\"",
          "\"Sparkasse RegensburgSTEINWEG\"",
          "\"Sparkasse RegensburgPENTLING\"",
          "\"WWW.HULA-MANUFAKTUR.DEHAMBURG\"",
          "\"SpotifyStockholm\"",
          "\"Scheffau TicketScheffau\"",
          "\"SUMUP  *KANSHA GMBH & CO.MUNCHEN\"",
          "\"RAIFFEISENBANK M.NCH ATM.MUENCHEN\"",
          "\"KAUFLAND MUENCHEN NEUPERLMUENCHEN\"",
          "\"Paulaner im TalMunchen\"",
          "\"SPARDA-BANK MUENCHEN71030 SPARDA\"",
          "\"OMV 7192/F rholzen\"",
          "\"FOODORA GERMANYBerlin\"",
          "\"MYLAPS B.V.MYLAPS.COM\"",
          "\"RAIFFEISENBANK M.NCH ATM.MUENCHEN\"",
          "\"EVENTIM / TICKETSAMSTERDAM\"",
          "\"RAIFFEISENBANK M.NCH ATM.MUENCHEN\"",
          "\"858 EDEKA M LINDWURMSTMUENCHEN\"",
          "\"BANYAN RESTAURANTMUENCHEN\"",
          "\"Tankstelle 6142Mieders\"",
          "\"SpotifyStockholm\"",
          "\"SERLESLIFTE MIEDERSMIEDERS\"",
          "\"SERLESLIFTE MIEDERSMIEDERS\"",
          "\"OMV 7240/Kiefersfelden\"",
          "\"858 EDEKA M LINDWURMSTMUENCHEN\"",
          "\"BP TANKSTELLEBRAUNAU\"",
          "\"VR-BANK ROTTAL-INN EGERING 7253\"",
          "\"858 EDEKA M LINDWURMSTMUENCHEN\"",
          "\"EDEKA ERNST HAUPTBAHNHMUENCHEN\"",
          "\"HVB, LINDWURMSTRASSE 8MUENCHEN\"",
          "\"STADTSPARKASSE MUENCHENFL 098\"",
          "\"STADTSPARKASSE MUENCHENFL 181\""
         ],
         "marker": {
          "color": "rgb(158, 202, 225)",
          "line": {
           "color": "rgb(8, 48, 107)",
           "width": 1.5
          }
         },
         "opacity": 0.6,
         "type": "bar",
         "x": [
          "travel",
          "travel",
          "run_costs",
          "grocery",
          "grocery",
          "run_costs",
          "run_costs",
          "run_costs",
          "goout",
          "shopping",
          "shopping",
          "shopping",
          "shopping",
          "goout",
          "run_costs",
          "travel",
          "grocery",
          "run_costs",
          "grocery",
          "property",
          "grocery",
          "grocery",
          "shopping",
          "goout",
          "run_costs",
          "grocery",
          "grocery",
          "run_costs",
          "run_costs",
          "run_costs",
          "run_costs",
          "goout",
          "run_costs",
          "grocery",
          "run_costs",
          "other",
          "grocery",
          "property",
          "grocery",
          "property",
          "run_costs",
          "grocery",
          "shopping",
          "other",
          "run_costs",
          "run_costs",
          "grocery",
          "grocery",
          "goout",
          "run_costs",
          "run_costs",
          "run_costs",
          "shopping",
          "shopping",
          "grocery",
          "grocery",
          "shopping",
          "shopping",
          "shopping",
          "run_costs",
          "grocery",
          "run_costs",
          "grocery",
          "run_costs",
          "grocery",
          "run_costs",
          "grocery",
          "grocery",
          "run_costs",
          "debt",
          "run_costs",
          "run_costs",
          "goout",
          "grocery",
          "run_costs",
          "goout",
          "travel",
          "grocery",
          "travel",
          "shopping",
          "run_costs",
          "run_costs",
          "goout",
          "property",
          "grocery",
          "grocery",
          "goout",
          "grocery",
          "grocery",
          "goout",
          "travel",
          "run_costs",
          "run_costs",
          "travel",
          "travel",
          "grocery",
          "run_costs",
          "run_costs",
          "run_costs",
          "run_costs",
          "travel",
          "travel",
          "run_costs",
          "grocery",
          "property",
          "grocery",
          "property",
          "travel",
          "run_costs",
          "shopping",
          "shopping",
          "grocery",
          "travel",
          "grocery",
          "travel",
          "travel",
          "run_costs",
          "run_costs",
          "run_costs",
          "travel",
          "shopping",
          "grocery",
          "goout",
          "shopping",
          "run_costs",
          "run_costs",
          "grocery",
          "run_costs",
          "grocery",
          "run_costs",
          "run_costs",
          "run_costs",
          "grocery",
          "debt",
          "grocery",
          "run_costs",
          "run_costs",
          "grocery",
          "travel",
          "travel",
          "travel",
          "run_costs",
          "goout",
          "property",
          "run_costs",
          "travel",
          "grocery",
          "travel",
          "grocery",
          "goout",
          "other",
          "run_costs",
          "run_costs",
          "run_costs",
          "travel",
          "run_costs",
          "grocery",
          "travel",
          "grocery",
          "travel",
          "grocery",
          "run_costs",
          "property",
          "property",
          "travel",
          "grocery",
          "run_costs",
          "other",
          "shopping",
          "run_costs",
          "run_costs",
          "grocery",
          "grocery",
          "other",
          "grocery",
          "run_costs",
          "shopping",
          "run_costs",
          "shopping",
          "run_costs",
          "goout",
          "other",
          "run_costs",
          "goout",
          "goout",
          "shopping",
          "other",
          "shopping",
          "shopping",
          "debt",
          "run_costs",
          "grocery",
          "run_costs",
          "run_costs",
          "run_costs",
          "run_costs",
          "shopping",
          "property",
          "run_costs",
          "other",
          "grocery",
          "run_costs",
          "grocery",
          "run_costs",
          "property",
          "run_costs",
          "run_costs",
          "grocery",
          "grocery",
          "run_costs",
          "travel",
          "run_costs",
          "run_costs",
          "property",
          "shopping",
          "shopping",
          "shopping",
          "grocery",
          "travel",
          "shopping",
          "goout",
          "travel",
          "run_costs",
          "shopping",
          "run_costs",
          "run_costs",
          "grocery",
          "grocery",
          "grocery",
          "shopping",
          "run_costs",
          "run_costs",
          "run_costs",
          "grocery",
          "grocery",
          "shopping",
          "grocery",
          "other",
          "shopping",
          "grocery",
          "debt",
          "shopping",
          "travel",
          "travel",
          "shopping",
          "grocery",
          "run_costs",
          "shopping",
          "grocery",
          "goout",
          "cash",
          "travel",
          "cash",
          "cash",
          "goout",
          "cash",
          "run_costs",
          "cash",
          "cash",
          "cash",
          "cash",
          "goout",
          "goout",
          "travel",
          "travel",
          "cash",
          "goout",
          "cash",
          "run_costs",
          "goout",
          "travel",
          "cash",
          "travel",
          "travel",
          "travel",
          "cash",
          "travel",
          "goout",
          "other",
          "cash",
          "travel",
          "travel",
          "travel",
          "travel",
          "travel",
          "goout",
          "cash",
          "goout",
          "travel",
          "run_costs",
          "cash",
          "travel",
          "travel",
          "cash",
          "travel",
          "travel",
          "cash",
          "run_costs",
          "travel",
          "travel",
          "goout",
          "travel",
          "cash",
          "grocery",
          "cash",
          "cash",
          "travel",
          "travel",
          "travel",
          "travel",
          "run_costs",
          "travel",
          "travel",
          "goout",
          "grocery",
          "cash",
          "goout",
          "travel",
          "cash",
          "goout",
          "travel",
          "travel",
          "grocery",
          "travel",
          "travel",
          "cash",
          "travel",
          "grocery",
          "travel",
          "goout",
          "cash",
          "grocery",
          "travel",
          "travel",
          "shopping",
          "grocery",
          "travel",
          "travel",
          "travel",
          "travel",
          "travel",
          "travel",
          "travel",
          "travel",
          "travel",
          "travel",
          "run_costs",
          "travel",
          "travel",
          "travel",
          "goout",
          "travel",
          "travel",
          "travel",
          "travel",
          "travel",
          "travel",
          "travel",
          "travel",
          "travel",
          "travel",
          "travel",
          "grocery",
          "cash",
          "travel",
          "travel",
          "grocery",
          "cash",
          "grocery",
          "travel",
          "grocery",
          "grocery",
          "travel",
          "travel",
          "grocery",
          "cash",
          "travel",
          "travel",
          "travel",
          "travel",
          "travel",
          "travel",
          "goout",
          "goout",
          "grocery",
          "travel",
          "travel",
          "cash",
          "run_costs",
          "goout",
          "travel",
          "travel",
          "travel",
          "travel",
          "travel",
          "travel",
          "travel",
          "travel",
          "travel",
          "grocery",
          "cash",
          "travel",
          "travel",
          "cash",
          "grocery",
          "run_costs",
          "cash",
          "grocery",
          "cash",
          "cash",
          "travel",
          "travel",
          "travel",
          "travel",
          "travel",
          "travel",
          "travel",
          "travel",
          "travel",
          "travel",
          "travel",
          "travel",
          "travel",
          "travel",
          "run_costs",
          "travel",
          "grocery",
          "cash",
          "cash",
          "shopping",
          "run_costs",
          "travel",
          "goout",
          "cash",
          "grocery",
          "goout",
          "cash",
          "travel",
          "grocery",
          "travel",
          "cash",
          "travel",
          "cash",
          "grocery",
          "goout",
          "travel",
          "run_costs",
          "travel",
          "travel",
          "travel",
          "grocery",
          "travel",
          "cash",
          "grocery",
          "grocery",
          "cash",
          "cash",
          "cash"
         ],
         "y": [
          -52.25,
          -33.78,
          -15,
          -11.47,
          -5.25,
          -2160,
          -714.55,
          -27.5,
          -25,
          -22,
          -13.98,
          -29.9,
          -24.6,
          -14,
          -50,
          -505.22,
          -30,
          -29.89,
          -14.27,
          -81,
          -16.27,
          -15.22,
          -8.59,
          -50,
          -50,
          -11.28,
          -14,
          -10.9,
          -15,
          -714.55,
          -27.5,
          -31,
          -50,
          -6.68,
          -29.89,
          -1000,
          -11.24,
          -17.43,
          -12.39,
          -10.58,
          -50,
          -6.98,
          -6.99,
          -6.4,
          -470,
          -15,
          -11.93,
          -8.15,
          -5.6,
          -714.55,
          -50,
          -27.5,
          -13.51,
          -13.39,
          -7,
          -23.46,
          -5.99,
          -174.9,
          -69.95,
          -29.89,
          -54.98,
          -630,
          -39.99,
          -50,
          -15.09,
          -25.92,
          -14.01,
          -39.99,
          -15,
          -315,
          -50,
          -714.55,
          -42,
          -39.99,
          -27.5,
          -28,
          -46.94,
          -16.02,
          -45,
          -99,
          -50,
          -29.89,
          -29,
          -81,
          -11.77,
          -16.38,
          -28.58,
          -15.39,
          -20.7,
          -24,
          -6.7,
          -50,
          -15,
          -5.5,
          -286,
          -9,
          -714.55,
          -27.5,
          -50,
          -51.92,
          -15,
          -32.9,
          -29.89,
          -8.2,
          -10.59,
          -10.68,
          -17.43,
          -60,
          -50,
          -153.89,
          -103.88,
          -39.99,
          -57.69,
          -11.79,
          -76.81,
          -53.47,
          -714.55,
          -50,
          -27.5,
          -11.36,
          -13.99,
          -11.57,
          -53,
          -56.26,
          -50,
          -29.89,
          -18.29,
          -54.75,
          -31.99,
          -15,
          -90,
          -50,
          -21.12,
          -315,
          -155.44,
          -714.55,
          -27.5,
          -286.05,
          -27.57,
          -355,
          -109.45,
          -29.89,
          -28.58,
          -81,
          -15,
          -31,
          -31.99,
          -64.96,
          -49.15,
          -40,
          -20,
          -714.55,
          -50,
          -27.5,
          -211.5,
          -29.89,
          -5.26,
          -473,
          -6.64,
          -78.39,
          -18.04,
          -15,
          -17.43,
          -10.59,
          -3,
          -13.45,
          -50,
          -3000,
          -26.22,
          -714.55,
          -27.5,
          -10.24,
          -31.99,
          -440,
          -20.01,
          -50,
          -228.11,
          -29.89,
          -16.99,
          -15,
          -23,
          -2404,
          -50,
          -35,
          -17,
          -29.99,
          -12,
          -133.39,
          -47.76,
          -315,
          -50,
          -19.73,
          -714.55,
          -27.5,
          -15,
          -29.89,
          -129.9,
          -81,
          -50,
          -13,
          -16.74,
          -90,
          -31.99,
          -50,
          -17.43,
          -714.55,
          -27.5,
          -12.34,
          -7.17,
          -50,
          -45.65,
          -15,
          -29.89,
          -10.59,
          -36.99,
          -9.49,
          -20.22,
          -10.65,
          -64.02,
          -29.99,
          -6.9,
          -62.51,
          -50,
          -9.99,
          -714.55,
          -27.5,
          -16.44,
          -21.47,
          -14.61,
          -3.95,
          -15,
          -50,
          -29.89,
          -12.91,
          -89.7,
          -8.99,
          -8.76,
          -198,
          -45.98,
          -5.19,
          -315,
          -80.48,
          -61.53,
          -50.2,
          -21.98,
          -18.98,
          -15,
          -8.99,
          -12.63,
          -5.25,
          -90,
          -26,
          -90,
          -90,
          -5.2,
          -90,
          -9.99,
          -80,
          -90,
          -90,
          -90,
          -1,
          -15.82,
          -25,
          -8.7,
          -50,
          -36,
          -90,
          -9.99,
          -16.46,
          -19.9,
          -100,
          -11.6,
          -425,
          -25,
          -100,
          -11.6,
          -3.8,
          -80,
          -100,
          -16.15,
          -4.55,
          -37.1,
          -35,
          -11.6,
          -6,
          -100,
          -31.62,
          -30,
          -9.99,
          -100,
          -32,
          -25,
          -100,
          -27,
          -25,
          -100,
          -9.99,
          -17,
          -34.9,
          -6.54,
          -15.7,
          -100,
          -10.6,
          -100,
          -100,
          -36.9,
          -9.2,
          -9.5,
          -25,
          -9.99,
          -0.7,
          -2.5,
          -76,
          -5.27,
          -100,
          -21,
          -2.9,
          -100,
          -46,
          -8.9,
          -10.94,
          -8.45,
          -38.59,
          -2.9,
          -100,
          -2.98,
          -15.46,
          -41.84,
          -120,
          -50,
          -13.85,
          -10,
          -21.8,
          -14.99,
          -7.7,
          -19.6,
          -30,
          -17.37,
          -21.9,
          -27.9,
          -26.05,
          -4.29,
          -33,
          -5.16,
          -30,
          -9.99,
          -24,
          -32.5,
          -44.99,
          -27,
          -25,
          -24,
          -13,
          -2.47,
          -107.35,
          -202,
          -23,
          -23,
          -23,
          -13.9,
          -11.6,
          -3.95,
          -150,
          -302,
          -25,
          -23.02,
          -100,
          -17.15,
          -25.1,
          -40.99,
          -7.81,
          -80,
          -9.5,
          -10.69,
          -100,
          -66.64,
          -30,
          -9.5,
          -2.9,
          -27.6,
          -58.35,
          -5.25,
          -1.2,
          -34.89,
          -12.24,
          -32,
          -200,
          -9.99,
          -43,
          -5.8,
          -3,
          -2.9,
          -441.22,
          -127.51,
          -33.2,
          -4.13,
          -6.85,
          -5.97,
          -10.71,
          -200,
          -14.98,
          -46.95,
          -100,
          -4.87,
          -9.99,
          -200,
          -34.88,
          -100,
          -100,
          -32,
          -12,
          -7.4,
          -31.09,
          -3.3,
          -26.1,
          -47.8,
          -33.86,
          -25.8,
          -90.52,
          -150,
          -30,
          -7.4,
          -12,
          -9.99,
          -104,
          -8.23,
          -400,
          -100,
          -56,
          -9.99,
          -102,
          -88,
          -100,
          -13.95,
          -29,
          -100,
          -4.19,
          -17.8,
          -80.31,
          -100,
          -47.4,
          -100,
          -9.5,
          -60,
          -40.63,
          -9.99,
          -48,
          -45,
          -12.99,
          -25.67,
          -34.3,
          -100,
          -16.2,
          -5.48,
          -100,
          -50,
          -50
         ]
        }
       ],
       "layout": {
        "template": {
         "data": {
          "bar": [
           {
            "error_x": {
             "color": "#2a3f5f"
            },
            "error_y": {
             "color": "#2a3f5f"
            },
            "marker": {
             "line": {
              "color": "#E5ECF6",
              "width": 0.5
             }
            },
            "type": "bar"
           }
          ],
          "barpolar": [
           {
            "marker": {
             "line": {
              "color": "#E5ECF6",
              "width": 0.5
             }
            },
            "type": "barpolar"
           }
          ],
          "carpet": [
           {
            "aaxis": {
             "endlinecolor": "#2a3f5f",
             "gridcolor": "white",
             "linecolor": "white",
             "minorgridcolor": "white",
             "startlinecolor": "#2a3f5f"
            },
            "baxis": {
             "endlinecolor": "#2a3f5f",
             "gridcolor": "white",
             "linecolor": "white",
             "minorgridcolor": "white",
             "startlinecolor": "#2a3f5f"
            },
            "type": "carpet"
           }
          ],
          "choropleth": [
           {
            "colorbar": {
             "outlinewidth": 0,
             "ticks": ""
            },
            "type": "choropleth"
           }
          ],
          "contour": [
           {
            "colorbar": {
             "outlinewidth": 0,
             "ticks": ""
            },
            "colorscale": [
             [
              0,
              "#0d0887"
             ],
             [
              0.1111111111111111,
              "#46039f"
             ],
             [
              0.2222222222222222,
              "#7201a8"
             ],
             [
              0.3333333333333333,
              "#9c179e"
             ],
             [
              0.4444444444444444,
              "#bd3786"
             ],
             [
              0.5555555555555556,
              "#d8576b"
             ],
             [
              0.6666666666666666,
              "#ed7953"
             ],
             [
              0.7777777777777778,
              "#fb9f3a"
             ],
             [
              0.8888888888888888,
              "#fdca26"
             ],
             [
              1,
              "#f0f921"
             ]
            ],
            "type": "contour"
           }
          ],
          "contourcarpet": [
           {
            "colorbar": {
             "outlinewidth": 0,
             "ticks": ""
            },
            "type": "contourcarpet"
           }
          ],
          "heatmap": [
           {
            "colorbar": {
             "outlinewidth": 0,
             "ticks": ""
            },
            "colorscale": [
             [
              0,
              "#0d0887"
             ],
             [
              0.1111111111111111,
              "#46039f"
             ],
             [
              0.2222222222222222,
              "#7201a8"
             ],
             [
              0.3333333333333333,
              "#9c179e"
             ],
             [
              0.4444444444444444,
              "#bd3786"
             ],
             [
              0.5555555555555556,
              "#d8576b"
             ],
             [
              0.6666666666666666,
              "#ed7953"
             ],
             [
              0.7777777777777778,
              "#fb9f3a"
             ],
             [
              0.8888888888888888,
              "#fdca26"
             ],
             [
              1,
              "#f0f921"
             ]
            ],
            "type": "heatmap"
           }
          ],
          "heatmapgl": [
           {
            "colorbar": {
             "outlinewidth": 0,
             "ticks": ""
            },
            "colorscale": [
             [
              0,
              "#0d0887"
             ],
             [
              0.1111111111111111,
              "#46039f"
             ],
             [
              0.2222222222222222,
              "#7201a8"
             ],
             [
              0.3333333333333333,
              "#9c179e"
             ],
             [
              0.4444444444444444,
              "#bd3786"
             ],
             [
              0.5555555555555556,
              "#d8576b"
             ],
             [
              0.6666666666666666,
              "#ed7953"
             ],
             [
              0.7777777777777778,
              "#fb9f3a"
             ],
             [
              0.8888888888888888,
              "#fdca26"
             ],
             [
              1,
              "#f0f921"
             ]
            ],
            "type": "heatmapgl"
           }
          ],
          "histogram": [
           {
            "marker": {
             "colorbar": {
              "outlinewidth": 0,
              "ticks": ""
             }
            },
            "type": "histogram"
           }
          ],
          "histogram2d": [
           {
            "colorbar": {
             "outlinewidth": 0,
             "ticks": ""
            },
            "colorscale": [
             [
              0,
              "#0d0887"
             ],
             [
              0.1111111111111111,
              "#46039f"
             ],
             [
              0.2222222222222222,
              "#7201a8"
             ],
             [
              0.3333333333333333,
              "#9c179e"
             ],
             [
              0.4444444444444444,
              "#bd3786"
             ],
             [
              0.5555555555555556,
              "#d8576b"
             ],
             [
              0.6666666666666666,
              "#ed7953"
             ],
             [
              0.7777777777777778,
              "#fb9f3a"
             ],
             [
              0.8888888888888888,
              "#fdca26"
             ],
             [
              1,
              "#f0f921"
             ]
            ],
            "type": "histogram2d"
           }
          ],
          "histogram2dcontour": [
           {
            "colorbar": {
             "outlinewidth": 0,
             "ticks": ""
            },
            "colorscale": [
             [
              0,
              "#0d0887"
             ],
             [
              0.1111111111111111,
              "#46039f"
             ],
             [
              0.2222222222222222,
              "#7201a8"
             ],
             [
              0.3333333333333333,
              "#9c179e"
             ],
             [
              0.4444444444444444,
              "#bd3786"
             ],
             [
              0.5555555555555556,
              "#d8576b"
             ],
             [
              0.6666666666666666,
              "#ed7953"
             ],
             [
              0.7777777777777778,
              "#fb9f3a"
             ],
             [
              0.8888888888888888,
              "#fdca26"
             ],
             [
              1,
              "#f0f921"
             ]
            ],
            "type": "histogram2dcontour"
           }
          ],
          "mesh3d": [
           {
            "colorbar": {
             "outlinewidth": 0,
             "ticks": ""
            },
            "type": "mesh3d"
           }
          ],
          "parcoords": [
           {
            "line": {
             "colorbar": {
              "outlinewidth": 0,
              "ticks": ""
             }
            },
            "type": "parcoords"
           }
          ],
          "scatter": [
           {
            "marker": {
             "colorbar": {
              "outlinewidth": 0,
              "ticks": ""
             }
            },
            "type": "scatter"
           }
          ],
          "scatter3d": [
           {
            "line": {
             "colorbar": {
              "outlinewidth": 0,
              "ticks": ""
             }
            },
            "marker": {
             "colorbar": {
              "outlinewidth": 0,
              "ticks": ""
             }
            },
            "type": "scatter3d"
           }
          ],
          "scattercarpet": [
           {
            "marker": {
             "colorbar": {
              "outlinewidth": 0,
              "ticks": ""
             }
            },
            "type": "scattercarpet"
           }
          ],
          "scattergeo": [
           {
            "marker": {
             "colorbar": {
              "outlinewidth": 0,
              "ticks": ""
             }
            },
            "type": "scattergeo"
           }
          ],
          "scattergl": [
           {
            "marker": {
             "colorbar": {
              "outlinewidth": 0,
              "ticks": ""
             }
            },
            "type": "scattergl"
           }
          ],
          "scattermapbox": [
           {
            "marker": {
             "colorbar": {
              "outlinewidth": 0,
              "ticks": ""
             }
            },
            "type": "scattermapbox"
           }
          ],
          "scatterpolar": [
           {
            "marker": {
             "colorbar": {
              "outlinewidth": 0,
              "ticks": ""
             }
            },
            "type": "scatterpolar"
           }
          ],
          "scatterpolargl": [
           {
            "marker": {
             "colorbar": {
              "outlinewidth": 0,
              "ticks": ""
             }
            },
            "type": "scatterpolargl"
           }
          ],
          "scatterternary": [
           {
            "marker": {
             "colorbar": {
              "outlinewidth": 0,
              "ticks": ""
             }
            },
            "type": "scatterternary"
           }
          ],
          "surface": [
           {
            "colorbar": {
             "outlinewidth": 0,
             "ticks": ""
            },
            "colorscale": [
             [
              0,
              "#0d0887"
             ],
             [
              0.1111111111111111,
              "#46039f"
             ],
             [
              0.2222222222222222,
              "#7201a8"
             ],
             [
              0.3333333333333333,
              "#9c179e"
             ],
             [
              0.4444444444444444,
              "#bd3786"
             ],
             [
              0.5555555555555556,
              "#d8576b"
             ],
             [
              0.6666666666666666,
              "#ed7953"
             ],
             [
              0.7777777777777778,
              "#fb9f3a"
             ],
             [
              0.8888888888888888,
              "#fdca26"
             ],
             [
              1,
              "#f0f921"
             ]
            ],
            "type": "surface"
           }
          ],
          "table": [
           {
            "cells": {
             "fill": {
              "color": "#EBF0F8"
             },
             "line": {
              "color": "white"
             }
            },
            "header": {
             "fill": {
              "color": "#C8D4E3"
             },
             "line": {
              "color": "white"
             }
            },
            "type": "table"
           }
          ]
         },
         "layout": {
          "annotationdefaults": {
           "arrowcolor": "#2a3f5f",
           "arrowhead": 0,
           "arrowwidth": 1
          },
          "colorscale": {
           "diverging": [
            [
             0,
             "#8e0152"
            ],
            [
             0.1,
             "#c51b7d"
            ],
            [
             0.2,
             "#de77ae"
            ],
            [
             0.3,
             "#f1b6da"
            ],
            [
             0.4,
             "#fde0ef"
            ],
            [
             0.5,
             "#f7f7f7"
            ],
            [
             0.6,
             "#e6f5d0"
            ],
            [
             0.7,
             "#b8e186"
            ],
            [
             0.8,
             "#7fbc41"
            ],
            [
             0.9,
             "#4d9221"
            ],
            [
             1,
             "#276419"
            ]
           ],
           "sequential": [
            [
             0,
             "#0d0887"
            ],
            [
             0.1111111111111111,
             "#46039f"
            ],
            [
             0.2222222222222222,
             "#7201a8"
            ],
            [
             0.3333333333333333,
             "#9c179e"
            ],
            [
             0.4444444444444444,
             "#bd3786"
            ],
            [
             0.5555555555555556,
             "#d8576b"
            ],
            [
             0.6666666666666666,
             "#ed7953"
            ],
            [
             0.7777777777777778,
             "#fb9f3a"
            ],
            [
             0.8888888888888888,
             "#fdca26"
            ],
            [
             1,
             "#f0f921"
            ]
           ],
           "sequentialminus": [
            [
             0,
             "#0d0887"
            ],
            [
             0.1111111111111111,
             "#46039f"
            ],
            [
             0.2222222222222222,
             "#7201a8"
            ],
            [
             0.3333333333333333,
             "#9c179e"
            ],
            [
             0.4444444444444444,
             "#bd3786"
            ],
            [
             0.5555555555555556,
             "#d8576b"
            ],
            [
             0.6666666666666666,
             "#ed7953"
            ],
            [
             0.7777777777777778,
             "#fb9f3a"
            ],
            [
             0.8888888888888888,
             "#fdca26"
            ],
            [
             1,
             "#f0f921"
            ]
           ]
          },
          "colorway": [
           "#636efa",
           "#EF553B",
           "#00cc96",
           "#ab63fa",
           "#FFA15A",
           "#19d3f3",
           "#FF6692",
           "#B6E880",
           "#FF97FF",
           "#FECB52"
          ],
          "font": {
           "color": "#2a3f5f"
          },
          "geo": {
           "bgcolor": "white",
           "lakecolor": "white",
           "landcolor": "#E5ECF6",
           "showlakes": true,
           "showland": true,
           "subunitcolor": "white"
          },
          "hoverlabel": {
           "align": "left"
          },
          "hovermode": "closest",
          "mapbox": {
           "style": "light"
          },
          "paper_bgcolor": "white",
          "plot_bgcolor": "#E5ECF6",
          "polar": {
           "angularaxis": {
            "gridcolor": "white",
            "linecolor": "white",
            "ticks": ""
           },
           "bgcolor": "#E5ECF6",
           "radialaxis": {
            "gridcolor": "white",
            "linecolor": "white",
            "ticks": ""
           }
          },
          "scene": {
           "xaxis": {
            "backgroundcolor": "#E5ECF6",
            "gridcolor": "white",
            "gridwidth": 2,
            "linecolor": "white",
            "showbackground": true,
            "ticks": "",
            "zerolinecolor": "white"
           },
           "yaxis": {
            "backgroundcolor": "#E5ECF6",
            "gridcolor": "white",
            "gridwidth": 2,
            "linecolor": "white",
            "showbackground": true,
            "ticks": "",
            "zerolinecolor": "white"
           },
           "zaxis": {
            "backgroundcolor": "#E5ECF6",
            "gridcolor": "white",
            "gridwidth": 2,
            "linecolor": "white",
            "showbackground": true,
            "ticks": "",
            "zerolinecolor": "white"
           }
          },
          "shapedefaults": {
           "line": {
            "color": "#2a3f5f"
           }
          },
          "ternary": {
           "aaxis": {
            "gridcolor": "white",
            "linecolor": "white",
            "ticks": ""
           },
           "baxis": {
            "gridcolor": "white",
            "linecolor": "white",
            "ticks": ""
           },
           "bgcolor": "#E5ECF6",
           "caxis": {
            "gridcolor": "white",
            "linecolor": "white",
            "ticks": ""
           }
          },
          "title": {
           "x": 0.05
          },
          "xaxis": {
           "automargin": true,
           "gridcolor": "white",
           "linecolor": "white",
           "ticks": "",
           "zerolinecolor": "white",
           "zerolinewidth": 2
          },
          "yaxis": {
           "automargin": true,
           "gridcolor": "white",
           "linecolor": "white",
           "ticks": "",
           "zerolinecolor": "white",
           "zerolinewidth": 2
          }
         }
        },
        "title": {
         "text": "Expenses"
        }
       }
      },
      "text/html": [
       "<div>\n",
       "        \n",
       "        \n",
       "            <div id=\"44ccc1ac-bc13-4629-a8fc-e7ced77f63f8\" class=\"plotly-graph-div\" style=\"height:525px; width:100%;\"></div>\n",
       "            <script type=\"text/javascript\">\n",
       "                require([\"plotly\"], function(Plotly) {\n",
       "                    window.PLOTLYENV=window.PLOTLYENV || {};\n",
       "                    \n",
       "                if (document.getElementById(\"44ccc1ac-bc13-4629-a8fc-e7ced77f63f8\")) {\n",
       "                    Plotly.newPlot(\n",
       "                        '44ccc1ac-bc13-4629-a8fc-e7ced77f63f8',\n",
       "                        [{\"hoverinfo\": \"text\", \"hovertext\": [\"\\\"1A TANKEN WASCHEN GMBH//SCHIERLING/DE / TANKEN U WASCHEN\\\"\\\"2019-12-28T17:12 21917Debitk.0 202\\\"\", \"\\\"ARAL Munchen Kapuzinerstrase 46//Munchen/DE / ARAL AG\\\"\\\"Kartenzahlung 2019-12-29T20:59 21920Debitk.0 202\\\"\", \"\\\"E-Plus Service GmbH\\\"\\\"Aufladung bei geringem Guthaben fuer Ihr Prepaid-Konto 4915730733922-8429. Aldi Talk sagt DANKE\\\"\", \"\\\"DANKE, IHR LIDL//Schierling/DE / DANKE, IHR LIDL\\\"\\\"2019-12-28T17:05 21917Debitk.0 202\\\"\", \"\\\"731 EDEKA M ECHARDINGER STR//MUENCHEN/DE / 731 EDEKA M ECHARDINGER STR\\\"\\\"2019-12-27T17:59 21917Debitk.0 202\\\"\", \"\\\"GWG ST.WOHN.GES.MUENCHEN MBH\\\"\\\"605820480 Mieter: Wu, Killy Hager, Robert        DATUM 26.12.2019, 16.44 UHR1.TAN 621377\\\"\", \"\\\"MARIA MAGDALENA RENKER\\\"\\\"Kaltmiete\\\"\", \"\\\"MARIA MAGDALENA RENKER\\\"\\\"Strom + GEZ\\\"\", \"\\\"NAMASTE REGENSBURG//Regensburg/DE / NAMASTE REGENSBURG\\\"\\\"2019-12-23T21:32 21921Debitk.0 202\\\"\", \"\\\"LUDWIG BECK AG\\\"\\\"ELV61426879 21.12 10.38 ME0 LUDWIG BECK SAGT DANKE\\\"\", \"\\\"AMAZON EU S.A R.L., NIEDERLASSUNG DEUTSCHLAND\\\"\\\"302-0960478-4574760 Amazon.de 6WYX4CLR332Y9Y62\\\"\", \"\\\"ELBENWALD GMBH//COTTBUS/DE / ELBENWALD GMBH\\\"\\\"2019-12-21T11:39 21911Debitk.0 202\\\"\", \"\\\"ALOIS DALLMAYR KG//MUENCHEN/DE / ALOIS DALLMAYR KG\\\"\\\"2019-12-21T10:28 21910Debitk.0 202\\\"\", \"\\\"Shadow Bean Cafe + Bar GbR//Muenchen/DE / SHADOW BEAN CAFE + BAR\\\"\\\"2019-12-22T11:26 21911Debitk.0 202\\\"\", \"\\\"BAYERISCHE LANDESBRANDVERS//MUENCHEN/DE / EC-CASINO-W303VKB\\\"\\\"2019-12-18T11:53 21911Debitk.0 202\\\"\", \"\\\"KILLY WU\\\"\\\"Amsterdam + Island + Russland                    DATUM 19.12.2019, 14.52 UHR1.TAN 716698\\\"\", \"\\\"DM FIL.0237 H:65132//MUENCHEN/DE / DM DROGERIEMARKT SAGT DANKE\\\"\\\"2019-12-18T15:44 21915Debitk.0 202\\\"\", \"\\\"M-net Telekommunikations GmbH\\\"\\\"D-Nr M501432264, /INV/201911313482 vom 12.12.2019, TELEFONIE November 2019, ZahlB 1304411811           ABWA+M-net Telek. GmbH\\\"\", \"\\\"858 EDEKA M LINDWURMSTR//MUENCHEN/DE / 858 EDEKA M LINDWURMSTR\\\"\\\"2019-12-18T15:49 21915Debitk.0 202\\\"\", \"\\\"Stadt Simbach a. Inn\\\"\\\"3758 .FAD 3758-2 Schmutzwassergeb. Moosecker Str.19/ 35,00/16.12.19FAD 3758-2 Niederschlagswassergeb..\\\"\", \"\\\"NAHKAUF FRISCHEMARKT//Muenchen/DE / NAHKAUF FRISCHEMARKT\\\"\\\"2019-12-12T16:45 21916Debitk.0 202\\\"\", \"\\\"858 EDEKA M LINDWURMSTR//MUENCHEN/DE / 858 EDEKA M LINDWURMSTR\\\"\\\"2019-12-10T10:34 21910Debitk.0 202\\\"\", \"\\\"AMAZON EU S.A R.L., NIEDERLASSUNG DEUTSCHLAND\\\"\\\"304-7841081-2286709 Amazon.de 79NZ6NBGQF98B292\\\"\", \"\\\"HANOI//MUENCHEN/DE / HANOI\\\"\\\"2019-12-05T20:26 21920Debitk.0 202\\\"\", \"\\\"BAYERISCHE LANDESBRANDVERS//MUENCHEN/DE / EC-CASINO-W303VKB\\\"\\\"2019-12-03T11:40 21911Debitk.0 202\\\"\", \"\\\"858 EDEKA M LINDWURMSTR//MUENCHEN/DE / 858 EDEKA M LINDWURMSTR\\\"\\\"2019-12-02T18:15 21918Debitk.0 202\\\"\", \"\\\"NAHKAUF FRISCHEMARKT//Muenchen/DE / NAHKAUF FRISCHEMARKT\\\"\\\"2019-11-29T17:56 11917Debitk.0 202\\\"\", \"\\\"UNION KRANKENVERSICHERUNG AKTIENGESELLSCHAFT\\\"\\\"AUSL.KV KA-7066-0705 Auslandsreisekrankenversicherung 01.12.2019 - 30.11.2020                          ABWA+Union Krankenversicherung AG\\\"\", \"\\\"E-Plus Service GmbH\\\"\\\"Aufladung bei geringem Guthaben fuer Ihr Prepaid-Konto 4915730733922-8429. Aldi Talk sagt DANKE\\\"\", \"\\\"MARIA MAGDALENA RENKER\\\"\\\"Kaltmiete\\\"\", \"\\\"MARIA MAGDALENA RENKER\\\"\\\"Strom + GEZ\\\"\", \"\\\"RESTAURANT SHANDIZ//MUENCHEN/DE / REST SHANDIZ SALEHI\\\"\\\"2019-11-25T20:28 11920Debitk.0 202\\\"\", \"\\\"BAYERISCHE LANDESBRANDVERS//MUENCHEN/DE / EC-CASINO-U14-VKB\\\"\\\"2019-11-20T11:39 Debitk.0 2022-12\\\"\", \"\\\"858 EDEKA M LINDWURMSTR//MUENCHEN/DE / 858 EDEKA M LINDWURMSTR\\\"\\\"2019-11-21T19:07 Debitk.0 2022-12\\\"\", \"\\\"M-net Telekommunikations GmbH\\\"\\\"D-Nr M501432264, /INV/201910315820 vom 14.11.2019, TELEFONIE Oktober 2019, ZahlB 1303861548            ABWA+M-net Telek. GmbH\\\"\", \"\\\"ROBERT HAGER\\\"\\\"MS Geld               DATUM 16.11.2019, 11.29 UHR1.TAN 866353\\\"\", \"\\\"858 EDEKA M LINDWURMSTR//MUENCHEN/DE / 858 EDEKA M LINDWURMSTR\\\"\\\"2019-11-15T16:42 Debitk.0 2022-12\\\"\", \"\\\"Abfallwirtschaftsverband Isar-Inn\\\"\\\"72625 .72625-1 Abfallgebuehr 2019 Moosecker Str. 19 .                       ABWA+AWV Isar-Inn\\\"\", \"\\\"858 EDEKA M LINDWURMSTR//MUENCHEN/DE / 858 EDEKA M LINDWURMSTR\\\"\\\"2019-11-14T16:33 Debitk.0 2022-12\\\"\", \"\\\"Stadt Simbach a. Inn\\\"\\\"3758 .FAD 3758-1 GrSt Moosecker Str.19, Einfamilien/ 10,58/15.11.19\\\"\", \"\\\"BAYERISCHE LANDESBRANDVERS//MUENCHEN/DE / EC-CASINO-U14-VKB\\\"\\\"2019-11-11T09:21 Debitk.0 2022-12\\\"\", \"\\\"858 EDEKA M LINDWURMSTR//MUENCHEN/DE / 858 EDEKA M LINDWURMSTR\\\"\\\"2019-11-11T18:01 Debitk.0 2022-12\\\"\", \"\\\"AMAZON MEDIA EU S.A R.L.\\\"\\\"D01-1554286-1791006 Kindle Svcs 6HL5YILIRF9H6GGT\\\"\", \"\\\"FINANZKASSE MUENCHEN\\\"\\\"Einkommenssteuer 2018 - Robert Hager - 51 869 375 023 - 182/460/13353       DATUM 07.11.2019, 20.45 UHR1.TAN 392512\\\"\", \"\\\"MARIA-MAGDALENA RENKER\\\"\\\"Vielen Dank fuers auschecken :)                  DATUM 03.11.2019, 22.07 UHR1.TAN 422708\\\"\", \"\\\"E-Plus Service GmbH\\\"\\\"Aufladung bei geringem Guthaben fuer Ihr Prepaid-Konto 4915730733922-8429. Aldi Talk sagt DANKE\\\"\", \"\\\"858 EDEKA M LINDWURMSTR//MUENCHEN/DE / 858 EDEKA M LINDWURMSTR\\\"\\\"2019-10-28T16:45 Debitk.0 2022-12\\\"\", \"\\\"DM FIL.0237 H:65132//MUENCHEN/DE / DM DROGERIEMARKT SAGT DANKE\\\"\\\"2019-10-28T16:49 Debitk.0 2022-12\\\"\", \"\\\"SUBWAY AM GOETHEPLATZ//M\\u00dcNCHEN/DE / SG-VR Payment GmbH\\\"\\\"2019-10-26T15:22 Debitk.0 2022-12\\\"\", \"\\\"MARIA MAGDALENA RENKER\\\"\\\"Kaltmiete\\\"\", \"\\\"BAYERISCHE LANDESBRANDVERS//MUENCHEN/DE / EC-CASINO-W303VKB\\\"\\\"2019-10-24T11:33 Debitk.0 2022-12\\\"\", \"\\\"MARIA MAGDALENA RENKER\\\"\\\"Strom + GEZ\\\"\", \"\\\"KARSTADT LEBENSM. SAGT DANK//Muenchen/DE / KAFEIN M-Stachus 013\\\"\\\"2019-10-26T12:53 Debitk.0 2022-12\\\"\", \"\\\"HUGENDUBEL 0150 FIL.0150 GIR 69256732//MUENCHEN/DE / HUGENDUBEL 0150\\\"\\\"2019-10-26T12:42 Debitk.0 2022-12\\\"\", \"\\\"858 EDEKA M LINDWURMSTR//MUENCHEN/DE / 858 EDEKA M LINDWURMSTR\\\"\\\"2019-10-26T15:24 Debitk.0 2022-12\\\"\", \"\\\"858 EDEKA M LINDWURMSTR//MUENCHEN/DE / 858 EDEKA M LINDWURMSTR\\\"\\\"2019-10-22T19:01 Debitk.0 2022-12\\\"\", \"\\\"KARSTADT SPORTS GMBH//Muenchen/DE / KARSTADT SPORTS GMBH\\\"\\\"2019-10-17T19:46 Debitk.0 2022-12\\\"\", \"\\\"SPORTHAUS SCHUSTER\\\"\\\"ELV61409797 17.10 18.47 ME0 SPORTHAUS SCHUSTER\\\"\", \"\\\"adidas BCS Sendlinger Str//MAnchen/DE/0 / Landesbank Hessen-Thuringen Girozentrale\\\"\\\"2019-10-17T17:57 Debitk.0 2099-12\\\"\", \"\\\"M-net Telekommunikations GmbH\\\"\\\"D-Nr M501432264, /INV/201909318567 vom 14.10.2019, TELEFONIE September 2019, ZahlB 1303559689          ABWA+M-net Telek. GmbH\\\"\", \"\\\"ROSEN-APOTHEKE//MUENCHEN/DE / ROSEN APOTHEKE\\\"\\\"2019-10-17T18:55 Debitk.0 2022-12\\\"\", \"\\\"MUE VERKEHRSGESELLS\\\"\\\"IsarCardAbo uebertragbar X.\\\"\", \"\\\"HELLOFRESH\\\"\\\"HelloFresh Deutschland SE Co. KG HELLOFRESH.DE,231125382,2019 10 10          AWV-MELDEPFLICHT BEACHTEN  HOTLINE BUNDESBANK:        (0800) 1234-111            ABWA+HelloFresh Deutschland SE . Co. KG\\\"\", \"\\\"BAYERISCHE LANDESBRANDVERS//MUENCHEN/DE / EC-CASINO-W303VKB\\\"\\\"2019-10-10T13:01 Debitk.0 2022-12\\\"\", \"\\\"874 EDEKA M GOLLIERSTR//MUENCHEN/DE / 874 EDEKA M GOLLIERSTR\\\"\\\"2019-10-11T18:35 Debitk.0 2022-12\\\"\", \"\\\"BAYER. LANDESBRANDVERS. AG\\\"\\\"Gebaeudebrandversicherung fuer Klara Hager (B3-330-6685)                    DATUM 10.10.2019, 18.48 UHR1.TAN 030086\\\"\", \"\\\"DANKE, IHR LIDL//Schierling/DE / DANKE, IHR LIDL\\\"\\\"2019-10-04T18:51 Debitk.0 2022-12\\\"\", \"\\\"HELLOFRESH\\\"\\\"HelloFresh Deutschland SE Co. KG HELLOFRESH.DE,251198182,2019 10 02          AWV-MELDEPFLICHT BEACHTEN  HOTLINE BUNDESBANK:        (0800) 1234-111            ABWA+HelloFresh Deutschland SE . Co. KG\\\"\", \"\\\"E-Plus Service GmbH\\\"\\\"Aufladung bei geringem Guthaben fuer Ihr Prepaid-Konto 4915730733922-8429. Aldi Talk sagt DANKE\\\"\", \"\\\"Bundeskasse in Halle\\\"\\\"BUKA HALLE DARLEHEN 55207616398\\\"\", \"\\\"BAYERISCHE LANDESBRANDVERS//MUENCHEN/DE / EC-CASINO-W303VKB\\\"\\\"2019-09-27T11:49 Debitk.0 2022-12\\\"\", \"\\\"MARIA MAGDALENA RENKER\\\"\\\"Kaltmiete\\\"\", \"\\\"HANOI//MUENCHEN/DE / HANOI\\\"\\\"2019-09-26T19:51 Debitk.0 2022-12\\\"\", \"\\\"HELLOFRESH\\\"\\\"HelloFresh Deutschland SE Co. KG HELLOFRESH.DE,227446582,2019 09 26          AWV-MELDEPFLICHT BEACHTEN  HOTLINE BUNDESBANK:        (0800) 1234-111            ABWA+HelloFresh Deutschland SE . Co. KG\\\"\", \"\\\"MARIA MAGDALENA RENKER\\\"\\\"Strom + GEZ\\\"\", \"\\\"PEPENERO//MUENCHEN/DE / PEPENERO\\\"\\\"2019-09-25T20:00 Debitk.0 2022-12\\\"\", \"\\\"SHELL 2506// Berg /DE / Shell Deutschland Oil GmbH\\\"\\\"2019-09-22T17:36 Debitk.0 2022-12\\\"\", \"\\\"858 EDEKA M LINDWURMSTR//MUENCHEN/DE / 858 EDEKA M LINDWURMSTR\\\"\\\"2019-09-23T17:57 Debitk.0 2022-12\\\"\", \"\\\"Karwendelbahn AG//Mittenwald/DE / Karwendelbahn AG\\\"\\\"Karwendelbahn AG 2019-09-22T15:53 Debitk.0 2022-12\\\"\", \"\\\"Jack + Jones Schwanthaler Hoeh//Muenche/DE / 182 JACK + JONES SCHWANTHAL\\\"\\\"2019-09-18T18:03 Debitk.0 2022-12\\\"\", \"\\\"BAYERISCHE LANDESBRANDVERS//MUENCHEN/DE / EC-CASINO-U14-VKB\\\"\\\"2019-09-17T11:34 Debitk.0 2022-12\\\"\", \"\\\"M-net Telekommunikations GmbH\\\"\\\"D-Nr M501432264, /INV/201908321283 vom 12.09.2019, TELEFONIE August 2019, ZahlB 1303324456             ABWA+M-net Telek. GmbH\\\"\", \"\\\"Frau Li Restaurant//Muenchen/DE / FRAU LI RESTAURANT\\\"\\\"2019-09-18T19:27 Debitk.0 2022-12\\\"\", \"\\\"Stadt Simbach a. Inn\\\"\\\"3758 .FAD 3758-2 Schmutzwassergeb. Moosecker Str.19/ 35,00/16.09.19FAD 3758-2 Niederschlagswassergeb..\\\"\", \"\\\"858 EDEKA M LINDWURMSTR//MUENCHEN/DE / 858 EDEKA M LINDWURMSTR\\\"\\\"2019-09-17T18:37 Debitk.0 2022-12\\\"\", \"\\\"REWE SAGT DANKE. 46400562//Regensburg/DE / REWE Markt GmbH\\\"\\\"2019-09-14T13:29 Debitk.0 2022-12\\\"\", \"\\\"ANDREAS HUBER KAMINKEHRERMEISTERBETRIEB\\\"\\\"vom: 05.09.2019/5-4-19DATUM 10.09.2019, 20.18 UHR1.TAN 052891\\\"\", \"\\\"858 EDEKA M LINDWURMSTR//MUENCHEN/DE / 858 EDEKA M LINDWURMSTR\\\"\\\"2019-09-10T17:29 Debitk.0 2022-12\\\"\", \"\\\"858 EDEKA M LINDWURMSTR//MUENCHEN/DE / 858 EDEKA M LINDWURMSTR\\\"\\\"2019-09-09T17:40 Debitk.0 2022-12\\\"\", \"\\\"MARS GMBH RESTAURANT HEYLUI//MUENCHEN/DE / Lastschrift aus Kartenzahlung\\\"\\\"2019-09-06T20:37 Debitk.0 2022-12\\\"\", \"\\\"ARAL Munchen Kapuzinerstrase 46//Munchen/DE / ARAL AG\\\"\\\"Kartenzahlung 2019-09-06T15:29 Debitk.0 2022-12\\\"\", \"\\\"BAYERISCHE LANDESBRANDVERS//MUENCHEN/DE / EC-CASINO-W303VKB\\\"\\\"2019-09-03T11:43 Debitk.0 2022-12\\\"\", \"\\\"E-Plus Service GmbH\\\"\\\"Aufladung bei geringem Guthaben fuer Ihr Prepaid-Konto 4915730733922-8429. Aldi Talk sagt DANKE\\\"\", \"\\\"DB AUTOMAT//ERLANGEN/DE / DB Vertrieb GmbH\\\"\\\"2019-09-01T14:48 Debitk.0 2022-12\\\"\", \"\\\"KILLY WU\\\"\\\"DATUM 30.08.2019,     17.17 UHR, 1.TAN 677207\\\"\", \"\\\"858 EDEKA M LINDWURMSTR//MUENCHEN/DE / 858 EDEKA M LINDWURMSTR\\\"\\\"2019-08-27T18:26 Debitk.0 2022-12\\\"\", \"\\\"MARIA MAGDALENA RENKER\\\"\\\"Kaltmiete\\\"\", \"\\\"MARIA MAGDALENA RENKER\\\"\\\"Strom + GEZ\\\"\", \"\\\"BAYERISCHE LANDESBRANDVERS//MUENCHEN/DE / EC-CASINO-W303VKB\\\"\\\"2019-08-22T14:37 Debitk.0 2022-12\\\"\", \"\\\"VERSICHERUNGSKAMMER BAYERN VERSICHERUNGSANSTALT D.\\u00d6.R.\\\"\\\"HAFT UNF HE-1008-2831 14.08.2019                 ABWA+Versicherungskammer Bayern\\\"\", \"\\\"ZVKDZ OBERLAND\\\"\\\"Aktenzeichen 271953833 - M-WU:3688 - 18.08.2019  DATUM 21.08.2019, 18.10 UHR1.TAN 076186\\\"\", \"\\\"BP TANKSTELLE//STEINACH AM B/AT/1 / Landesbank Hessen-Thuringen Girozentrale\\\"\\\"2019-08-18T08:23 Debitk.0 2099-12\\\"\", \"\\\"M-net Telekommunikations GmbH\\\"\\\"D-Nr M501432264, /INV/201907323841 vom 13.08.2019, TELEFONIE Juli 2019, ZahlB 1302948913               ABWA+M-net Telek. GmbH\\\"\", \"\\\"858 EDEKA M LINDWURMSTR//MUENCHEN/DE / 858 EDEKA M LINDWURMSTR\\\"\\\"2019-08-19T17:31 Debitk.0 2022-12\\\"\", \"\\\"Stadt Simbach a. Inn\\\"\\\"3758 .FAD 3758-1 GrSt Moosecker Str.19, Einfamilien/ 10,59/16.08.19\\\"\", \"\\\"858 EDEKA M LINDWURMSTR//MUENCHEN/DE / 858 EDEKA M LINDWURMSTR\\\"\\\"2019-08-14T17:14 Debitk.0 2022-12\\\"\", \"\\\"Abfallwirtschaftsverband Isar-Inn\\\"\\\"72625 .72625-1 Abfallgebuehr 2019 Moosecker Str. 19 .                       ABWA+AWV Isar-Inn\\\"\", \"\\\"Zillertaler Gletscherbahn//Ehrwald/AT/1 / Landesbank Hessen-Thuringen Girozentrale\\\"\\\"2019-08-11T10:58 Debitk.0 2099-12\\\"\", \"\\\"BAYERISCHE LANDESBRANDVERS//MUENCHEN/DE / EC-CASINO-U14-VKB\\\"\\\"2019-08-08T11:56 Debitk.0 2022-12\\\"\", \"\\\"OUTFITTERY GMBH\\\"\\\"2001101349            DATUM 09.08.2019, 17.29 UHR1.TAN 125025\\\"\", \"\\\"AMAZON PAYMENTS EUROPE S.C.A.\\\"\\\"302-0834180-2983503 AMZN Mktp DE 5C3W4GRAU04JHR0V\\\"\", \"\\\"HELLOFRESH\\\"\\\"HelloFresh Deutschland SE Co. KG HELLOFRESH.DE,297594482,2019 08 08          AWV-MELDEPFLICHT BEACHTEN  HOTLINE BUNDESBANK:        (0800) 1234-111            ABWA+HelloFresh Deutschland SE . Co. KG\\\"\", \"\\\"OMV DEUTSCHLAND GMBH\\\"\\\"OMV D7265 Feucht 04.08.2019 18:12                ABWA+OMV Deutschland GmbH\\\"\", \"\\\"858 EDEKA M LINDWURMSTR//MUENCHEN/DE / 858 EDEKA M LINDWURMSTR\\\"\\\"2019-08-05T17:34 Debitk.0 2022-12\\\"\", \"\\\"ECHO TANKSTELLEN GMBH TUR//Feucht/DE / ESSO TANKSTELLE\\\"\\\"2019-08-03T07:51 Debitk.0 2022-12\\\"\", \"\\\"OIL TANKSTELLEN GMBH COKG sagt Danke TS 153 GIR 79957724//HILDESHEI/DE / OIL TANKSTELLEN GMBH COKG\\\"\\\"2019-08-04T12:28 Debitk.0 2022-12\\\"\", \"\\\"MARIA MAGDALENA RENKER\\\"\\\"Kaltmiete\\\"\", \"\\\"BAYERISCHE LANDESBRANDVERS//MUENCHEN/DE / EC-CASINO-W303VKB\\\"\\\"2019-07-26T11:30 Debitk.0 2022-12\\\"\", \"\\\"MARIA MAGDALENA RENKER\\\"\\\"Strom + GEZ\\\"\", \"\\\"Aral Tankstelle Munchen Rosenheimer Strase 138//Munchen/DE / ARAL AG\\\"\\\"Kartenzahlung 2019-07-27T18:22 Debitk.0 2022-12\\\"\", \"\\\"AMAZON MEDIA EU S.A R.L.\\\"\\\"D01-2665018-1202246 Kindle Svcs YGXN5HZIV1DA5AXB\\\"\", \"\\\"858 EDEKA M LINDWURMSTR//MUENCHEN/DE / 858 EDEKA M LINDWURMSTR\\\"\\\"2019-07-20T14:47 Debitk.0 2022-12\\\"\", \"\\\"RESTAURANT ANNAM GR//MUENCHEN/DE / RESTAURANT ANNAM GRILL\\\"\\\"2019-07-18T20:52 Debitk.0 2022-12\\\"\", \"\\\"AMAZON EU S.A R.L., NIEDERLASSUNG DEUTSCHLAND\\\"\\\"302-5922907-5270730 Amazon.de 4OT9T5YGE2FW7XAN\\\"\", \"\\\"BAYERISCHE LANDESBRANDVERS//MUENCHEN/DE / EC-CASINO-U14-VKB\\\"\\\"2019-07-16T11:59 Debitk.0 2022-12\\\"\", \"\\\"M-net Telekommunikations GmbH\\\"\\\"D-Nr M501432264, /INV/201906325789 vom 11.07.2019, TELEFONIE Juni 2019, ZahlB 1302584180               ABWA+M-net Telek. GmbH\\\"\", \"\\\"858 EDEKA M LINDWURMSTR//MUENCHEN/DE / 858 EDEKA M LINDWURMSTR\\\"\\\"2019-07-16T17:24 Debitk.0 2022-12\\\"\", \"\\\"VHV Allgemeine Versicherung AG\\\"\\\"ABR.ZEITR.06.07.19-06.07.20 HAFTPFLICHTVERSICHERUNG VERTRAG H 236-821829 31301368784\\\"\", \"\\\"HELLOFRESH\\\"\\\"HelloFresh Deutschland SE Co. KG HELLOFRESH.DE,295563592,2019 07 11          AWV-MELDEPFLICHT BEACHTEN  HOTLINE BUNDESBANK:        (0800) 1234-111            ABWA+HelloFresh Deutschland SE . Co. KG\\\"\", \"\\\"E-Plus Service GmbH\\\"\\\"Aufladung bei geringem Guthaben fuer Ihr Prepaid-Konto 4915730733922-8429. Aldi Talk sagt DANKE\\\"\", \"\\\"MTV Muenchen von 1879 e. V.\\\"\\\"40469 Einzug bis 12.2019 Mitgliedsbeitrag 2. HJ 2019\\\"\", \"\\\"BAYERISCHE LANDESBRANDVERS//MUENCHEN/DE / EC-CASINO-W303VKB\\\"\\\"2019-07-01T12:11 Debitk.0 2022-12\\\"\", \"\\\"NAHKAUF FRISCHEMARKT//Muenchen/DE / NAHKAUF FRISCHEMARKT\\\"\\\"2019-07-01T18:17 Debitk.0 2022-12\\\"\", \"\\\"Bundeskasse in Halle\\\"\\\"BUKA HALLE DARLEHEN 55207616398\\\"\", \"\\\"862 EDEKA M SCHELLINGSTR 88//MUENCHEN/DE / 862 EDEKA M SCHELLINGSTR 88\\\"\\\"2019-06-28T18:22 Debitk.0 2022-12\\\"\", \"\\\"MARIA MAGDALENA RENKER\\\"\\\"Kaltmiete\\\"\", \"\\\"MARIA MAGDALENA RENKER\\\"\\\"Strom + GEZ\\\"\", \"\\\"EDEKA MUC IMPLERSTR//MUENCHEN/DE / EDEKA MUC IMPLERSTR\\\"\\\"2019-06-22T14:24 Debitk.0 2022-12\\\"\", \"\\\"AGIP, IMPLERSTR. MUENCHEN//Muenchen/DE / Eni Deutschland GmbH\\\"\\\"2019-06-22T14:28 Debitk.0 2022-12\\\"\", \"\\\"HOLZKNECHTHUETTE DVORAK MANFRED UND FILZWIESER JENNY G\\\"\\\"Nebenkosten und Endreinigung - Robert Hager      DATUM 21.06.2019, 10.16 UHR1.TAN 291532\\\"\", \"\\\"KILLY WU\\\"\\\"sollte nicht senor grande geld bekommen?         DATUM 21.06.2019, 10.07 UHR1.TAN 817965\\\"\", \"\\\"M-net Telekommunikations GmbH\\\"\\\"D-Nr M501432264, /INV/201905328599 vom 14.06.2019, TELEFONIE Mai 2019, ZahlB 1302061601                ABWA+M-net Telek. GmbH\\\"\", \"\\\"ANDREAS HUBER KAMINKEHRERMEISTERBETRIEB\\\"\\\"vom: 05.06.2019 / 5-4-19                         DATUM 21.06.2019, 10.04 UHR1.TAN 069409\\\"\", \"\\\"Stadt Simbach a. Inn\\\"\\\"3758 .FAD 3758-2 Schmutzwassergeb. Moosecker Str.19/ 35,00/17.06.19FAD 3758-2 Niederschlagswassergeb..\\\"\", \"\\\"E-Plus Service GmbH\\\"\\\"Aufladung bei geringem Guthaben fuer Ihr Prepaid-Konto 4915730733922-8429. Aldi Talk sagt DANKE\\\"\", \"\\\"DB AUTOMAT//MUENCHEN HBF/DE / DB Vertrieb GmbH\\\"\\\"2019-06-07T20:34 Debitk.0 2022-12\\\"\", \"\\\"HELLOFRESH\\\"\\\"HelloFresh Deutschland SE Co. KG HELLOFRESH.DE,275658992,2019 06 06          AWV-MELDEPFLICHT BEACHTEN  HOTLINE BUNDESBANK:        (0800) 1234-111            ABWA+HelloFresh Deutschland SE . Co. KG\\\"\", \"\\\"OMV DEUTSCHLAND GMBH\\\"\\\"OMV D7688 Munchen 01.06.2019 17:33               ABWA+OMV Deutschland GmbH\\\"\", \"\\\"ORTERER GETRAENKE-MAERKTE//UNTERSCHLEI/DE / ORTERER9016\\\"\\\"2019-05-29T09:09 Debitk.0 2022-12\\\"\", \"\\\"AUGUSTINER BRAEUSTUBEN GIR 69285327//MUENCHEN/DE / AUGUSTINER BRAEUSTUBEN\\\"\\\"2019-05-29T22:47 Debitk.0 2022-12\\\"\", \"\\\"POLIZEIVERWALTUNGSAMT\\\"\\\"DATUM 28.05.2019,     17.44 UHR, 1.TAN 642272\\\"\", \"\\\"MARIA MAGDALENA RENKER\\\"\\\"Kaltmiete\\\"\", \"\\\"ALLIANZ DEUTSCHLAND AG//MUENCHEN/DE / Allianz Gastro Neuperlach\\\"\\\"2019-05-17T11:44 Debitk.0 2022-12\\\"\", \"\\\"MARIA MAGDALENA RENKER\\\"\\\"Strom + GEZ\\\"\", \"\\\"PayPal (Europe) S.a.r.l. et Cie., S.C.A.\\\"\\\"PP.9048.PP . KLM, Ihr Einkauf bei KLM\\\"\", \"\\\"M-net Telekommunikations GmbH\\\"\\\"D-Nr M501432264, /INV/201904331001 vom 14.05.2019, TELEFONIE April 2019, ZahlB 1301612707              ABWA+M-net Telek. GmbH\\\"\", \"\\\"858 EDEKA M LINDWURMSTR//MUENCHEN/DE / 858 EDEKA M LINDWURMSTR\\\"\\\"2019-05-17T18:44 Debitk.0 2022-12\\\"\", \"\\\"HMS HUETTEN-MIET-SERVICE GMBH\\\"\\\"139185                DATUM 17.05.2019, 16.54 UHR1.TAN 895929\\\"\", \"\\\"858 EDEKA M LINDWURMSTR//MUENCHEN/DE / 858 EDEKA M LINDWURMSTR\\\"\\\"2019-05-16T15:33 Debitk.0 2022-12\\\"\", \"\\\"PayPal (Europe) S.a.r.l. et Cie., S.C.A.\\\"\\\"PP.9048.PP . , Ihr Einkauf bei\\\"\", \"\\\"NAHKAUF FRISCHEMARKT//Muenchen/DE / NAHKAUF FRISCHEMARKT\\\"\\\"2019-05-14T17:40 Debitk.0 2022-12\\\"\", \"\\\"E-Plus Service GmbH\\\"\\\"Aufladung bei geringem Guthaben fuer Ihr Prepaid-Konto 4915730733922-8429. Aldi Talk sagt DANKE\\\"\", \"\\\"Abfallwirtschaftsverband Isar-Inn\\\"\\\"72625/72625-1 Abfallgebuehr 2019 Moosecker Str. 19                          ABWA+AWV Isar-Inn\\\"\", \"\\\"Stadt Simbach a. Inn\\\"\\\"3758 .FAD 3758-1 GrSt Moosecker Str.19, Einfamilien/ 10,59/15.05.19\\\"\", \"\\\"DB AUTOMAT//ECHING/DE / DB Vertrieb GmbH\\\"\\\"2019-05-13T15:23 Debitk.0 2022-12\\\"\", \"\\\"NAHKAUF FRISCHEMARKT//Muenchen/DE / NAHKAUF FRISCHEMARKT\\\"\\\"2019-05-09T16:42 Debitk.0 2022-12\\\"\", \"\\\"ALLIANZ DEUTSCHLAND AG//MUENCHEN/DE / Allianz Gastro Neuperlach\\\"\\\"2019-05-03T12:04 Debitk.0 2022-12\\\"\", \"\\\"ROBERT HAGER\\\"\\\"ETF Geld              DATUM 29.04.2019, 20.01 UHR1.TAN 375954\\\"\", \"\\\"BAUHAUS MUENCHEN - DANKE\\\"\\\"270414500143788221201052080 ELV65111452 27.04 14.50 ME0\\\"\", \"\\\"MARIA MAGDALENA RENKER\\\"\\\"Kaltmiete\\\"\", \"\\\"MARIA MAGDALENA RENKER\\\"\\\"Strom + GEZ\\\"\", \"\\\"NAHKAUF FRISCHEMARKT//Muenchen/DE / NAHKAUF FRISCHEMARKT\\\"\\\"2019-04-27T19:51 Debitk.0 2022-12\\\"\", \"\\\"HELLOFRESH\\\"\\\"HelloFresh Deutschland SE Co. KG HELLOFRESH.DE,243149162,2019 04 25          AWV-MELDEPFLICHT BEACHTEN  HOTLINE BUNDESBANK:        (0800) 1234-111            ABWA+HelloFresh Deutschland SE . Co. KG\\\"\", \"\\\"SCHLOSSWALD GMBH\\\"\\\"Erinnerungstafel Auftrag-Nr. 19031               DATUM 24.04.2019, 18.33 UHR1.TAN 596924\\\"\", \"\\\"NAHKAUF FRISCHEMARKT//Muenchen/DE / NAHKAUF FRISCHEMARKT\\\"\\\"2019-04-23T17:59 Debitk.0 2022-12\\\"\", \"\\\"ALLIANZ DEUTSCHLAND AG//MUENCHEN/DE / Allianz Gastro Neuperlach\\\"\\\"2019-04-17T11:39 Debitk.0 2022-12\\\"\", \"\\\"AMAZON PAYMENTS EUROPE S.C.A.\\\"\\\"302-6901724-1303518 AMZN Mktp DE 1M4AP0EC9WXTBPZ0\\\"\", \"\\\"M-net Telekommunikations GmbH\\\"\\\"D-Nr M501432264, /INV/201903333242 vom 11.04.2019, TELEFONIE Maerz 2019, ZahlB 1301289325              ABWA+M-net Telek. GmbH\\\"\", \"\\\"AMAZON PAYMENTS EUROPE S.C.A.\\\"\\\"302-6901724-1303518 AMZN Mktp DE 14DDVAY8P3HFJ4PN\\\"\", \"\\\"E-Plus Service GmbH\\\"\\\"Aufladung bei geringem Guthaben fuer Ihr Prepaid-Konto 4915730733922-8429. Aldi Talk sagt DANKE\\\"\", \"\\\"Nam Giao//Muenchen/DE / NAM GIAO\\\"\\\"2019-04-16T21:41 Debitk.0 2022-12\\\"\", \"\\\"STADT NITTENAU\\\"\\\"Bestattung Engelbert Hager - Naturfriedhof, Areal: 1 / Sueden, Bereich F1, Graeberfeld 0188 / Baum, Grabstaette 10                DATUM 15.04.2019, 19.56 UHR1.TAN 064753\\\"\", \"\\\"ALLIANZ DEUTSCHLAND AG//MUENCHEN/DE / Allianz Gastro Neuperlach\\\"\\\"2019-04-05T11:55 Debitk.0 2022-12\\\"\", \"\\\"BLITZ RESTAURANT//MUENCHEN/DE / BLITZ RESTAURANT\\\"\\\"2019-04-11T21:15 Debitk.0 2022-12\\\"\", \"\\\"Frau Li Restaurant//Muenchen/DE / FRAU LI RESTAURANT\\\"\\\"2019-04-07T15:51 Debitk.0 2022-12\\\"\", \"\\\"AMAZON PAYMENTS EUROPE S.C.A.\\\"\\\"304-0042130-7080329 AMZN Mktp DE 52L8114AR1BLA22C\\\"\", \"\\\"SPORTPARK//Muenchen/DE / SPORTPARK\\\"\\\"2019-04-02T17:27 Debitk.0 2022-12\\\"\", \"\\\"AMAZON EU S.A R.L., NIEDERLASSUNG DEUTSCHLAND\\\"\\\"302-9573811-7570745 Amazon.de 6QFWSYJC2C36F6BB\\\"\", \"\\\"AMAZON PAYMENTS EUROPE S.C.A.\\\"\\\"304-0042130-7080329 AMZN Mktp DE 7G71A4XKHE08D1UX\\\"\", \"\\\"Bundeskasse in Halle\\\"\\\"BUKA HALLE DARLEHEN 55207616398\\\"\", \"\\\"ALLIANZ DEUTSCHLAND AG//MUENCHEN/DE / Allianz Gastro Neuperlach\\\"\\\"2019-03-27T14:50 Debitk.0 2022-12\\\"\", \"\\\"NAHKAUF FRISCHEMARKT//Muenchen/DE / NAHKAUF FRISCHEMARKT\\\"\\\"2019-03-29T17:01 Debitk.0 2022-12\\\"\", \"\\\"MARIA MAGDALENA RENKER\\\"\\\"Kaltmiete\\\"\", \"\\\"MARIA MAGDALENA RENKER\\\"\\\"Strom + GEZ\\\"\", \"\\\"E-Plus Service GmbH\\\"\\\"Aufladung bei geringem Guthaben fuer Ihr Prepaid-Konto 4915730733922-8429. Aldi Talk sagt DANKE\\\"\", \"\\\"M-net Telekommunikations GmbH\\\"\\\"D-Nr M501432264, /INV/201902336087 vom 13.03.2019, TELEFONIE Februar 2019, ZahlB 1301020855            ABWA+M-net Telek. GmbH\\\"\", \"\\\"OUTFITTERY GMBH\\\"\\\"DATUM 18.03.2019,     20.35 UHR, 1.TAN 712116\\\"\", \"\\\"Stadt Simbach a. Inn\\\"\\\"3758 .FAD 3758-2 Schmutzwassergeb. Moosecker Str.19/ 35,00/15.03.19FAD 3758-2 Niederschlagswassergeb..\\\"\", \"\\\"ALLIANZ DEUTSCHLAND AG//MUENCHEN/DE / Allianz Gastro Neuperlach\\\"\\\"2019-03-13T12:13 Debitk.0 2022-12\\\"\", \"\\\"KREISVERWALTUNGSREF. MCHN.//Muenchen/DE / KREISVERWALTUNGSREF. MCHN.\\\"\\\"2019-03-14T08:33 Debitk.0 2022-12\\\"\", \"\\\"NAHKAUF FRISCHEMARKT//Muenchen/DE / NAHKAUF FRISCHEMARKT\\\"\\\"2019-03-12T16:20 Debitk.0 2022-12\\\"\", \"\\\"MTV Muenchen von 1879 e. V.\\\"\\\"40469 Einzug bis 6.2019 Mitgliedsbeitrag\\\"\", \"\\\"HELLOFRESH\\\"\\\"HelloFresh Deutschland SE Co. KG HELLOFRESH.DE,221341262,2019 03 14          AWV-MELDEPFLICHT BEACHTEN  HOTLINE BUNDESBANK:        (0800) 1234-111            ABWA+HelloFresh Deutschland SE . Co. KG\\\"\", \"\\\"ALLIANZ DEUTSCHLAND AG//MUENCHEN/DE / Allianz Gastro Neuperlach\\\"\\\"2019-02-27T08:25 Debitk.0 2022-12\\\"\", \"\\\"Abfallwirtschaftsverband Isar-Inn\\\"\\\"72625/72625-1 Abfallgebuehr 2019 Moosecker Str. 19\\\"\", \"\\\"MARIA MAGDALENA RENKER\\\"\\\"Kaltmiete\\\"\", \"\\\"MARIA MAGDALENA RENKER\\\"\\\"Strom + GEZ\\\"\", \"\\\"DANKE, SAGT IHR REAL TEAM\\\"\\\"220219080106851221231913350 ELV65393153 22.02 19.08 ME0\\\"\", \"\\\"DANKE, SAGT IHR REAL TEAM\\\"\\\"230214090053184221231913350 ELV65393169 23.02 14.09 ME0\\\"\", \"\\\"ALLIANZ DEUTSCHLAND AG//MUENCHEN/DE / Allianz Gastro Neuperlach\\\"\\\"2019-02-12T15:51 Debitk.0 2022-12\\\"\", \"\\\"1A TANKEN WASCHEN GMBH//SCHIERLING/DE / TANKEN U WASCHEN\\\"\\\"2019-02-23T21:30 Debitk.0 2022-12\\\"\", \"\\\"E-Plus Service GmbH\\\"\\\"Aufladung bei geringem Guthaben fuer Ihr Prepaid-Konto 4915730733922-8429. Aldi Talk sagt DANKE\\\"\", \"\\\"M-net Telekommunikations GmbH\\\"\\\"D-Nr M501432264, /INV/201901340657 vom 13.02.2019, TELEFONIE Januar 2019, ZahlB 1300552816             ABWA+M-net Telek. GmbH\\\"\", \"\\\"Stadt Simbach a. Inn\\\"\\\"3758 .FAD 3758-1 GrSt Moosecker Str.19, Einfamilien/ 10,59/15.02.19\\\"\", \"\\\"AMAZON EU S.A R.L., NIEDERLASSUNG DEUTSCHLAND\\\"\\\"304-0720225-5961155 Amazon.de 5O2SJZWAW3I19Y4S\\\"\", \"\\\"AMAZON PAYMENTS EUROPE S.C.A.\\\"\\\"304-2398164-4880310 AMZN Mktp DE 59UN4L9ORWSSW8JX\\\"\", \"\\\"AMAZON MEDIA EU S.A R.L.\\\"\\\"D01-7355517-5023036 Kindle Svcs Y7VYQF7QYEPXGDC6\\\"\", \"\\\"858 EDEKA M LINDWURMSTR//MUENCHEN/DE / 858 EDEKA M LINDWURMSTR\\\"\\\"2019-02-11T17:40 Debitk.0 2022-12\\\"\", \"\\\"Aral Tankstelle Geisenhausen A9//Geisenhausen/DE / ARAL AG\\\"\\\"Kartenzahlung 2019-02-10T18:14 Debitk.0 2022-12\\\"\", \"\\\"AMAZON PAYMENTS EUROPE S.C.A.\\\"\\\"305-9944005-5867526 AMZN Mktp DE 2DW92TGTPGC9VGF7\\\"\", \"\\\"CHI THU - STREET FO//MUENCHEN/DE / CHI THU - STREET FO\\\"\\\"2019-02-07T19:38 Debitk.0 2022-12\\\"\", \"\\\"OMV DEUTSCHLAND GMBH\\\"\\\"OMV D7192 Furholzen 01.02.2019 17:47             ABWA+OMV Deutschland GmbH\\\"\", \"\\\"ALLIANZ DEUTSCHLAND AG//MUENCHEN/DE / Allianz Gastro Neuperlach\\\"\\\"2019-01-31T11:51 Debitk.0 2022-12\\\"\", \"\\\"AMAZON MEDIA EU S.A R.L.\\\"\\\"D01-8181294-7243836 Kindle Svcs 5Y9RV1W90XTNXKT4\\\"\", \"\\\"MARIA MAGDALENA RENKER\\\"\\\"Kaltmiete\\\"\", \"\\\"MARIA MAGDALENA RENKER\\\"\\\"Strom + GEZ\\\"\", \"\\\"NAHKAUF FRISCHEMARKT//Muenchen/DE / NAHKAUF FRISCHEMARKT\\\"\\\"2019-01-25T16:21 Debitk.0 2022-12\\\"\", \"\\\"Kaufland Muenchen//Muenchen/DE / KAUFLAND\\\"\\\"2019-01-24T17:23 Debitk.0 2022-12\\\"\", \"\\\"858 EDEKA M LINDWURMSTR//MUENCHEN/DE / 858 EDEKA M LINDWURMSTR\\\"\\\"2019-01-24T18:04 Debitk.0 2022-12\\\"\", \"\\\"MINIT SERVICE GMBH//MUENCHEN-NEUPERLAC/DE / MINIT SERVICE GMBH\\\"\\\"2019-01-24T17:26 Debitk.0 2022-12\\\"\", \"\\\"E-Plus Service GmbH\\\"\\\"Aufladung bei geringem Guthaben fuer Ihr Prepaid-Konto 4915730733922-8429. Aldi Talk sagt DANKE\\\"\", \"\\\"ALLIANZ DEUTSCHLAND AG//MUENCHEN/DE / Allianz Gastro Neuperlach\\\"\\\"2019-01-17T18:17 Debitk.0 2022-12\\\"\", \"\\\"M-net Telekommunikations GmbH\\\"\\\"D-Nr M501432264, /INV/201812341912 vom 14.01.2019, TELEFONIE Dezember 2018, ZahlB 1300233023           ABWA+M-net Telek. GmbH\\\"\", \"\\\"858 EDEKA M LINDWURMSTR//MUENCHEN/DE / 858 EDEKA M LINDWURMSTR\\\"\\\"2019-01-19T11:27 Debitk.0 2022-12\\\"\", \"\\\"DT. APOTHEKER- UND AERZTEBANK\\\"\\\"Professionelle Zahnreinigung - Robert Hager - 09.01.2019                    DATUM 17.01.2019, 20.37 UHR1.TAN 179244\\\"\", \"\\\"AMAZON MEDIA EU S.A R.L.\\\"\\\"D01-6605248-6379808 Kindle Svcs 8IAEMHQGSN682B02\\\"\", \"\\\"858 EDEKA M LINDWURMSTR//MUENCHEN/DE / 858 EDEKA M LINDWURMSTR\\\"\\\"2019-01-07T18:53 Debitk.0 2022-12\\\"\", \"\\\"JANA BETZOLD\\\"\\\"Kochkurs  ORIENTAL SOULFOOD  - 12.04.2019 - Robert Hager                    DATUM 04.01.2019, 14.17 UHR1.TAN 798628\\\"\", \"\\\"AMAZON PAYMENTS EUROPE S.C.A.\\\"\\\"302-7877438-6053127 AMZN Mktp DE 1699987346914266\\\"\", \"\\\"858 EDEKA M LINDWURMSTR//MUENCHEN/DE / 858 EDEKA M LINDWURMSTR\\\"\\\"2019-01-03T17:55 Debitk.0 2022-12\\\"\", \"\\\"Bundeskasse in Halle\\\"\\\"BUKA HALLE DARLEHEN 55207616398\\\"\", \"\\\"AMAZON PAYMENTS EUROPE S.C.A.\\\"\\\"302-0729761-3672318 AMZN Mktp DE 6173029520454028\\\"\", \"\\\"Aral Tankstelle Regensburg Augsburger Strase 32//Regensburg/DE / ARAL AG\\\"\\\"Kartenzahlung 2018-12-28T19:36 Debitk.0 2022-12\\\"\", \"\\\"Aral Tankstelle Schierling Dieselstrase 16//Schierling/DE / ARAL AG\\\"\\\"Kartenzahlung 2018-12-29T00:48 Debitk.0 2022-12\\\"\", \"\\\"AMAZON PAYMENTS EUROPE S.C.A.\\\"\\\"302-9725122-0476323 AMZN Mktp DE 3036434762421392\\\"\", \"\\\"NAHKAUF FRISCHEMARKT//Muenchen/DE / NAHKAUF FRISCHEMARKT\\\"\\\"2018-12-29T13:57 Debitk.0 2022-12\\\"\", \"\\\"E-Plus Service GmbH\\\"\\\"Aufladung bei geringem Guthaben fuer Ihr Prepaid-Konto 4915730733922-8429. Aldi Talk sagt DANKE\\\"\", \"\\\"AMAZON MEDIA EU S.A R.L.\\\"\\\"D01-4795566-6223031 Kindle Svcs 8196529329948927\\\"\", \"\\\"EDEKAMUENCHEN\\\"\", \"\\\"UBER TRIP HELP.UBER.COMhelp.uber.com\\\"\", \"\\\"HVB, LINDWURMSTRASSE 8MUENCHEN\\\"\", \"\\\"DB BAHN  A-NR 7AH214INTERNET\\\"\", \"\\\"SPARDA-BANK MUENCHEN35031 MUENCHE\\\"\", \"\\\"STADTSPARKASSE MUENCHENFL 098\\\"\", \"\\\"UBER JUMP HELP.UBER.COMAmsterdam\\\"\", \"\\\"RAIFFEISENBANK M.NCH ATM.MUENCHEN\\\"\", \"\\\"SpotifyStockholm\\\"\", \"\\\"STADTSPARKASSE MUENCHENFL 098\\\"\", \"\\\"STADTSPARKASSE MUENCHENFL 240\\\"\", \"\\\"STADTSPARKASSE MUENCHENFL 174\\\"\", \"\\\"HVB, FRANKFURTER RINGMUENCHEN\\\"\", \"\\\"UBER TRIP HELP.UBER.COMhelp.uber.com\\\"\", \"\\\"UBER TRIP HELP.UBER.COMhelp.uber.com\\\"\", \"\\\"DB BAHN  A-NR OGP2GAINTERNET\\\"\", \"\\\"DB BAHN  A-NR 9Q284KINTERNET\\\"\", \"\\\"RAIFFEISENBANK M.NCH ATM.MUENCHEN\\\"\", \"\\\"Restaurant ShandizMunchen\\\"\", \"\\\"HVB, LINDWURMSTRASSE 8MUENCHEN\\\"\", \"\\\"SpotifyStockholm\\\"\", \"\\\"UBER TRIP HELP.UBER.COMhelp.uber.com\\\"\", \"\\\"Lieferando.deAmsterdam\\\"\", \"\\\"HVB, LINDWURMSTRASSE 8MUENCHEN\\\"\", \"\\\"DB BAHN  A-NR EMU99PINTERNET\\\"\", \"\\\"STELLA MARIS HOTELHAMBURG\\\"\", \"\\\"DB BAHN  A-NR YW4GEWINTERNET\\\"\", \"\\\"SPARDA-BANK MUENCHEN35032 HAUPTBA\\\"\", \"\\\"DB BAHN  A-NR WPG1GHINTERNET\\\"\", \"\\\"UBER JUMP HELP.UBER.COMAmsterdam\\\"\", \"\\\"EB *HERBSTTAGUNG DES G801-413-7200\\\"\", \"\\\"MUENCHNER BANK EGM}NCHEN\\\"\", \"\\\"DE KOFFIE SALON - WESTAMSTERDAM\\\"\", \"\\\"HMS Host InternationalAmsterdam\\\"\", \"\\\"MARTINOTAMSTERDAM\\\"\", \"\\\"ANMOL INDIAAS RESTAMSTERDAM\\\"\", \"\\\"DB BAHN  A-NR NVTVBVINTERNET\\\"\", \"\\\"UBER TRIP HELP.UBER.COMAmsterdam\\\"\", \"\\\"VR-BANK ERDING EGMUC\\\"\", \"\\\"UBER TRIP HELP.UBER.COMAmsterdam\\\"\", \"\\\"RED STAR AMSTERDAMAMSTERDAM\\\"\", \"\\\"SpotifyStockholm\\\"\", \"\\\"RAIFFEISENBANK M.NCH ATM.MUENCHEN\\\"\", \"\\\"DB BAHN  A-NR 4TBXGEINTERNET\\\"\", \"\\\"DB BAHN  A-NR A7HLBUINTERNET\\\"\", \"\\\"RAIFFEISENBANK M.NCH ATM.MUENCHEN\\\"\", \"\\\"DB BAHN  A-NR P4TV49INTERNET\\\"\", \"\\\"DB BAHN  A-NR 4A1SXGINTERNET\\\"\", \"\\\"COMMERZBANK ATMREGENSBURG\\\"\", \"\\\"SpotifyStockholm\\\"\", \"\\\"Lieferando.deAmsterdam\\\"\", \"\\\"Lieferando.deAmsterdam\\\"\", \"\\\"UBER TRIP HELP.UBER.COMhelp.uber.com\\\"\", \"\\\"Lieferando.deAmsterdam\\\"\", \"\\\"COMMERZBANK ATMM.NCHEN\\\"\", \"\\\"DM-Drogerie MarktMuenchen\\\"\", \"\\\"HVB, LINDWURMSTRASSE 8MUENCHEN\\\"\", \"\\\"STADT- UND KSK ERLANGENM-LUTH-PL.\\\"\", \"\\\"DB BAHN  A-NR 3P9ZVAINTERNET\\\"\", \"\\\"OMV 7240/Kiefersfelden\\\"\", \"\\\"MAUTSTELLE SCHOENBERGSCHOENBERG\\\"\", \"\\\"DB BAHN  A-NR XDLFM4INTERNET\\\"\", \"\\\"SpotifyStockholm\\\"\", \"\\\"Tankstelle Feucht OstFeucht\\\"\", \"\\\"Tankstelle Feucht OstFeucht\\\"\", \"\\\"Banyan Vietnamese RestaurMunchen\\\"\", \"\\\"EDEKA M LINDWURMST 858MUENCHEN\\\"\", \"\\\"HVB, LINDWURMSTRASSE 8MUENCHEN\\\"\", \"\\\"RESTAURANT LOSTERIAMUENCHEN\\\"\", \"\\\"DB BAHN  A-NR GTRG92INTERNET\\\"\", \"\\\"HVB, LINDWURMSTRASSE 8MUENCHEN\\\"\", \"\\\"TAKUMI GMBHMUNCHEN\\\"\", \"\\\"DB BAHN  A-NR O61YGSINTERNET\\\"\", \"\\\"ARAL STATION 191165109MUENCHEN\\\"\", \"\\\"EDEKA M LINDWURMST 858MUENCHEN\\\"\", \"\\\"OMV 5575/Ellmau\\\"\", \"\\\"DB BAHN  A-NR 84Q2YGINTERNET\\\"\", \"\\\"SPARDA-BANK MUENCHEN35033 HAUPTBA\\\"\", \"\\\"Rastanlage Samerberg SuedRohrdorf\\\"\", \"\\\"EDEKA MUENCHEN. IMPLERMUENCHEN\\\"\", \"\\\"Eni ServiceStation 7118Schladming\\\"\", \"\\\"SEESTUEBERL AICHAICH\\\"\", \"\\\"STADTSPARKASSE MUENCHENFL 007\\\"\", \"\\\"DM-Drogerie MarktMuenchen\\\"\", \"\\\"EMPRESA MUNICIPAL EMTMADRID\\\"\", \"\\\"Lieferando.deAmsterdam\\\"\", \"\\\"NINTENDO    *OF EUROPE800-255-3700\\\"\", \"\\\"REWE Markt GmbH To GoMuenchen\\\"\", \"\\\"127 TAIPEI BARMADRID\\\"\", \"\\\"MUSEO DEL PRADOMADRID\\\"\", \"\\\"MKGRANADA2GRANADA\\\"\", \"\\\"EL PIANOGRANADA\\\"\", \"\\\"HICURIGRANADA\\\"\", \"\\\"EL TABLON VERDEGRANADA\\\"\", \"\\\"RAPID EROSKIGRANADA\\\"\", \"\\\"HICURIGRANADA\\\"\", \"\\\"ESTABLECIMIENTOS PIEDRA SCORDOBA\\\"\", \"\\\"LA BOCACORDOBA\\\"\", \"\\\"SpotifyStockholm\\\"\", \"\\\"EL ENANO VERDESEVILLA\\\"\", \"\\\"HABANITASEVILLA\\\"\", \"\\\"OTEROS SPORT PUENTE Y PELSEVILLA\\\"\", \"\\\"RESTAURANTE ITALIANOSEVILLA\\\"\", \"\\\"SACATUENTRADA.ES 2 WEBCALAHORRA\\\"\", \"\\\"TABERNA DEANESCORDOBA\\\"\", \"\\\"INST.MPAL.TURISMO-PZ TRIUCORDOBA\\\"\", \"\\\"MARTIN LEBRON SLCORDOBA\\\"\", \"\\\"TRAINLINELONDON\\\"\", \"\\\"ATM 5100 B. SANTANDE1MADRID\\\"\", \"\\\"LA ENCOMIENDA VEGANAMADRID\\\"\", \"\\\"MASA MADRE VEGAN FOODMADRID\\\"\", \"\\\"RENFEMADRID\\\"\", \"\\\"MUC 342 CHECKOUTMUENCHEN FLUG\\\"\", \"\\\"MVG AUTOMATENMUENCHEN\\\"\", \"\\\"DM-Drogerie MarktMuenchen\\\"\", \"\\\"HVB, LINDWURMSTRASSE 8MUENCHEN\\\"\", \"\\\"HOTEL GOLIATH RGBREGENSBURG\\\"\", \"\\\"DB BAHN  A-NR DLZHEAINTERNET\\\"\", \"\\\"EDEKA M LINDWURMST 858MUENCHEN\\\"\", \"\\\"HVB, LINDWURMSTRASSE 8MUENCHEN\\\"\", \"\\\"Lidl Vertriebs GmbH & Co.Muenchen\\\"\", \"\\\"Lieferando.deAmsterdam\\\"\", \"\\\"EDEKA M ECHARDINGE 731MUENCHEN\\\"\", \"\\\"EDEKA M LINDWURMST 858MUENCHEN\\\"\", \"\\\"A.S.D. INTERNATIONAL KARTMONIGA DEL GA\\\"\", \"\\\"MAUTSTELLE SCHOENBERGSCHOENBERG\\\"\", \"\\\"EDEKA M LINDWURMST 858MUENCHEN\\\"\", \"\\\"STADTSPARKASSE MUENCHENFL 231\\\"\", \"\\\"AREA DI SERVIZIO LAIMBBOLZANO\\\"\", \"\\\"CARNELUTTI FEDERICODESENZANO DEL\\\"\", \"\\\"MAUTSTELLE SCHOENBERGSCHOENBERG\\\"\", \"\\\"MVG AUTOMATENMUENCHEN\\\"\", \"\\\"Lieferando.deAmsterdam\\\"\", \"\\\"OMV 5750/Vomp\\\"\", \"\\\"MC DONALDSTRENTO\\\"\", \"\\\"MC DONALDSTRENTO\\\"\", \"\\\"EDEKA MUENCHEN. IMPLERMUENCHEN\\\"\", \"\\\"OMV 7240/Kiefersfelden\\\"\", \"\\\"DB BAHN  A-NR ADC2OGINTERNET\\\"\", \"\\\"RAIFFEISENBANK M.NCH ATM.MUENCHEN\\\"\", \"\\\"SpotifyStockholm\\\"\", \"\\\"Ngoc GiaoMunchen\\\"\", \"\\\"DB BAHN  A-NR EL4Z4AINTERNET\\\"\", \"\\\"MVG AUTOMATENMUENCHEN\\\"\", \"\\\"DB BAHN  A-NR LT136DINTERNET\\\"\", \"\\\"AIRBNB14158005959\\\"\", \"\\\"Hotel Belair AGWallisellen\\\"\", \"\\\"Lieferando.deAmsterdam\\\"\", \"\\\"Coop-4899 Zurich BahnhofZurich 1 Sihl\\\"\", \"\\\"A. Durr & Co. AGZurich\\\"\", \"\\\"SBB WALLISELLENWALLISELLEN\\\"\", \"\\\"EDEKA M LINDWURMST 858MUENCHEN\\\"\", \"\\\"POSTBANK GOETHEPLATZ 1MUENCHEN>\\\"\", \"\\\"ARAL STATION 285185120MUENCHEN\\\"\", \"\\\"BP LEIKERMOSER D(T)ANKBRAUNAU\\\"\", \"\\\"RAIFFEISENBANK M.NCH ATM.MUENCHEN\\\"\", \"\\\"ALDI SUED SAGT DANKEMUENCHEN\\\"\", \"\\\"SpotifyStockholm\\\"\", \"\\\"SPARDA-BANK MUENCHEN35032 HAUPTBA\\\"\", \"\\\"EDEKA ERNST HAUPTBAHNHMUENCHEN\\\"\", \"\\\"HVB, LINDWURMSTRASSE 8MUENCHEN\\\"\", \"\\\"SPARDA-BANK MUENCHEN35033 HAUPTBA\\\"\", \"\\\"DB BAHN  A-NR YUOX9FINTERNET\\\"\", \"\\\"MAUTSTELLE ST MICHAELST.MICHAEL/LU\\\"\", \"\\\"CP HRUSICAHRUSICA\\\"\", \"\\\"H&M SHOP SI0201LJUBLJANA\\\"\", \"\\\"SPAR COPOVALJUBLJANA\\\"\", \"\\\"RESTAVRACIJA ZHONGHUALJUBLJANA\\\"\", \"\\\"BC LJUBLJANA BARJANSKALJUBLJANA\\\"\", \"\\\"OMV 2734/Eisentratten\\\"\", \"\\\"PUBLIC BAR & VEGAN KITCHEBLED\\\"\", \"\\\"MOSAIC APARTMANTSLJUBLJANA\\\"\", \"\\\"HOTEL PARKBLED\\\"\", \"\\\"Eni ServiceStation 2041Zederhaus/Kro\\\"\", \"\\\"MAUTSTELLE ROSENBACHROSENBACH\\\"\", \"\\\"MAUTSTELLE ST MICHAELST.MICHAEL/LU\\\"\", \"\\\"SpotifyStockholm\\\"\", \"\\\"RATSCHINGS JAUFENRATSCHINGS\\\"\", \"\\\"EDEKA M LINDWURMST 858MUENCHEN\\\"\", \"\\\"Sparkasse RegensburgSTEINWEG\\\"\", \"\\\"Sparkasse RegensburgPENTLING\\\"\", \"\\\"WWW.HULA-MANUFAKTUR.DEHAMBURG\\\"\", \"\\\"SpotifyStockholm\\\"\", \"\\\"Scheffau TicketScheffau\\\"\", \"\\\"SUMUP  *KANSHA GMBH & CO.MUNCHEN\\\"\", \"\\\"RAIFFEISENBANK M.NCH ATM.MUENCHEN\\\"\", \"\\\"KAUFLAND MUENCHEN NEUPERLMUENCHEN\\\"\", \"\\\"Paulaner im TalMunchen\\\"\", \"\\\"SPARDA-BANK MUENCHEN71030 SPARDA\\\"\", \"\\\"OMV 7192/F rholzen\\\"\", \"\\\"FOODORA GERMANYBerlin\\\"\", \"\\\"MYLAPS B.V.MYLAPS.COM\\\"\", \"\\\"RAIFFEISENBANK M.NCH ATM.MUENCHEN\\\"\", \"\\\"EVENTIM / TICKETSAMSTERDAM\\\"\", \"\\\"RAIFFEISENBANK M.NCH ATM.MUENCHEN\\\"\", \"\\\"858 EDEKA M LINDWURMSTMUENCHEN\\\"\", \"\\\"BANYAN RESTAURANTMUENCHEN\\\"\", \"\\\"Tankstelle 6142Mieders\\\"\", \"\\\"SpotifyStockholm\\\"\", \"\\\"SERLESLIFTE MIEDERSMIEDERS\\\"\", \"\\\"SERLESLIFTE MIEDERSMIEDERS\\\"\", \"\\\"OMV 7240/Kiefersfelden\\\"\", \"\\\"858 EDEKA M LINDWURMSTMUENCHEN\\\"\", \"\\\"BP TANKSTELLEBRAUNAU\\\"\", \"\\\"VR-BANK ROTTAL-INN EGERING 7253\\\"\", \"\\\"858 EDEKA M LINDWURMSTMUENCHEN\\\"\", \"\\\"EDEKA ERNST HAUPTBAHNHMUENCHEN\\\"\", \"\\\"HVB, LINDWURMSTRASSE 8MUENCHEN\\\"\", \"\\\"STADTSPARKASSE MUENCHENFL 098\\\"\", \"\\\"STADTSPARKASSE MUENCHENFL 181\\\"\"], \"marker\": {\"color\": \"rgb(158, 202, 225)\", \"line\": {\"color\": \"rgb(8, 48, 107)\", \"width\": 1.5}}, \"opacity\": 0.6, \"type\": \"bar\", \"x\": [\"travel\", \"travel\", \"run_costs\", \"grocery\", \"grocery\", \"run_costs\", \"run_costs\", \"run_costs\", \"goout\", \"shopping\", \"shopping\", \"shopping\", \"shopping\", \"goout\", \"run_costs\", \"travel\", \"grocery\", \"run_costs\", \"grocery\", \"property\", \"grocery\", \"grocery\", \"shopping\", \"goout\", \"run_costs\", \"grocery\", \"grocery\", \"run_costs\", \"run_costs\", \"run_costs\", \"run_costs\", \"goout\", \"run_costs\", \"grocery\", \"run_costs\", \"other\", \"grocery\", \"property\", \"grocery\", \"property\", \"run_costs\", \"grocery\", \"shopping\", \"other\", \"run_costs\", \"run_costs\", \"grocery\", \"grocery\", \"goout\", \"run_costs\", \"run_costs\", \"run_costs\", \"shopping\", \"shopping\", \"grocery\", \"grocery\", \"shopping\", \"shopping\", \"shopping\", \"run_costs\", \"grocery\", \"run_costs\", \"grocery\", \"run_costs\", \"grocery\", \"run_costs\", \"grocery\", \"grocery\", \"run_costs\", \"debt\", \"run_costs\", \"run_costs\", \"goout\", \"grocery\", \"run_costs\", \"goout\", \"travel\", \"grocery\", \"travel\", \"shopping\", \"run_costs\", \"run_costs\", \"goout\", \"property\", \"grocery\", \"grocery\", \"goout\", \"grocery\", \"grocery\", \"goout\", \"travel\", \"run_costs\", \"run_costs\", \"travel\", \"travel\", \"grocery\", \"run_costs\", \"run_costs\", \"run_costs\", \"run_costs\", \"travel\", \"travel\", \"run_costs\", \"grocery\", \"property\", \"grocery\", \"property\", \"travel\", \"run_costs\", \"shopping\", \"shopping\", \"grocery\", \"travel\", \"grocery\", \"travel\", \"travel\", \"run_costs\", \"run_costs\", \"run_costs\", \"travel\", \"shopping\", \"grocery\", \"goout\", \"shopping\", \"run_costs\", \"run_costs\", \"grocery\", \"run_costs\", \"grocery\", \"run_costs\", \"run_costs\", \"run_costs\", \"grocery\", \"debt\", \"grocery\", \"run_costs\", \"run_costs\", \"grocery\", \"travel\", \"travel\", \"travel\", \"run_costs\", \"goout\", \"property\", \"run_costs\", \"travel\", \"grocery\", \"travel\", \"grocery\", \"goout\", \"other\", \"run_costs\", \"run_costs\", \"run_costs\", \"travel\", \"run_costs\", \"grocery\", \"travel\", \"grocery\", \"travel\", \"grocery\", \"run_costs\", \"property\", \"property\", \"travel\", \"grocery\", \"run_costs\", \"other\", \"shopping\", \"run_costs\", \"run_costs\", \"grocery\", \"grocery\", \"other\", \"grocery\", \"run_costs\", \"shopping\", \"run_costs\", \"shopping\", \"run_costs\", \"goout\", \"other\", \"run_costs\", \"goout\", \"goout\", \"shopping\", \"other\", \"shopping\", \"shopping\", \"debt\", \"run_costs\", \"grocery\", \"run_costs\", \"run_costs\", \"run_costs\", \"run_costs\", \"shopping\", \"property\", \"run_costs\", \"other\", \"grocery\", \"run_costs\", \"grocery\", \"run_costs\", \"property\", \"run_costs\", \"run_costs\", \"grocery\", \"grocery\", \"run_costs\", \"travel\", \"run_costs\", \"run_costs\", \"property\", \"shopping\", \"shopping\", \"shopping\", \"grocery\", \"travel\", \"shopping\", \"goout\", \"travel\", \"run_costs\", \"shopping\", \"run_costs\", \"run_costs\", \"grocery\", \"grocery\", \"grocery\", \"shopping\", \"run_costs\", \"run_costs\", \"run_costs\", \"grocery\", \"grocery\", \"shopping\", \"grocery\", \"other\", \"shopping\", \"grocery\", \"debt\", \"shopping\", \"travel\", \"travel\", \"shopping\", \"grocery\", \"run_costs\", \"shopping\", \"grocery\", \"goout\", \"cash\", \"travel\", \"cash\", \"cash\", \"goout\", \"cash\", \"run_costs\", \"cash\", \"cash\", \"cash\", \"cash\", \"goout\", \"goout\", \"travel\", \"travel\", \"cash\", \"goout\", \"cash\", \"run_costs\", \"goout\", \"travel\", \"cash\", \"travel\", \"travel\", \"travel\", \"cash\", \"travel\", \"goout\", \"other\", \"cash\", \"travel\", \"travel\", \"travel\", \"travel\", \"travel\", \"goout\", \"cash\", \"goout\", \"travel\", \"run_costs\", \"cash\", \"travel\", \"travel\", \"cash\", \"travel\", \"travel\", \"cash\", \"run_costs\", \"travel\", \"travel\", \"goout\", \"travel\", \"cash\", \"grocery\", \"cash\", \"cash\", \"travel\", \"travel\", \"travel\", \"travel\", \"run_costs\", \"travel\", \"travel\", \"goout\", \"grocery\", \"cash\", \"goout\", \"travel\", \"cash\", \"goout\", \"travel\", \"travel\", \"grocery\", \"travel\", \"travel\", \"cash\", \"travel\", \"grocery\", \"travel\", \"goout\", \"cash\", \"grocery\", \"travel\", \"travel\", \"shopping\", \"grocery\", \"travel\", \"travel\", \"travel\", \"travel\", \"travel\", \"travel\", \"travel\", \"travel\", \"travel\", \"travel\", \"run_costs\", \"travel\", \"travel\", \"travel\", \"goout\", \"travel\", \"travel\", \"travel\", \"travel\", \"travel\", \"travel\", \"travel\", \"travel\", \"travel\", \"travel\", \"travel\", \"grocery\", \"cash\", \"travel\", \"travel\", \"grocery\", \"cash\", \"grocery\", \"travel\", \"grocery\", \"grocery\", \"travel\", \"travel\", \"grocery\", \"cash\", \"travel\", \"travel\", \"travel\", \"travel\", \"travel\", \"travel\", \"goout\", \"goout\", \"grocery\", \"travel\", \"travel\", \"cash\", \"run_costs\", \"goout\", \"travel\", \"travel\", \"travel\", \"travel\", \"travel\", \"travel\", \"travel\", \"travel\", \"travel\", \"grocery\", \"cash\", \"travel\", \"travel\", \"cash\", \"grocery\", \"run_costs\", \"cash\", \"grocery\", \"cash\", \"cash\", \"travel\", \"travel\", \"travel\", \"travel\", \"travel\", \"travel\", \"travel\", \"travel\", \"travel\", \"travel\", \"travel\", \"travel\", \"travel\", \"travel\", \"run_costs\", \"travel\", \"grocery\", \"cash\", \"cash\", \"shopping\", \"run_costs\", \"travel\", \"goout\", \"cash\", \"grocery\", \"goout\", \"cash\", \"travel\", \"grocery\", \"travel\", \"cash\", \"travel\", \"cash\", \"grocery\", \"goout\", \"travel\", \"run_costs\", \"travel\", \"travel\", \"travel\", \"grocery\", \"travel\", \"cash\", \"grocery\", \"grocery\", \"cash\", \"cash\", \"cash\"], \"y\": [-52.25, -33.78, -15.0, -11.47, -5.25, -2160.0, -714.55, -27.5, -25.0, -22.0, -13.98, -29.9, -24.6, -14.0, -50.0, -505.22, -30.0, -29.89, -14.27, -81.0, -16.27, -15.22, -8.59, -50.0, -50.0, -11.28, -14.0, -10.9, -15.0, -714.55, -27.5, -31.0, -50.0, -6.68, -29.89, -1000.0, -11.24, -17.43, -12.39, -10.58, -50.0, -6.98, -6.99, -6.4, -470.0, -15.0, -11.93, -8.15, -5.6, -714.55, -50.0, -27.5, -13.51, -13.39, -7.0, -23.46, -5.99, -174.9, -69.95, -29.89, -54.98, -630.0, -39.99, -50.0, -15.09, -25.92, -14.01, -39.99, -15.0, -315.0, -50.0, -714.55, -42.0, -39.99, -27.5, -28.0, -46.94, -16.02, -45.0, -99.0, -50.0, -29.89, -29.0, -81.0, -11.77, -16.38, -28.58, -15.39, -20.7, -24.0, -6.7, -50.0, -15.0, -5.5, -286.0, -9.0, -714.55, -27.5, -50.0, -51.92, -15.0, -32.9, -29.89, -8.2, -10.59, -10.68, -17.43, -60.0, -50.0, -153.89, -103.88, -39.99, -57.69, -11.79, -76.81, -53.47, -714.55, -50.0, -27.5, -11.36, -13.99, -11.57, -53.0, -56.26, -50.0, -29.89, -18.29, -54.75, -31.99, -15.0, -90.0, -50.0, -21.12, -315.0, -155.44, -714.55, -27.5, -286.05, -27.57, -355.0, -109.45, -29.89, -28.58, -81.0, -15.0, -31.0, -31.99, -64.96, -49.15, -40.0, -20.0, -714.55, -50.0, -27.5, -211.5, -29.89, -5.26, -473.0, -6.64, -78.39, -18.04, -15.0, -17.43, -10.59, -3.0, -13.45, -50.0, -3000.0, -26.22, -714.55, -27.5, -10.24, -31.99, -440.0, -20.01, -50.0, -228.11, -29.89, -16.99, -15.0, -23.0, -2404.0, -50.0, -35.0, -17.0, -29.99, -12.0, -133.39, -47.76, -315.0, -50.0, -19.73, -714.55, -27.5, -15.0, -29.89, -129.9, -81.0, -50.0, -13.0, -16.74, -90.0, -31.99, -50.0, -17.43, -714.55, -27.5, -12.34, -7.17, -50.0, -45.65, -15.0, -29.89, -10.59, -36.99, -9.49, -20.22, -10.65, -64.02, -29.99, -6.9, -62.51, -50.0, -9.99, -714.55, -27.5, -16.44, -21.47, -14.61, -3.95, -15.0, -50.0, -29.89, -12.91, -89.7, -8.99, -8.76, -198.0, -45.98, -5.19, -315.0, -80.48, -61.53, -50.2, -21.98, -18.98, -15.0, -8.99, -12.63, -5.25, -90.0, -26.0, -90.0, -90.0, -5.2, -90.0, -9.99, -80.0, -90.0, -90.0, -90.0, -1.0, -15.82, -25.0, -8.7, -50.0, -36.0, -90.0, -9.99, -16.46, -19.9, -100.0, -11.6, -425.0, -25.0, -100.0, -11.6, -3.8, -80.0, -100.0, -16.15, -4.55, -37.1, -35.0, -11.6, -6.0, -100.0, -31.62, -30.0, -9.99, -100.0, -32.0, -25.0, -100.0, -27.0, -25.0, -100.0, -9.99, -17.0, -34.9, -6.54, -15.7, -100.0, -10.6, -100.0, -100.0, -36.9, -9.2, -9.5, -25.0, -9.99, -0.7, -2.5, -76.0, -5.27, -100.0, -21.0, -2.9, -100.0, -46.0, -8.9, -10.94, -8.45, -38.59, -2.9, -100.0, -2.98, -15.46, -41.84, -120.0, -50.0, -13.85, -10.0, -21.8, -14.99, -7.7, -19.6, -30.0, -17.37, -21.9, -27.9, -26.05, -4.29, -33.0, -5.16, -30.0, -9.99, -24.0, -32.5, -44.99, -27.0, -25.0, -24.0, -13.0, -2.47, -107.35, -202.0, -23.0, -23.0, -23.0, -13.9, -11.6, -3.95, -150.0, -302.0, -25.0, -23.02, -100.0, -17.15, -25.1, -40.99, -7.81, -80.0, -9.5, -10.69, -100.0, -66.64, -30.0, -9.5, -2.9, -27.6, -58.35, -5.25, -1.2, -34.89, -12.24, -32.0, -200.0, -9.99, -43.0, -5.8, -3.0, -2.9, -441.22, -127.51, -33.2, -4.13, -6.85, -5.97, -10.71, -200.0, -14.98, -46.95, -100.0, -4.87, -9.99, -200.0, -34.88, -100.0, -100.0, -32.0, -12.0, -7.4, -31.09, -3.3, -26.1, -47.8, -33.86, -25.8, -90.52, -150.0, -30.0, -7.4, -12.0, -9.99, -104.0, -8.23, -400.0, -100.0, -56.0, -9.99, -102.0, -88.0, -100.0, -13.95, -29.0, -100.0, -4.19, -17.8, -80.31, -100.0, -47.4, -100.0, -9.5, -60.0, -40.63, -9.99, -48.0, -45.0, -12.99, -25.67, -34.3, -100.0, -16.2, -5.48, -100.0, -50.0, -50.0]}],\n",
       "                        {\"template\": {\"data\": {\"bar\": [{\"error_x\": {\"color\": \"#2a3f5f\"}, \"error_y\": {\"color\": \"#2a3f5f\"}, \"marker\": {\"line\": {\"color\": \"#E5ECF6\", \"width\": 0.5}}, \"type\": \"bar\"}], \"barpolar\": [{\"marker\": {\"line\": {\"color\": \"#E5ECF6\", \"width\": 0.5}}, \"type\": \"barpolar\"}], \"carpet\": [{\"aaxis\": {\"endlinecolor\": \"#2a3f5f\", \"gridcolor\": \"white\", \"linecolor\": \"white\", \"minorgridcolor\": \"white\", \"startlinecolor\": \"#2a3f5f\"}, \"baxis\": {\"endlinecolor\": \"#2a3f5f\", \"gridcolor\": \"white\", \"linecolor\": \"white\", \"minorgridcolor\": \"white\", \"startlinecolor\": \"#2a3f5f\"}, \"type\": \"carpet\"}], \"choropleth\": [{\"colorbar\": {\"outlinewidth\": 0, \"ticks\": \"\"}, \"type\": \"choropleth\"}], \"contour\": [{\"colorbar\": {\"outlinewidth\": 0, \"ticks\": \"\"}, \"colorscale\": [[0.0, \"#0d0887\"], [0.1111111111111111, \"#46039f\"], [0.2222222222222222, \"#7201a8\"], [0.3333333333333333, \"#9c179e\"], [0.4444444444444444, \"#bd3786\"], [0.5555555555555556, \"#d8576b\"], [0.6666666666666666, \"#ed7953\"], [0.7777777777777778, \"#fb9f3a\"], [0.8888888888888888, \"#fdca26\"], [1.0, \"#f0f921\"]], \"type\": \"contour\"}], \"contourcarpet\": [{\"colorbar\": {\"outlinewidth\": 0, \"ticks\": \"\"}, \"type\": \"contourcarpet\"}], \"heatmap\": [{\"colorbar\": {\"outlinewidth\": 0, \"ticks\": \"\"}, \"colorscale\": [[0.0, \"#0d0887\"], [0.1111111111111111, \"#46039f\"], [0.2222222222222222, \"#7201a8\"], [0.3333333333333333, \"#9c179e\"], [0.4444444444444444, \"#bd3786\"], [0.5555555555555556, \"#d8576b\"], [0.6666666666666666, \"#ed7953\"], [0.7777777777777778, \"#fb9f3a\"], [0.8888888888888888, \"#fdca26\"], [1.0, \"#f0f921\"]], \"type\": \"heatmap\"}], \"heatmapgl\": [{\"colorbar\": {\"outlinewidth\": 0, \"ticks\": \"\"}, \"colorscale\": [[0.0, \"#0d0887\"], [0.1111111111111111, \"#46039f\"], [0.2222222222222222, \"#7201a8\"], [0.3333333333333333, \"#9c179e\"], [0.4444444444444444, \"#bd3786\"], [0.5555555555555556, \"#d8576b\"], [0.6666666666666666, \"#ed7953\"], [0.7777777777777778, \"#fb9f3a\"], [0.8888888888888888, \"#fdca26\"], [1.0, \"#f0f921\"]], \"type\": \"heatmapgl\"}], \"histogram\": [{\"marker\": {\"colorbar\": {\"outlinewidth\": 0, \"ticks\": \"\"}}, \"type\": \"histogram\"}], \"histogram2d\": [{\"colorbar\": {\"outlinewidth\": 0, \"ticks\": \"\"}, \"colorscale\": [[0.0, \"#0d0887\"], [0.1111111111111111, \"#46039f\"], [0.2222222222222222, \"#7201a8\"], [0.3333333333333333, \"#9c179e\"], [0.4444444444444444, \"#bd3786\"], [0.5555555555555556, \"#d8576b\"], [0.6666666666666666, \"#ed7953\"], [0.7777777777777778, \"#fb9f3a\"], [0.8888888888888888, \"#fdca26\"], [1.0, \"#f0f921\"]], \"type\": \"histogram2d\"}], \"histogram2dcontour\": [{\"colorbar\": {\"outlinewidth\": 0, \"ticks\": \"\"}, \"colorscale\": [[0.0, \"#0d0887\"], [0.1111111111111111, \"#46039f\"], [0.2222222222222222, \"#7201a8\"], [0.3333333333333333, \"#9c179e\"], [0.4444444444444444, \"#bd3786\"], [0.5555555555555556, \"#d8576b\"], [0.6666666666666666, \"#ed7953\"], [0.7777777777777778, \"#fb9f3a\"], [0.8888888888888888, \"#fdca26\"], [1.0, \"#f0f921\"]], \"type\": \"histogram2dcontour\"}], \"mesh3d\": [{\"colorbar\": {\"outlinewidth\": 0, \"ticks\": \"\"}, \"type\": \"mesh3d\"}], \"parcoords\": [{\"line\": {\"colorbar\": {\"outlinewidth\": 0, \"ticks\": \"\"}}, \"type\": \"parcoords\"}], \"scatter\": [{\"marker\": {\"colorbar\": {\"outlinewidth\": 0, \"ticks\": \"\"}}, \"type\": \"scatter\"}], \"scatter3d\": [{\"line\": {\"colorbar\": {\"outlinewidth\": 0, \"ticks\": \"\"}}, \"marker\": {\"colorbar\": {\"outlinewidth\": 0, \"ticks\": \"\"}}, \"type\": \"scatter3d\"}], \"scattercarpet\": [{\"marker\": {\"colorbar\": {\"outlinewidth\": 0, \"ticks\": \"\"}}, \"type\": \"scattercarpet\"}], \"scattergeo\": [{\"marker\": {\"colorbar\": {\"outlinewidth\": 0, \"ticks\": \"\"}}, \"type\": \"scattergeo\"}], \"scattergl\": [{\"marker\": {\"colorbar\": {\"outlinewidth\": 0, \"ticks\": \"\"}}, \"type\": \"scattergl\"}], \"scattermapbox\": [{\"marker\": {\"colorbar\": {\"outlinewidth\": 0, \"ticks\": \"\"}}, \"type\": \"scattermapbox\"}], \"scatterpolar\": [{\"marker\": {\"colorbar\": {\"outlinewidth\": 0, \"ticks\": \"\"}}, \"type\": \"scatterpolar\"}], \"scatterpolargl\": [{\"marker\": {\"colorbar\": {\"outlinewidth\": 0, \"ticks\": \"\"}}, \"type\": \"scatterpolargl\"}], \"scatterternary\": [{\"marker\": {\"colorbar\": {\"outlinewidth\": 0, \"ticks\": \"\"}}, \"type\": \"scatterternary\"}], \"surface\": [{\"colorbar\": {\"outlinewidth\": 0, \"ticks\": \"\"}, \"colorscale\": [[0.0, \"#0d0887\"], [0.1111111111111111, \"#46039f\"], [0.2222222222222222, \"#7201a8\"], [0.3333333333333333, \"#9c179e\"], [0.4444444444444444, \"#bd3786\"], [0.5555555555555556, \"#d8576b\"], [0.6666666666666666, \"#ed7953\"], [0.7777777777777778, \"#fb9f3a\"], [0.8888888888888888, \"#fdca26\"], [1.0, \"#f0f921\"]], \"type\": \"surface\"}], \"table\": [{\"cells\": {\"fill\": {\"color\": \"#EBF0F8\"}, \"line\": {\"color\": \"white\"}}, \"header\": {\"fill\": {\"color\": \"#C8D4E3\"}, \"line\": {\"color\": \"white\"}}, \"type\": \"table\"}]}, \"layout\": {\"annotationdefaults\": {\"arrowcolor\": \"#2a3f5f\", \"arrowhead\": 0, \"arrowwidth\": 1}, \"colorscale\": {\"diverging\": [[0, \"#8e0152\"], [0.1, \"#c51b7d\"], [0.2, \"#de77ae\"], [0.3, \"#f1b6da\"], [0.4, \"#fde0ef\"], [0.5, \"#f7f7f7\"], [0.6, \"#e6f5d0\"], [0.7, \"#b8e186\"], [0.8, \"#7fbc41\"], [0.9, \"#4d9221\"], [1, \"#276419\"]], \"sequential\": [[0.0, \"#0d0887\"], [0.1111111111111111, \"#46039f\"], [0.2222222222222222, \"#7201a8\"], [0.3333333333333333, \"#9c179e\"], [0.4444444444444444, \"#bd3786\"], [0.5555555555555556, \"#d8576b\"], [0.6666666666666666, \"#ed7953\"], [0.7777777777777778, \"#fb9f3a\"], [0.8888888888888888, \"#fdca26\"], [1.0, \"#f0f921\"]], \"sequentialminus\": [[0.0, \"#0d0887\"], [0.1111111111111111, \"#46039f\"], [0.2222222222222222, \"#7201a8\"], [0.3333333333333333, \"#9c179e\"], [0.4444444444444444, \"#bd3786\"], [0.5555555555555556, \"#d8576b\"], [0.6666666666666666, \"#ed7953\"], [0.7777777777777778, \"#fb9f3a\"], [0.8888888888888888, \"#fdca26\"], [1.0, \"#f0f921\"]]}, \"colorway\": [\"#636efa\", \"#EF553B\", \"#00cc96\", \"#ab63fa\", \"#FFA15A\", \"#19d3f3\", \"#FF6692\", \"#B6E880\", \"#FF97FF\", \"#FECB52\"], \"font\": {\"color\": \"#2a3f5f\"}, \"geo\": {\"bgcolor\": \"white\", \"lakecolor\": \"white\", \"landcolor\": \"#E5ECF6\", \"showlakes\": true, \"showland\": true, \"subunitcolor\": \"white\"}, \"hoverlabel\": {\"align\": \"left\"}, \"hovermode\": \"closest\", \"mapbox\": {\"style\": \"light\"}, \"paper_bgcolor\": \"white\", \"plot_bgcolor\": \"#E5ECF6\", \"polar\": {\"angularaxis\": {\"gridcolor\": \"white\", \"linecolor\": \"white\", \"ticks\": \"\"}, \"bgcolor\": \"#E5ECF6\", \"radialaxis\": {\"gridcolor\": \"white\", \"linecolor\": \"white\", \"ticks\": \"\"}}, \"scene\": {\"xaxis\": {\"backgroundcolor\": \"#E5ECF6\", \"gridcolor\": \"white\", \"gridwidth\": 2, \"linecolor\": \"white\", \"showbackground\": true, \"ticks\": \"\", \"zerolinecolor\": \"white\"}, \"yaxis\": {\"backgroundcolor\": \"#E5ECF6\", \"gridcolor\": \"white\", \"gridwidth\": 2, \"linecolor\": \"white\", \"showbackground\": true, \"ticks\": \"\", \"zerolinecolor\": \"white\"}, \"zaxis\": {\"backgroundcolor\": \"#E5ECF6\", \"gridcolor\": \"white\", \"gridwidth\": 2, \"linecolor\": \"white\", \"showbackground\": true, \"ticks\": \"\", \"zerolinecolor\": \"white\"}}, \"shapedefaults\": {\"line\": {\"color\": \"#2a3f5f\"}}, \"ternary\": {\"aaxis\": {\"gridcolor\": \"white\", \"linecolor\": \"white\", \"ticks\": \"\"}, \"baxis\": {\"gridcolor\": \"white\", \"linecolor\": \"white\", \"ticks\": \"\"}, \"bgcolor\": \"#E5ECF6\", \"caxis\": {\"gridcolor\": \"white\", \"linecolor\": \"white\", \"ticks\": \"\"}}, \"title\": {\"x\": 0.05}, \"xaxis\": {\"automargin\": true, \"gridcolor\": \"white\", \"linecolor\": \"white\", \"ticks\": \"\", \"zerolinecolor\": \"white\", \"zerolinewidth\": 2}, \"yaxis\": {\"automargin\": true, \"gridcolor\": \"white\", \"linecolor\": \"white\", \"ticks\": \"\", \"zerolinecolor\": \"white\", \"zerolinewidth\": 2}}}, \"title\": {\"text\": \"Expenses\"}},\n",
       "                        {\"responsive\": true}\n",
       "                    ).then(function(){\n",
       "                            \n",
       "var gd = document.getElementById('44ccc1ac-bc13-4629-a8fc-e7ced77f63f8');\n",
       "var x = new MutationObserver(function (mutations, observer) {{\n",
       "        var display = window.getComputedStyle(gd).display;\n",
       "        if (!display || display === 'none') {{\n",
       "            console.log([gd, 'removed!']);\n",
       "            Plotly.purge(gd);\n",
       "            observer.disconnect();\n",
       "        }}\n",
       "}});\n",
       "\n",
       "// Listen for the removal of the full notebook cells\n",
       "var notebookContainer = gd.closest('#notebook-container');\n",
       "if (notebookContainer) {{\n",
       "    x.observe(notebookContainer, {childList: true});\n",
       "}}\n",
       "\n",
       "// Listen for the clearing of the current output cell\n",
       "var outputEl = gd.closest('.output');\n",
       "if (outputEl) {{\n",
       "    x.observe(outputEl, {childList: true});\n",
       "}}\n",
       "\n",
       "                        })\n",
       "                };\n",
       "                });\n",
       "            </script>\n",
       "        </div>"
      ]
     },
     "metadata": {},
     "output_type": "display_data"
    }
   ],
   "source": [
    "fig = go.Figure()\n",
    "\n",
    "fig.add_trace(go.Bar(\n",
    "    x = df['cluster'], \n",
    "    y = df['amount'], \n",
    "    hovertext = df['text'], \n",
    "    hoverinfo = \"text\", \n",
    "    marker_color = 'rgb(158, 202, 225)', \n",
    "    marker_line_color = 'rgb(8, 48, 107)',\n",
    "    marker_line_width = 1.5, \n",
    "    opacity = 0.6\n",
    "))\n",
    "\n",
    "fig.update_layout(title_text = 'Expenses')\n",
    "\n",
    "\n",
    "fig.show()"
   ]
  }
 ],
 "metadata": {
  "kernelspec": {
   "display_name": "Python 3",
   "language": "python",
   "name": "python3"
  },
  "language_info": {
   "codemirror_mode": {
    "name": "ipython",
    "version": 3
   },
   "file_extension": ".py",
   "mimetype": "text/x-python",
   "name": "python",
   "nbconvert_exporter": "python",
   "pygments_lexer": "ipython3",
   "version": "3.7.2"
  },
  "varInspector": {
   "cols": {
    "lenName": 16,
    "lenType": 16,
    "lenVar": 40
   },
   "kernels_config": {
    "python": {
     "delete_cmd_postfix": "",
     "delete_cmd_prefix": "del ",
     "library": "var_list.py",
     "varRefreshCmd": "print(var_dic_list())"
    },
    "r": {
     "delete_cmd_postfix": ") ",
     "delete_cmd_prefix": "rm(",
     "library": "var_list.r",
     "varRefreshCmd": "cat(var_dic_list()) "
    }
   },
   "types_to_exclude": [
    "module",
    "function",
    "builtin_function_or_method",
    "instance",
    "_Feature"
   ],
   "window_display": false
  }
 },
 "nbformat": 4,
 "nbformat_minor": 2
}
