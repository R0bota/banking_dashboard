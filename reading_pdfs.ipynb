{
 "cells": [
  {
   "cell_type": "code",
   "execution_count": 6,
   "metadata": {},
   "outputs": [
    {
     "name": "stdout",
     "output_type": "stream",
     "text": [
      "4\n",
      "DEUTSCHE KREDITBANK AGTAUBENSTRASSE 7-910117 BERLINIBAN: DE15120300001032515684BIC: BYLADEM1001USt-ID: DE137178746Seite 1 von 4Deutsche Kreditbank, Taubenstr. 7-9, 10117 BerlinRobert Hagerc/o RenkerHäberlstr. 1780337 MÜNCHENDKB-CashIHR DISPOKREDIT EUR 2.000,00Kontoauszug Nummer 001 / 2019 vom 29.12.2018 bis 04.01.2019Kontonummer 1032515684 / IBAN DE15 1203 0000 1032 5156 84Bu.TagGutschrift in EURBelastung in EURWertWir haben für Sie gebucht02.01.02.01.KartenzahlungARAL AGSVWZ+2018-12-29T00.48 Debit k.0 2022-12 ABWA+AralTankstelle Schier ling Dieselstrase 16//Schie rling/DE50,2002.01.02.01.BasislastschriftE-Plus Service GmbHEREF+338443240 MREF+T009000100000003063782 39CRED+DE21ZZZ00000079131 SVWZ+Aufladung beigeringem Guthaben fuer Ihr Prepaid- Konto4915730733922-8429. A ldi Talk sagt DANKE15,0002.01.02.01.KartenzahlungARAL AGSVWZ+2018-12-28T19.36 Debit k.0 2022-12 ABWA+AralTankstelle Regens burg Augsburger Strase 32//Regensburg/DE61,5302.01.02.01.BasislastschriftAMAZON PAYMENTS EUROPE S.C. A.EREF+3036434762421392MREF+Gm4oPr5,UhIHUowXtb3XdQ W))Bh OLCRED+DE94ZZZ00000561653 SVWZ+302-9725122-0476323 AM ZN Mktp DE 303643476242139221,9802.01.02.01.KartenzahlungNAHKAUF FRISCHEMARKTSVWZ+2018-12-29T13.57 Debit k.0 2022-12ABWA+NAHKAUF FRISCHEMARKT// Muenchen/DE18,9802.01.02.01.BasislastschriftAMAZON PAYMENTS EUROPE S.C. A.EREF+6173029520454028MREF+Gm4oPr5,UhIHUowXtb3XdQ W))Bh OLCRED+DE94ZZZ00000561653 SVWZ+302-0729761-3672318 AM ZN Mktp DE 617302952045402880,4802.01.02.01.BasislastschriftBundeskasse in HalleEREF+55207616398 MREF+DARL05520761639809042017 CRED+DE09ZZZ00000000001 SVWZ+BUKA HALLEDARLEHEN 55 207616398315,0002.01.02.01.ZahlungseingangBENJAMIN KAMMERECKSVWZ+MSC JGA80,0002.01.02.01.ZahlungseingangHelmut Matejka315,00\n"
     ]
    }
   ],
   "source": [
    "# loading libraries\n",
    "import PyPDF2\n",
    "\n",
    "# creating an object \n",
    "file = open('data/Kontoauszug_1032515684_Nr_2019_001_per_2019_01_04.pdf', 'rb')\n",
    "\n",
    "# creating a pdf reader object\n",
    "fileReader = PyPDF2.PdfFileReader(file)\n",
    "\n",
    "# print the number of pages in pdf file\n",
    "print(fileReader.numPages)\n",
    "\n",
    "page = fileReader.getPage(0)\n",
    "page_content = page.extractText()\n",
    "print(page_content)"
   ]
  },
  {
   "cell_type": "code",
   "execution_count": 11,
   "metadata": {},
   "outputs": [
    {
     "name": "stdout",
     "output_type": "stream",
     "text": [
      "KartenzahlungARAL AG\n"
     ]
    }
   ],
   "source": [
    "import tabula\n",
    "\n",
    "#df = tabula.read_pdf('data/Kontoauszug_1032515684_Nr_2019_001_per_2019_01_04.pdf')\n",
    "\n",
    "df.columns\n",
    "df.size\n",
    "#print(df)\n",
    "print(df.iloc[0,2] + df.iloc[1,2])"
   ]
  }
 ],
 "metadata": {
  "kernelspec": {
   "display_name": "Python 3",
   "language": "python",
   "name": "python3"
  },
  "language_info": {
   "codemirror_mode": {
    "name": "ipython",
    "version": 3
   },
   "file_extension": ".py",
   "mimetype": "text/x-python",
   "name": "python",
   "nbconvert_exporter": "python",
   "pygments_lexer": "ipython3",
   "version": "3.7.0"
  }
 },
 "nbformat": 4,
 "nbformat_minor": 2
}
